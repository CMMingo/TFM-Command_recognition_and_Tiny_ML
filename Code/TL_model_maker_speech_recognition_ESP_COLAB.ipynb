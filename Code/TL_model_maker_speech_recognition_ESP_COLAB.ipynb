{
 "cells": [
  {
   "cell_type": "markdown",
   "metadata": {},
   "source": [
    "# Transfer learning with Model Maker - Speech recognition (ESP)\n",
    "\n",
    "En este notebook (a ejecutar en Colab) se lleva a cabo el transfer learning sobre un modelo de reconocimiento de lenguaje en forma de detección de palabras de activación. La mayoría de código está redactado por TensorFlow y es público, pero hay otra parte escrita por mí (como la cuantización del modelo y la forma de llevar a cabo inferencia con el modelo cuantizado).\n",
    "\n",
    "*Había un fallo a la hora de generar la matriz de confusión que he corregido en este script"
   ]
  },
  {
   "cell_type": "markdown",
   "metadata": {
    "id": "3XX46cTrh6iD"
   },
   "source": [
    "##### Copyright 2022 The TensorFlow Authors."
   ]
  },
  {
   "cell_type": "code",
   "execution_count": 1,
   "metadata": {
    "cellView": "form",
    "id": "sKrlWr6Kh-mF"
   },
   "outputs": [],
   "source": [
    "#@title Licensed under the Apache License, Version 2.0 (the \"License\");\n",
    "# you may not use this file except in compliance with the License.\n",
    "# You may obtain a copy of the License at\n",
    "#\n",
    "# https://www.apache.org/licenses/LICENSE-2.0\n",
    "#\n",
    "# Unless required by applicable law or agreed to in writing, software\n",
    "# distributed under the License is distributed on an \"AS IS\" BASIS,\n",
    "# WITHOUT WARRANTIES OR CONDITIONS OF ANY KIND, either express or implied.\n",
    "# See the License for the specific language governing permissions and\n",
    "# limitations under the License."
   ]
  },
  {
   "cell_type": "markdown",
   "metadata": {
    "id": "hST65kOHXpiL"
   },
   "source": [
    "# Retrain a speech recognition model with TensorFlow Lite Model Maker\n"
   ]
  },
  {
   "cell_type": "markdown",
   "metadata": {
    "id": "nShlCXGkbRVA"
   },
   "source": [
    "<table class=\"tfo-notebook-buttons\" align=\"left\">\n",
    "  <td>\n",
    "    <a target=\"_blank\" href=\"https://www.tensorflow.org/lite/models/modify/model_maker/speech_recognition\"><img src=\"https://www.tensorflow.org/images/tf_logo_32px.png\" />View on TensorFlow.org</a>\n",
    "  </td>\n",
    "  <td>\n",
    "    <a target=\"_blank\" href=\"https://colab.research.google.com/github/tensorflow/tensorflow/blob/master/tensorflow/lite/g3doc/models/modify/model_maker/speech_recognition.ipynb\"><img src=\"https://www.tensorflow.org/images/colab_logo_32px.png\" />Run in Google Colab</a>\n",
    "  </td>\n",
    "  <td>\n",
    "    <a target=\"_blank\" href=\"https://github.com/tensorflow/tensorflow/blob/master/tensorflow/lite/g3doc/models/modify/model_maker/speech_recognition.ipynb\"><img src=\"https://www.tensorflow.org/images/GitHub-Mark-32px.png\" />View source on GitHub</a>\n",
    "  </td>\n",
    "  <td>\n",
    "    <a href=\"https://storage.googleapis.com/tensorflow_docs/tensorflow/tensorflow/lite/g3doc/models/modify/model_maker/speech_recognition.ipynb\"><img src=\"https://www.tensorflow.org/images/download_logo_32px.png\" />Download notebook</a>\n",
    "  </td>\n",
    "\n",
    "</table>"
   ]
  },
  {
   "cell_type": "markdown",
   "metadata": {
    "id": "BB5k6xNKJ5Xe"
   },
   "source": [
    "\n",
    "In this colab notebook, you'll learn how to use the [TensorFlow Lite Model Maker](https://www.tensorflow.org/lite/models/modify/model_maker) to train a speech recognition model that can classify spoken words or short phrases using one-second sound samples. The Model Maker library uses transfer learning to retrain an existing TensorFlow model with a new dataset, which reduces the amount of sample data and time required for training. \n",
    "\n",
    "By default, this notebook retrains the model (BrowserFft, from the [TFJS Speech Command Recognizer](https://github.com/tensorflow/tfjs-models/tree/master/speech-commands#speech-command-recognizer)) using a subset of words from the [speech commands dataset](https://www.tensorflow.org/datasets/catalog/speech_commands) (such as \"up\", \"down\", \"left\", and \"right\"). Then it exports a TFLite model that you can run on a mobile device or embedded system (such as a Raspberry Pi). It also exports the trained model as a TensorFlow SavedModel.\n",
    "\n",
    "This notebook is also designed to accept a custom dataset of WAV files, uploaded to Colab in a ZIP file. The more samples you have for each class, the better your accuracy will be, but because the transfer learning process uses feature embeddings from the pre-trained model, you can still get a fairly accurate model with only a few dozen samples in each of your classes.\n",
    "\n",
    "**Note:** The model we'll be training is optimized for speech recognition with one-second samples. If you want to perform more generic audio classification (such as detecting different types of music), we suggest you instead follow [this Colab to retrain an audio classifier](https://colab.sandbox.google.com/github/tensorflow/tensorflow/blob/master/tensorflow/lite/g3doc/models/modify/model_maker/audio_classification.ipynb).\n",
    "\n",
    "If you want to run the notebook with the default speech dataset, you can run the whole thing now by clicking **Runtime > Run all** in the Colab toolbar. However, if you want to use your own dataset, then continue down to [Prepare the dataset](#scrollTo=cBsSAeYLkc1Z) and follow the instructions there.\n"
   ]
  },
  {
   "cell_type": "markdown",
   "metadata": {
    "id": "AeZZ_cSsZfPx"
   },
   "source": [
    "### Import the required packages\n"
   ]
  },
  {
   "cell_type": "markdown",
   "metadata": {
    "id": "MelHQlE7FVue"
   },
   "source": [
    "You\"ll need TensorFlow, TFLite Model Maker, and some modules for audio manipulation, playback, and visualizations."
   ]
  },
  {
   "cell_type": "code",
   "execution_count": 2,
   "metadata": {
    "colab": {
     "base_uri": "https://localhost:8080/"
    },
    "id": "wbMc4vHjaYdQ",
    "outputId": "718746f9-e9cd-4f7c-e4c5-3166e31f5d9d"
   },
   "outputs": [
    {
     "name": "stdout",
     "output_type": "stream",
     "text": [
      "Reading package lists... Done\n",
      "Building dependency tree       \n",
      "Reading state information... Done\n",
      "libportaudio2 is already the newest version (19.6.0-1).\n",
      "The following package was automatically installed and is no longer required:\n",
      "  libnvidia-common-460\n",
      "Use 'sudo apt autoremove' to remove it.\n",
      "0 upgraded, 0 newly installed, 0 to remove and 18 not upgraded.\n",
      "Looking in indexes: https://pypi.org/simple, https://us-python.pkg.dev/colab-wheels/public/simple/\n",
      "Collecting tensorflow==2.8\n",
      "  Downloading https://us-python.pkg.dev/colab-wheels/public/tensorflow/tensorflow-2.8.0%2Bzzzcolab20220506162203-cp37-cp37m-linux_x86_64.whl (668.3 MB)\n",
      "\u001b[K     |████████████████████████████████| 668.3 MB 18 kB/s \n",
      "\u001b[?25hRequirement already satisfied: flatbuffers>=1.12 in /usr/local/lib/python3.7/dist-packages (from tensorflow==2.8) (1.12)\n",
      "Requirement already satisfied: termcolor>=1.1.0 in /usr/local/lib/python3.7/dist-packages (from tensorflow==2.8) (1.1.0)\n",
      "Requirement already satisfied: tensorflow-io-gcs-filesystem>=0.23.1 in /usr/local/lib/python3.7/dist-packages (from tensorflow==2.8) (0.26.0)\n",
      "Requirement already satisfied: keras-preprocessing>=1.1.1 in /usr/local/lib/python3.7/dist-packages (from tensorflow==2.8) (1.1.2)\n",
      "Requirement already satisfied: tf-estimator-nightly==2.8.0.dev2021122109 in /usr/local/lib/python3.7/dist-packages (from tensorflow==2.8) (2.8.0.dev2021122109)\n",
      "Requirement already satisfied: six>=1.12.0 in /usr/local/lib/python3.7/dist-packages (from tensorflow==2.8) (1.15.0)\n",
      "Requirement already satisfied: absl-py>=0.4.0 in /usr/local/lib/python3.7/dist-packages (from tensorflow==2.8) (1.2.0)\n",
      "Requirement already satisfied: numpy>=1.20 in /usr/local/lib/python3.7/dist-packages (from tensorflow==2.8) (1.21.6)\n",
      "Requirement already satisfied: astunparse>=1.6.0 in /usr/local/lib/python3.7/dist-packages (from tensorflow==2.8) (1.6.3)\n",
      "Requirement already satisfied: grpcio<2.0,>=1.24.3 in /usr/local/lib/python3.7/dist-packages (from tensorflow==2.8) (1.47.0)\n",
      "Requirement already satisfied: h5py>=2.9.0 in /usr/local/lib/python3.7/dist-packages (from tensorflow==2.8) (3.1.0)\n",
      "Requirement already satisfied: setuptools in /usr/local/lib/python3.7/dist-packages (from tensorflow==2.8) (57.4.0)\n",
      "Requirement already satisfied: gast>=0.2.1 in /usr/local/lib/python3.7/dist-packages (from tensorflow==2.8) (0.4.0)\n",
      "Requirement already satisfied: wrapt>=1.11.0 in /usr/local/lib/python3.7/dist-packages (from tensorflow==2.8) (1.14.1)\n",
      "Requirement already satisfied: google-pasta>=0.1.1 in /usr/local/lib/python3.7/dist-packages (from tensorflow==2.8) (0.2.0)\n",
      "Collecting tensorboard<2.9,>=2.8\n",
      "  Using cached tensorboard-2.8.0-py3-none-any.whl (5.8 MB)\n",
      "Requirement already satisfied: libclang>=9.0.1 in /usr/local/lib/python3.7/dist-packages (from tensorflow==2.8) (14.0.6)\n",
      "Requirement already satisfied: opt-einsum>=2.3.2 in /usr/local/lib/python3.7/dist-packages (from tensorflow==2.8) (3.3.0)\n",
      "Requirement already satisfied: protobuf>=3.9.2 in /usr/local/lib/python3.7/dist-packages (from tensorflow==2.8) (3.19.4)\n",
      "Requirement already satisfied: typing-extensions>=3.6.6 in /usr/local/lib/python3.7/dist-packages (from tensorflow==2.8) (4.1.1)\n",
      "Collecting keras<2.9,>=2.8.0rc0\n",
      "  Using cached keras-2.8.0-py2.py3-none-any.whl (1.4 MB)\n",
      "Requirement already satisfied: wheel<1.0,>=0.23.0 in /usr/local/lib/python3.7/dist-packages (from astunparse>=1.6.0->tensorflow==2.8) (0.37.1)\n",
      "Requirement already satisfied: cached-property in /usr/local/lib/python3.7/dist-packages (from h5py>=2.9.0->tensorflow==2.8) (1.5.2)\n",
      "Requirement already satisfied: tensorboard-data-server<0.7.0,>=0.6.0 in /usr/local/lib/python3.7/dist-packages (from tensorboard<2.9,>=2.8->tensorflow==2.8) (0.6.1)\n",
      "Requirement already satisfied: werkzeug>=0.11.15 in /usr/local/lib/python3.7/dist-packages (from tensorboard<2.9,>=2.8->tensorflow==2.8) (1.0.1)\n",
      "Requirement already satisfied: requests<3,>=2.21.0 in /usr/local/lib/python3.7/dist-packages (from tensorboard<2.9,>=2.8->tensorflow==2.8) (2.23.0)\n",
      "Requirement already satisfied: tensorboard-plugin-wit>=1.6.0 in /usr/local/lib/python3.7/dist-packages (from tensorboard<2.9,>=2.8->tensorflow==2.8) (1.8.1)\n",
      "Requirement already satisfied: markdown>=2.6.8 in /usr/local/lib/python3.7/dist-packages (from tensorboard<2.9,>=2.8->tensorflow==2.8) (3.4.1)\n",
      "Requirement already satisfied: google-auth-oauthlib<0.5,>=0.4.1 in /usr/local/lib/python3.7/dist-packages (from tensorboard<2.9,>=2.8->tensorflow==2.8) (0.4.6)\n",
      "Requirement already satisfied: google-auth<3,>=1.6.3 in /usr/local/lib/python3.7/dist-packages (from tensorboard<2.9,>=2.8->tensorflow==2.8) (1.35.0)\n",
      "Requirement already satisfied: pyasn1-modules>=0.2.1 in /usr/local/lib/python3.7/dist-packages (from google-auth<3,>=1.6.3->tensorboard<2.9,>=2.8->tensorflow==2.8) (0.2.8)\n",
      "Requirement already satisfied: rsa<5,>=3.1.4 in /usr/local/lib/python3.7/dist-packages (from google-auth<3,>=1.6.3->tensorboard<2.9,>=2.8->tensorflow==2.8) (4.9)\n",
      "Requirement already satisfied: cachetools<5.0,>=2.0.0 in /usr/local/lib/python3.7/dist-packages (from google-auth<3,>=1.6.3->tensorboard<2.9,>=2.8->tensorflow==2.8) (4.2.4)\n",
      "Requirement already satisfied: requests-oauthlib>=0.7.0 in /usr/local/lib/python3.7/dist-packages (from google-auth-oauthlib<0.5,>=0.4.1->tensorboard<2.9,>=2.8->tensorflow==2.8) (1.3.1)\n",
      "Requirement already satisfied: importlib-metadata>=4.4 in /usr/local/lib/python3.7/dist-packages (from markdown>=2.6.8->tensorboard<2.9,>=2.8->tensorflow==2.8) (4.12.0)\n",
      "Requirement already satisfied: zipp>=0.5 in /usr/local/lib/python3.7/dist-packages (from importlib-metadata>=4.4->markdown>=2.6.8->tensorboard<2.9,>=2.8->tensorflow==2.8) (3.8.1)\n",
      "Requirement already satisfied: pyasn1<0.5.0,>=0.4.6 in /usr/local/lib/python3.7/dist-packages (from pyasn1-modules>=0.2.1->google-auth<3,>=1.6.3->tensorboard<2.9,>=2.8->tensorflow==2.8) (0.4.8)\n",
      "Requirement already satisfied: certifi>=2017.4.17 in /usr/local/lib/python3.7/dist-packages (from requests<3,>=2.21.0->tensorboard<2.9,>=2.8->tensorflow==2.8) (2022.6.15)\n",
      "Requirement already satisfied: chardet<4,>=3.0.2 in /usr/local/lib/python3.7/dist-packages (from requests<3,>=2.21.0->tensorboard<2.9,>=2.8->tensorflow==2.8) (3.0.4)\n",
      "Requirement already satisfied: idna<3,>=2.5 in /usr/local/lib/python3.7/dist-packages (from requests<3,>=2.21.0->tensorboard<2.9,>=2.8->tensorflow==2.8) (2.10)\n",
      "Requirement already satisfied: urllib3!=1.25.0,!=1.25.1,<1.26,>=1.21.1 in /usr/local/lib/python3.7/dist-packages (from requests<3,>=2.21.0->tensorboard<2.9,>=2.8->tensorflow==2.8) (1.24.3)\n",
      "Requirement already satisfied: oauthlib>=3.0.0 in /usr/local/lib/python3.7/dist-packages (from requests-oauthlib>=0.7.0->google-auth-oauthlib<0.5,>=0.4.1->tensorboard<2.9,>=2.8->tensorflow==2.8) (3.2.0)\n",
      "Installing collected packages: tensorboard, keras, tensorflow\n",
      "  Attempting uninstall: tensorboard\n",
      "    Found existing installation: tensorboard 2.9.1\n",
      "    Uninstalling tensorboard-2.9.1:\n",
      "      Successfully uninstalled tensorboard-2.9.1\n",
      "  Attempting uninstall: keras\n",
      "    Found existing installation: keras 2.9.0\n",
      "    Uninstalling keras-2.9.0:\n",
      "      Successfully uninstalled keras-2.9.0\n",
      "  Attempting uninstall: tensorflow\n",
      "    Found existing installation: tensorflow 2.9.1\n",
      "    Uninstalling tensorflow-2.9.1:\n",
      "      Successfully uninstalled tensorflow-2.9.1\n",
      "\u001b[31mERROR: pip's dependency resolver does not currently take into account all the packages that are installed. This behaviour is the source of the following dependency conflicts.\n",
      "scann 1.2.7 requires tensorflow~=2.9.0, but you have tensorflow 2.8.0+zzzcolab20220506162203 which is incompatible.\u001b[0m\n",
      "Successfully installed keras-2.8.0 tensorboard-2.8.0 tensorflow-2.8.0+zzzcolab20220506162203\n",
      "Reading package lists... Done\n",
      "Building dependency tree       \n",
      "Reading state information... Done\n",
      "libcudnn8 is already the newest version (8.1.0.77-1+cuda11.2).\n",
      "The following package was automatically installed and is no longer required:\n",
      "  libnvidia-common-460\n",
      "Use 'apt autoremove' to remove it.\n",
      "0 upgraded, 0 newly installed, 0 to remove and 17 not upgraded.\n",
      "Looking in indexes: https://pypi.org/simple, https://us-python.pkg.dev/colab-wheels/public/simple/\n",
      "Requirement already satisfied: tflite-model-maker==0.4.0 in /usr/local/lib/python3.7/dist-packages (0.4.0)\n",
      "Requirement already satisfied: flatbuffers==1.12 in /usr/local/lib/python3.7/dist-packages (from tflite-model-maker==0.4.0) (1.12)\n",
      "Requirement already satisfied: librosa==0.8.1 in /usr/local/lib/python3.7/dist-packages (from tflite-model-maker==0.4.0) (0.8.1)\n",
      "Requirement already satisfied: tensorflow-datasets>=2.1.0 in /usr/local/lib/python3.7/dist-packages (from tflite-model-maker==0.4.0) (4.6.0)\n",
      "Requirement already satisfied: numba==0.53 in /usr/local/lib/python3.7/dist-packages (from tflite-model-maker==0.4.0) (0.53.0)\n",
      "Requirement already satisfied: urllib3!=1.25.0,!=1.25.1,<1.26,>=1.21.1 in /usr/local/lib/python3.7/dist-packages (from tflite-model-maker==0.4.0) (1.24.3)\n",
      "Requirement already satisfied: tensorflow-hub<0.13,>=0.7.0 in /usr/local/lib/python3.7/dist-packages (from tflite-model-maker==0.4.0) (0.12.0)\n",
      "Requirement already satisfied: tf-models-official==2.3.0 in /usr/local/lib/python3.7/dist-packages (from tflite-model-maker==0.4.0) (2.3.0)\n",
      "Requirement already satisfied: tflite-support>=0.4.0 in /usr/local/lib/python3.7/dist-packages (from tflite-model-maker==0.4.0) (0.4.1)\n",
      "Requirement already satisfied: PyYAML>=5.1 in /usr/local/lib/python3.7/dist-packages (from tflite-model-maker==0.4.0) (6.0)\n",
      "Requirement already satisfied: fire>=0.3.1 in /usr/local/lib/python3.7/dist-packages (from tflite-model-maker==0.4.0) (0.4.0)\n",
      "Requirement already satisfied: absl-py>=0.10.0 in /usr/local/lib/python3.7/dist-packages (from tflite-model-maker==0.4.0) (1.2.0)\n",
      "Requirement already satisfied: numpy>=1.17.3 in /usr/local/lib/python3.7/dist-packages (from tflite-model-maker==0.4.0) (1.21.6)\n",
      "Requirement already satisfied: neural-structured-learning>=1.3.1 in /usr/local/lib/python3.7/dist-packages (from tflite-model-maker==0.4.0) (1.4.0)\n",
      "Requirement already satisfied: sentencepiece>=0.1.91 in /usr/local/lib/python3.7/dist-packages (from tflite-model-maker==0.4.0) (0.1.97)\n",
      "Requirement already satisfied: scann>=1.2.6 in /usr/local/lib/python3.7/dist-packages (from tflite-model-maker==0.4.0) (1.2.7)\n",
      "Requirement already satisfied: tensorflow-model-optimization>=0.5 in /usr/local/lib/python3.7/dist-packages (from tflite-model-maker==0.4.0) (0.7.3)\n",
      "Requirement already satisfied: lxml>=4.6.1 in /usr/local/lib/python3.7/dist-packages (from tflite-model-maker==0.4.0) (4.9.1)\n",
      "Requirement already satisfied: Cython>=0.29.13 in /usr/local/lib/python3.7/dist-packages (from tflite-model-maker==0.4.0) (0.29.32)\n",
      "Requirement already satisfied: tensorflow-addons>=0.11.2 in /usr/local/lib/python3.7/dist-packages (from tflite-model-maker==0.4.0) (0.17.1)\n",
      "Requirement already satisfied: matplotlib<3.5.0,>=3.0.3 in /usr/local/lib/python3.7/dist-packages (from tflite-model-maker==0.4.0) (3.2.2)\n",
      "Requirement already satisfied: tensorflowjs>=2.4.0 in /usr/local/lib/python3.7/dist-packages (from tflite-model-maker==0.4.0) (3.18.0)\n",
      "Requirement already satisfied: pillow>=7.0.0 in /usr/local/lib/python3.7/dist-packages (from tflite-model-maker==0.4.0) (7.1.2)\n",
      "Requirement already satisfied: six>=1.12.0 in /usr/local/lib/python3.7/dist-packages (from tflite-model-maker==0.4.0) (1.15.0)\n",
      "Requirement already satisfied: tensorflow>=2.6.0 in /usr/local/lib/python3.7/dist-packages (from tflite-model-maker==0.4.0) (2.8.0+zzzcolab20220506162203)\n",
      "Requirement already satisfied: pooch>=1.0 in /usr/local/lib/python3.7/dist-packages (from librosa==0.8.1->tflite-model-maker==0.4.0) (1.6.0)\n",
      "Requirement already satisfied: scikit-learn!=0.19.0,>=0.14.0 in /usr/local/lib/python3.7/dist-packages (from librosa==0.8.1->tflite-model-maker==0.4.0) (1.0.2)\n",
      "Requirement already satisfied: resampy>=0.2.2 in /usr/local/lib/python3.7/dist-packages (from librosa==0.8.1->tflite-model-maker==0.4.0) (0.4.0)\n",
      "Requirement already satisfied: audioread>=2.0.0 in /usr/local/lib/python3.7/dist-packages (from librosa==0.8.1->tflite-model-maker==0.4.0) (2.1.9)\n",
      "Requirement already satisfied: scipy>=1.0.0 in /usr/local/lib/python3.7/dist-packages (from librosa==0.8.1->tflite-model-maker==0.4.0) (1.7.3)\n",
      "Requirement already satisfied: packaging>=20.0 in /usr/local/lib/python3.7/dist-packages (from librosa==0.8.1->tflite-model-maker==0.4.0) (20.9)\n",
      "Requirement already satisfied: decorator>=3.0.0 in /usr/local/lib/python3.7/dist-packages (from librosa==0.8.1->tflite-model-maker==0.4.0) (4.4.2)\n",
      "Requirement already satisfied: soundfile>=0.10.2 in /usr/local/lib/python3.7/dist-packages (from librosa==0.8.1->tflite-model-maker==0.4.0) (0.10.3.post1)\n",
      "Requirement already satisfied: joblib>=0.14 in /usr/local/lib/python3.7/dist-packages (from librosa==0.8.1->tflite-model-maker==0.4.0) (1.1.0)\n",
      "Requirement already satisfied: setuptools in /usr/local/lib/python3.7/dist-packages (from numba==0.53->tflite-model-maker==0.4.0) (57.4.0)\n",
      "Requirement already satisfied: llvmlite<0.37,>=0.36.0rc1 in /usr/local/lib/python3.7/dist-packages (from numba==0.53->tflite-model-maker==0.4.0) (0.36.0)\n",
      "Requirement already satisfied: pandas>=0.22.0 in /usr/local/lib/python3.7/dist-packages (from tf-models-official==2.3.0->tflite-model-maker==0.4.0) (1.3.5)\n",
      "Requirement already satisfied: kaggle>=1.3.9 in /usr/local/lib/python3.7/dist-packages (from tf-models-official==2.3.0->tflite-model-maker==0.4.0) (1.5.12)\n",
      "Requirement already satisfied: dataclasses in /usr/local/lib/python3.7/dist-packages (from tf-models-official==2.3.0->tflite-model-maker==0.4.0) (0.6)\n",
      "Requirement already satisfied: google-api-python-client>=1.6.7 in /usr/local/lib/python3.7/dist-packages (from tf-models-official==2.3.0->tflite-model-maker==0.4.0) (1.12.11)\n",
      "Requirement already satisfied: opencv-python-headless in /usr/local/lib/python3.7/dist-packages (from tf-models-official==2.3.0->tflite-model-maker==0.4.0) (4.6.0.66)\n",
      "Requirement already satisfied: gin-config in /usr/local/lib/python3.7/dist-packages (from tf-models-official==2.3.0->tflite-model-maker==0.4.0) (0.5.0)\n",
      "Requirement already satisfied: tf-slim>=1.1.0 in /usr/local/lib/python3.7/dist-packages (from tf-models-official==2.3.0->tflite-model-maker==0.4.0) (1.1.0)\n",
      "Requirement already satisfied: py-cpuinfo>=3.3.0 in /usr/local/lib/python3.7/dist-packages (from tf-models-official==2.3.0->tflite-model-maker==0.4.0) (8.0.0)\n",
      "Requirement already satisfied: psutil>=5.4.3 in /usr/local/lib/python3.7/dist-packages (from tf-models-official==2.3.0->tflite-model-maker==0.4.0) (5.4.8)\n",
      "Requirement already satisfied: google-cloud-bigquery>=0.31.0 in /usr/local/lib/python3.7/dist-packages (from tf-models-official==2.3.0->tflite-model-maker==0.4.0) (1.21.0)\n",
      "Requirement already satisfied: termcolor in /usr/local/lib/python3.7/dist-packages (from fire>=0.3.1->tflite-model-maker==0.4.0) (1.1.0)\n",
      "Requirement already satisfied: google-auth-httplib2>=0.0.3 in /usr/local/lib/python3.7/dist-packages (from google-api-python-client>=1.6.7->tf-models-official==2.3.0->tflite-model-maker==0.4.0) (0.0.4)\n",
      "Requirement already satisfied: uritemplate<4dev,>=3.0.0 in /usr/local/lib/python3.7/dist-packages (from google-api-python-client>=1.6.7->tf-models-official==2.3.0->tflite-model-maker==0.4.0) (3.0.1)\n",
      "Requirement already satisfied: google-auth<3dev,>=1.16.0 in /usr/local/lib/python3.7/dist-packages (from google-api-python-client>=1.6.7->tf-models-official==2.3.0->tflite-model-maker==0.4.0) (1.35.0)\n",
      "Requirement already satisfied: google-api-core<3dev,>=1.21.0 in /usr/local/lib/python3.7/dist-packages (from google-api-python-client>=1.6.7->tf-models-official==2.3.0->tflite-model-maker==0.4.0) (1.31.6)\n",
      "Requirement already satisfied: httplib2<1dev,>=0.15.0 in /usr/local/lib/python3.7/dist-packages (from google-api-python-client>=1.6.7->tf-models-official==2.3.0->tflite-model-maker==0.4.0) (0.17.4)\n",
      "Requirement already satisfied: protobuf<4.0.0dev,>=3.12.0 in /usr/local/lib/python3.7/dist-packages (from google-api-core<3dev,>=1.21.0->google-api-python-client>=1.6.7->tf-models-official==2.3.0->tflite-model-maker==0.4.0) (3.19.4)\n",
      "Requirement already satisfied: requests<3.0.0dev,>=2.18.0 in /usr/local/lib/python3.7/dist-packages (from google-api-core<3dev,>=1.21.0->google-api-python-client>=1.6.7->tf-models-official==2.3.0->tflite-model-maker==0.4.0) (2.23.0)\n",
      "Requirement already satisfied: googleapis-common-protos<2.0dev,>=1.6.0 in /usr/local/lib/python3.7/dist-packages (from google-api-core<3dev,>=1.21.0->google-api-python-client>=1.6.7->tf-models-official==2.3.0->tflite-model-maker==0.4.0) (1.56.4)\n",
      "Requirement already satisfied: pytz in /usr/local/lib/python3.7/dist-packages (from google-api-core<3dev,>=1.21.0->google-api-python-client>=1.6.7->tf-models-official==2.3.0->tflite-model-maker==0.4.0) (2022.1)\n",
      "Requirement already satisfied: cachetools<5.0,>=2.0.0 in /usr/local/lib/python3.7/dist-packages (from google-auth<3dev,>=1.16.0->google-api-python-client>=1.6.7->tf-models-official==2.3.0->tflite-model-maker==0.4.0) (4.2.4)\n",
      "Requirement already satisfied: pyasn1-modules>=0.2.1 in /usr/local/lib/python3.7/dist-packages (from google-auth<3dev,>=1.16.0->google-api-python-client>=1.6.7->tf-models-official==2.3.0->tflite-model-maker==0.4.0) (0.2.8)\n",
      "Requirement already satisfied: rsa<5,>=3.1.4 in /usr/local/lib/python3.7/dist-packages (from google-auth<3dev,>=1.16.0->google-api-python-client>=1.6.7->tf-models-official==2.3.0->tflite-model-maker==0.4.0) (4.9)\n",
      "Requirement already satisfied: google-resumable-media!=0.4.0,<0.5.0dev,>=0.3.1 in /usr/local/lib/python3.7/dist-packages (from google-cloud-bigquery>=0.31.0->tf-models-official==2.3.0->tflite-model-maker==0.4.0) (0.4.1)\n",
      "Requirement already satisfied: google-cloud-core<2.0dev,>=1.0.3 in /usr/local/lib/python3.7/dist-packages (from google-cloud-bigquery>=0.31.0->tf-models-official==2.3.0->tflite-model-maker==0.4.0) (1.0.3)\n",
      "Requirement already satisfied: certifi in /usr/local/lib/python3.7/dist-packages (from kaggle>=1.3.9->tf-models-official==2.3.0->tflite-model-maker==0.4.0) (2022.6.15)\n",
      "Requirement already satisfied: tqdm in /usr/local/lib/python3.7/dist-packages (from kaggle>=1.3.9->tf-models-official==2.3.0->tflite-model-maker==0.4.0) (4.64.0)\n",
      "Requirement already satisfied: python-dateutil in /usr/local/lib/python3.7/dist-packages (from kaggle>=1.3.9->tf-models-official==2.3.0->tflite-model-maker==0.4.0) (2.8.2)\n",
      "Requirement already satisfied: python-slugify in /usr/local/lib/python3.7/dist-packages (from kaggle>=1.3.9->tf-models-official==2.3.0->tflite-model-maker==0.4.0) (6.1.2)\n",
      "Requirement already satisfied: kiwisolver>=1.0.1 in /usr/local/lib/python3.7/dist-packages (from matplotlib<3.5.0,>=3.0.3->tflite-model-maker==0.4.0) (1.4.4)\n",
      "Requirement already satisfied: cycler>=0.10 in /usr/local/lib/python3.7/dist-packages (from matplotlib<3.5.0,>=3.0.3->tflite-model-maker==0.4.0) (0.11.0)\n",
      "Requirement already satisfied: pyparsing!=2.0.4,!=2.1.2,!=2.1.6,>=2.0.1 in /usr/local/lib/python3.7/dist-packages (from matplotlib<3.5.0,>=3.0.3->tflite-model-maker==0.4.0) (3.0.9)\n",
      "Requirement already satisfied: typing-extensions in /usr/local/lib/python3.7/dist-packages (from kiwisolver>=1.0.1->matplotlib<3.5.0,>=3.0.3->tflite-model-maker==0.4.0) (4.1.1)\n",
      "Requirement already satisfied: attrs in /usr/local/lib/python3.7/dist-packages (from neural-structured-learning>=1.3.1->tflite-model-maker==0.4.0) (22.1.0)\n",
      "Requirement already satisfied: appdirs>=1.3.0 in /usr/local/lib/python3.7/dist-packages (from pooch>=1.0->librosa==0.8.1->tflite-model-maker==0.4.0) (1.4.4)\n",
      "Requirement already satisfied: pyasn1<0.5.0,>=0.4.6 in /usr/local/lib/python3.7/dist-packages (from pyasn1-modules>=0.2.1->google-auth<3dev,>=1.16.0->google-api-python-client>=1.6.7->tf-models-official==2.3.0->tflite-model-maker==0.4.0) (0.4.8)\n",
      "Requirement already satisfied: idna<3,>=2.5 in /usr/local/lib/python3.7/dist-packages (from requests<3.0.0dev,>=2.18.0->google-api-core<3dev,>=1.21.0->google-api-python-client>=1.6.7->tf-models-official==2.3.0->tflite-model-maker==0.4.0) (2.10)\n",
      "Requirement already satisfied: chardet<4,>=3.0.2 in /usr/local/lib/python3.7/dist-packages (from requests<3.0.0dev,>=2.18.0->google-api-core<3dev,>=1.21.0->google-api-python-client>=1.6.7->tf-models-official==2.3.0->tflite-model-maker==0.4.0) (3.0.4)\n",
      "Collecting tensorflow>=2.6.0\n",
      "  Using cached tensorflow-2.9.1-cp37-cp37m-manylinux_2_17_x86_64.manylinux2014_x86_64.whl (511.7 MB)\n",
      "Requirement already satisfied: threadpoolctl>=2.0.0 in /usr/local/lib/python3.7/dist-packages (from scikit-learn!=0.19.0,>=0.14.0->librosa==0.8.1->tflite-model-maker==0.4.0) (3.1.0)\n",
      "Requirement already satisfied: cffi>=1.0 in /usr/local/lib/python3.7/dist-packages (from soundfile>=0.10.2->librosa==0.8.1->tflite-model-maker==0.4.0) (1.15.1)\n",
      "Requirement already satisfied: pycparser in /usr/local/lib/python3.7/dist-packages (from cffi>=1.0->soundfile>=0.10.2->librosa==0.8.1->tflite-model-maker==0.4.0) (2.21)\n",
      "Requirement already satisfied: astunparse>=1.6.0 in /usr/local/lib/python3.7/dist-packages (from tensorflow>=2.6.0->tflite-model-maker==0.4.0) (1.6.3)\n",
      "Requirement already satisfied: wrapt>=1.11.0 in /usr/local/lib/python3.7/dist-packages (from tensorflow>=2.6.0->tflite-model-maker==0.4.0) (1.14.1)\n",
      "Collecting keras<2.10.0,>=2.9.0rc0\n",
      "  Using cached keras-2.9.0-py2.py3-none-any.whl (1.6 MB)\n",
      "Requirement already satisfied: h5py>=2.9.0 in /usr/local/lib/python3.7/dist-packages (from tensorflow>=2.6.0->tflite-model-maker==0.4.0) (3.1.0)\n",
      "Requirement already satisfied: opt-einsum>=2.3.2 in /usr/local/lib/python3.7/dist-packages (from tensorflow>=2.6.0->tflite-model-maker==0.4.0) (3.3.0)\n",
      "Requirement already satisfied: libclang>=13.0.0 in /usr/local/lib/python3.7/dist-packages (from tensorflow>=2.6.0->tflite-model-maker==0.4.0) (14.0.6)\n",
      "Requirement already satisfied: grpcio<2.0,>=1.24.3 in /usr/local/lib/python3.7/dist-packages (from tensorflow>=2.6.0->tflite-model-maker==0.4.0) (1.47.0)\n",
      "Requirement already satisfied: gast<=0.4.0,>=0.2.1 in /usr/local/lib/python3.7/dist-packages (from tensorflow>=2.6.0->tflite-model-maker==0.4.0) (0.4.0)\n",
      "Requirement already satisfied: keras-preprocessing>=1.1.1 in /usr/local/lib/python3.7/dist-packages (from tensorflow>=2.6.0->tflite-model-maker==0.4.0) (1.1.2)\n",
      "Requirement already satisfied: tensorflow-estimator<2.10.0,>=2.9.0rc0 in /usr/local/lib/python3.7/dist-packages (from tensorflow>=2.6.0->tflite-model-maker==0.4.0) (2.9.0)\n",
      "Collecting tensorboard<2.10,>=2.9\n",
      "  Using cached tensorboard-2.9.1-py3-none-any.whl (5.8 MB)\n",
      "Requirement already satisfied: tensorflow-io-gcs-filesystem>=0.23.1 in /usr/local/lib/python3.7/dist-packages (from tensorflow>=2.6.0->tflite-model-maker==0.4.0) (0.26.0)\n",
      "Requirement already satisfied: google-pasta>=0.1.1 in /usr/local/lib/python3.7/dist-packages (from tensorflow>=2.6.0->tflite-model-maker==0.4.0) (0.2.0)\n",
      "Requirement already satisfied: wheel<1.0,>=0.23.0 in /usr/local/lib/python3.7/dist-packages (from astunparse>=1.6.0->tensorflow>=2.6.0->tflite-model-maker==0.4.0) (0.37.1)\n",
      "Requirement already satisfied: cached-property in /usr/local/lib/python3.7/dist-packages (from h5py>=2.9.0->tensorflow>=2.6.0->tflite-model-maker==0.4.0) (1.5.2)\n",
      "Requirement already satisfied: tensorboard-data-server<0.7.0,>=0.6.0 in /usr/local/lib/python3.7/dist-packages (from tensorboard<2.10,>=2.9->tensorflow>=2.6.0->tflite-model-maker==0.4.0) (0.6.1)\n",
      "Requirement already satisfied: tensorboard-plugin-wit>=1.6.0 in /usr/local/lib/python3.7/dist-packages (from tensorboard<2.10,>=2.9->tensorflow>=2.6.0->tflite-model-maker==0.4.0) (1.8.1)\n",
      "Requirement already satisfied: google-auth-oauthlib<0.5,>=0.4.1 in /usr/local/lib/python3.7/dist-packages (from tensorboard<2.10,>=2.9->tensorflow>=2.6.0->tflite-model-maker==0.4.0) (0.4.6)\n",
      "Requirement already satisfied: werkzeug>=1.0.1 in /usr/local/lib/python3.7/dist-packages (from tensorboard<2.10,>=2.9->tensorflow>=2.6.0->tflite-model-maker==0.4.0) (1.0.1)\n",
      "Requirement already satisfied: markdown>=2.6.8 in /usr/local/lib/python3.7/dist-packages (from tensorboard<2.10,>=2.9->tensorflow>=2.6.0->tflite-model-maker==0.4.0) (3.4.1)\n",
      "Requirement already satisfied: requests-oauthlib>=0.7.0 in /usr/local/lib/python3.7/dist-packages (from google-auth-oauthlib<0.5,>=0.4.1->tensorboard<2.10,>=2.9->tensorflow>=2.6.0->tflite-model-maker==0.4.0) (1.3.1)\n",
      "Requirement already satisfied: importlib-metadata>=4.4 in /usr/local/lib/python3.7/dist-packages (from markdown>=2.6.8->tensorboard<2.10,>=2.9->tensorflow>=2.6.0->tflite-model-maker==0.4.0) (4.12.0)\n",
      "Requirement already satisfied: zipp>=0.5 in /usr/local/lib/python3.7/dist-packages (from importlib-metadata>=4.4->markdown>=2.6.8->tensorboard<2.10,>=2.9->tensorflow>=2.6.0->tflite-model-maker==0.4.0) (3.8.1)\n",
      "Requirement already satisfied: oauthlib>=3.0.0 in /usr/local/lib/python3.7/dist-packages (from requests-oauthlib>=0.7.0->google-auth-oauthlib<0.5,>=0.4.1->tensorboard<2.10,>=2.9->tensorflow>=2.6.0->tflite-model-maker==0.4.0) (3.2.0)\n",
      "Requirement already satisfied: typeguard>=2.7 in /usr/local/lib/python3.7/dist-packages (from tensorflow-addons>=0.11.2->tflite-model-maker==0.4.0) (2.7.1)\n",
      "Requirement already satisfied: tensorflow-metadata in /usr/local/lib/python3.7/dist-packages (from tensorflow-datasets>=2.1.0->tflite-model-maker==0.4.0) (1.9.0)\n",
      "Requirement already satisfied: etils[epath] in /usr/local/lib/python3.7/dist-packages (from tensorflow-datasets>=2.1.0->tflite-model-maker==0.4.0) (0.7.1)\n",
      "Requirement already satisfied: dill in /usr/local/lib/python3.7/dist-packages (from tensorflow-datasets>=2.1.0->tflite-model-maker==0.4.0) (0.3.5.1)\n",
      "Requirement already satisfied: importlib-resources in /usr/local/lib/python3.7/dist-packages (from tensorflow-datasets>=2.1.0->tflite-model-maker==0.4.0) (5.9.0)\n",
      "Requirement already satisfied: promise in /usr/local/lib/python3.7/dist-packages (from tensorflow-datasets>=2.1.0->tflite-model-maker==0.4.0) (2.3)\n",
      "Requirement already satisfied: toml in /usr/local/lib/python3.7/dist-packages (from tensorflow-datasets>=2.1.0->tflite-model-maker==0.4.0) (0.10.2)\n",
      "Requirement already satisfied: dm-tree~=0.1.1 in /usr/local/lib/python3.7/dist-packages (from tensorflow-model-optimization>=0.5->tflite-model-maker==0.4.0) (0.1.7)\n",
      "Requirement already satisfied: sounddevice>=0.4.4 in /usr/local/lib/python3.7/dist-packages (from tflite-support>=0.4.0->tflite-model-maker==0.4.0) (0.4.4)\n",
      "Requirement already satisfied: pybind11>=2.6.0 in /usr/local/lib/python3.7/dist-packages (from tflite-support>=0.4.0->tflite-model-maker==0.4.0) (2.10.0)\n",
      "Requirement already satisfied: text-unidecode>=1.3 in /usr/local/lib/python3.7/dist-packages (from python-slugify->kaggle>=1.3.9->tf-models-official==2.3.0->tflite-model-maker==0.4.0) (1.3)\n",
      "Installing collected packages: tensorboard, keras, tensorflow\n",
      "  Attempting uninstall: tensorboard\n",
      "    Found existing installation: tensorboard 2.8.0\n",
      "    Uninstalling tensorboard-2.8.0:\n",
      "      Successfully uninstalled tensorboard-2.8.0\n",
      "  Attempting uninstall: keras\n",
      "    Found existing installation: keras 2.8.0\n",
      "    Uninstalling keras-2.8.0:\n",
      "      Successfully uninstalled keras-2.8.0\n",
      "  Attempting uninstall: tensorflow\n",
      "    Found existing installation: tensorflow 2.8.0+zzzcolab20220506162203\n",
      "    Uninstalling tensorflow-2.8.0+zzzcolab20220506162203:\n",
      "      Successfully uninstalled tensorflow-2.8.0+zzzcolab20220506162203\n",
      "Successfully installed keras-2.9.0 tensorboard-2.9.1 tensorflow-2.9.1\n"
     ]
    }
   ],
   "source": [
    "!sudo apt -y install libportaudio2\n",
    "!pip install \"tensorflow==2.8\"\n",
    "!apt install --allow-change-held-packages libcudnn8=8.1.0.77-1+cuda11.2\n",
    "!pip install \"tflite-model-maker==0.4.0\""
   ]
  },
  {
   "cell_type": "code",
   "execution_count": 3,
   "metadata": {
    "colab": {
     "base_uri": "https://localhost:8080/"
    },
    "id": "qG5FBhKdBXri",
    "outputId": "2b8093a7-5b8f-46b7-dddf-f35284ffec20"
   },
   "outputs": [
    {
     "name": "stdout",
     "output_type": "stream",
     "text": [
      "absl-py==1.2.0\n",
      "aiohttp==3.8.1\n",
      "aiosignal==1.2.0\n",
      "alabaster==0.7.12\n",
      "albumentations==1.2.1\n",
      "altair==4.2.0\n",
      "appdirs==1.4.4\n",
      "arviz==0.12.1\n",
      "astor==0.8.1\n",
      "astropy==4.3.1\n",
      "astunparse==1.6.3\n",
      "async-timeout==4.0.2\n",
      "asynctest==0.13.0\n",
      "atari-py==0.2.9\n",
      "atomicwrites==1.4.1\n",
      "attrs==22.1.0\n",
      "audioread==2.1.9\n",
      "autograd==1.4\n",
      "Babel==2.10.3\n",
      "backcall==0.2.0\n",
      "beautifulsoup4==4.6.3\n",
      "bleach==5.0.1\n",
      "blis==0.7.8\n",
      "bokeh==2.3.3\n",
      "branca==0.5.0\n",
      "bs4==0.0.1\n",
      "CacheControl==0.12.11\n",
      "cached-property==1.5.2\n",
      "cachetools==4.2.4\n",
      "catalogue==2.0.8\n",
      "certifi==2022.6.15\n",
      "cffi==1.15.1\n",
      "cftime==1.6.1\n",
      "chardet==3.0.4\n",
      "charset-normalizer==2.1.0\n",
      "click==7.1.2\n",
      "clikit==0.6.2\n",
      "cloudpickle==1.3.0\n",
      "cmake==3.22.6\n",
      "cmdstanpy==1.0.4\n",
      "colorcet==3.0.0\n",
      "colorlover==0.3.0\n",
      "community==1.0.0b1\n",
      "contextlib2==0.5.5\n",
      "convertdate==2.4.0\n",
      "crashtest==0.3.1\n",
      "crcmod==1.7\n",
      "cufflinks==0.17.3\n",
      "cupy-cuda111==9.4.0\n",
      "cvxopt==1.3.0\n",
      "cvxpy==1.2.1\n",
      "cycler==0.11.0\n",
      "cymem==2.0.6\n",
      "Cython==0.29.32\n",
      "daft==0.0.4\n",
      "dask==2.12.0\n",
      "dataclasses==0.6\n",
      "datascience==0.17.5\n",
      "debugpy==1.0.0\n",
      "decorator==4.4.2\n",
      "defusedxml==0.7.1\n",
      "deprecat==2.1.1\n",
      "descartes==1.1.0\n",
      "dill==0.3.5.1\n",
      "distributed==1.25.3\n",
      "dlib==19.24.0\n",
      "dm-tree==0.1.7\n",
      "docutils==0.17.1\n",
      "dopamine-rl==1.0.5\n",
      "earthengine-api==0.1.318\n",
      "easydict==1.9\n",
      "ecos==2.0.10\n",
      "editdistance==0.5.3\n",
      "en-core-web-sm @ https://github.com/explosion/spacy-models/releases/download/en_core_web_sm-3.4.0/en_core_web_sm-3.4.0-py3-none-any.whl\n",
      "entrypoints==0.4\n",
      "ephem==4.1.3\n",
      "et-xmlfile==1.1.0\n",
      "etils==0.7.1\n",
      "fa2==0.3.5\n",
      "fastai==2.7.9\n",
      "fastcore==1.5.16\n",
      "fastdownload==0.0.7\n",
      "fastdtw==0.3.4\n",
      "fastjsonschema==2.16.1\n",
      "fastprogress==1.0.3\n",
      "fastrlock==0.8\n",
      "feather-format==0.4.1\n",
      "filelock==3.8.0\n",
      "fire==0.4.0\n",
      "firebase-admin==4.4.0\n",
      "fix-yahoo-finance==0.0.22\n",
      "Flask==1.1.4\n",
      "flatbuffers==1.12\n",
      "folium==0.12.1.post1\n",
      "frozenlist==1.3.1\n",
      "future==0.16.0\n",
      "gast==0.4.0\n",
      "GDAL==2.2.2\n",
      "gdown==4.4.0\n",
      "gensim==3.6.0\n",
      "geographiclib==1.52\n",
      "geopy==1.17.0\n",
      "gin-config==0.5.0\n",
      "glob2==0.7\n",
      "google==2.0.3\n",
      "google-api-core==1.31.6\n",
      "google-api-python-client==1.12.11\n",
      "google-auth==1.35.0\n",
      "google-auth-httplib2==0.0.4\n",
      "google-auth-oauthlib==0.4.6\n",
      "google-cloud-bigquery==1.21.0\n",
      "google-cloud-bigquery-storage==1.1.2\n",
      "google-cloud-core==1.0.3\n",
      "google-cloud-datastore==1.8.0\n",
      "google-cloud-firestore==1.7.0\n",
      "google-cloud-language==1.2.0\n",
      "google-cloud-storage==1.18.1\n",
      "google-cloud-translate==1.5.0\n",
      "google-colab @ file:///colabtools/dist/google-colab-1.0.0.tar.gz\n",
      "google-pasta==0.2.0\n",
      "google-resumable-media==0.4.1\n",
      "googleapis-common-protos==1.56.4\n",
      "googledrivedownloader==0.4\n",
      "graphviz==0.10.1\n",
      "greenlet==1.1.2\n",
      "grpcio==1.47.0\n",
      "gspread==3.4.2\n",
      "gspread-dataframe==3.0.8\n",
      "gym==0.17.3\n",
      "h5py==3.1.0\n",
      "HeapDict==1.0.1\n",
      "hijri-converter==2.2.4\n",
      "holidays==0.14.2\n",
      "holoviews==1.14.9\n",
      "html5lib==1.0.1\n",
      "httpimport==0.5.18\n",
      "httplib2==0.17.4\n",
      "httplib2shim==0.0.3\n",
      "httpstan==4.6.1\n",
      "humanize==0.5.1\n",
      "hyperopt==0.1.2\n",
      "idna==2.10\n",
      "imageio==2.9.0\n",
      "imagesize==1.4.1\n",
      "imbalanced-learn==0.8.1\n",
      "imblearn==0.0\n",
      "imgaug==0.4.0\n",
      "importlib-metadata==4.12.0\n",
      "importlib-resources==5.9.0\n",
      "imutils==0.5.4\n",
      "inflect==2.1.0\n",
      "intel-openmp==2022.1.0\n",
      "intervaltree==2.1.0\n",
      "ipykernel==5.3.4\n",
      "ipython==7.9.0\n",
      "ipython-genutils==0.2.0\n",
      "ipython-sql==0.3.9\n",
      "ipywidgets==7.7.1\n",
      "itsdangerous==1.1.0\n",
      "jax==0.3.14\n",
      "jaxlib @ https://storage.googleapis.com/jax-releases/cuda11/jaxlib-0.3.14+cuda11.cudnn805-cp37-none-manylinux2014_x86_64.whl\n",
      "jieba==0.42.1\n",
      "Jinja2==2.11.3\n",
      "joblib==1.1.0\n",
      "jpeg4py==0.1.4\n",
      "jsonschema==4.3.3\n",
      "jupyter-client==6.1.12\n",
      "jupyter-console==6.1.0\n",
      "jupyter-core==4.11.1\n",
      "jupyterlab-widgets==1.1.1\n",
      "kaggle==1.5.12\n",
      "kapre==0.3.7\n",
      "keras==2.9.0\n",
      "Keras-Preprocessing==1.1.2\n",
      "keras-vis==0.4.1\n",
      "kiwisolver==1.4.4\n",
      "korean-lunar-calendar==0.2.1\n",
      "langcodes==3.3.0\n",
      "libclang==14.0.6\n",
      "librosa==0.8.1\n",
      "lightgbm==2.2.3\n",
      "llvmlite==0.36.0\n",
      "lmdb==0.99\n",
      "LunarCalendar==0.0.9\n",
      "lxml==4.9.1\n",
      "Markdown==3.4.1\n",
      "MarkupSafe==2.0.1\n",
      "marshmallow==3.17.0\n",
      "matplotlib==3.2.2\n",
      "matplotlib-venn==0.11.7\n",
      "missingno==0.5.1\n",
      "mistune==0.8.4\n",
      "mizani==0.6.0\n",
      "mkl==2019.0\n",
      "mlxtend==0.14.0\n",
      "more-itertools==8.14.0\n",
      "moviepy==0.2.3.5\n",
      "mpmath==1.2.1\n",
      "msgpack==1.0.4\n",
      "multidict==6.0.2\n",
      "multitasking==0.0.11\n",
      "murmurhash==1.0.7\n",
      "music21==5.5.0\n",
      "natsort==5.5.0\n",
      "nbconvert==5.6.1\n",
      "nbformat==5.4.0\n",
      "netCDF4==1.6.0\n",
      "networkx==2.6.3\n",
      "neural-structured-learning==1.4.0\n",
      "nibabel==3.0.2\n",
      "nltk==3.7\n",
      "notebook==5.3.1\n",
      "numba==0.53.0\n",
      "numexpr==2.8.3\n",
      "numpy==1.21.6\n",
      "oauth2client==4.1.3\n",
      "oauthlib==3.2.0\n",
      "okgrade==0.4.3\n",
      "opencv-contrib-python==4.6.0.66\n",
      "opencv-python==4.6.0.66\n",
      "opencv-python-headless==4.6.0.66\n",
      "openpyxl==3.0.10\n",
      "opt-einsum==3.3.0\n",
      "osqp==0.6.2.post0\n",
      "packaging==20.9\n",
      "palettable==3.3.0\n",
      "pandas==1.3.5\n",
      "pandas-datareader==0.9.0\n",
      "pandas-gbq==0.13.3\n",
      "pandas-profiling==1.4.1\n",
      "pandocfilters==1.5.0\n",
      "panel==0.12.1\n",
      "param==1.12.2\n",
      "parso==0.8.3\n",
      "pastel==0.2.1\n",
      "pathlib==1.0.1\n",
      "pathy==0.6.2\n",
      "patsy==0.5.2\n",
      "pep517==0.13.0\n",
      "pexpect==4.8.0\n",
      "pickleshare==0.7.5\n",
      "Pillow==7.1.2\n",
      "pip-tools==6.2.0\n",
      "plotly==5.5.0\n",
      "plotnine==0.6.0\n",
      "pluggy==0.7.1\n",
      "pooch==1.6.0\n",
      "portpicker==1.3.9\n",
      "prefetch-generator==1.0.1\n",
      "preshed==3.0.6\n",
      "prettytable==3.3.0\n",
      "progressbar2==3.38.0\n",
      "promise==2.3\n",
      "prompt-toolkit==2.0.10\n",
      "prophet==1.1\n",
      "protobuf==3.19.4\n",
      "psutil==5.4.8\n",
      "psycopg2==2.9.3\n",
      "ptyprocess==0.7.0\n",
      "py==1.11.0\n",
      "py-cpuinfo==8.0.0\n",
      "pyarrow==6.0.1\n",
      "pyasn1==0.4.8\n",
      "pyasn1-modules==0.2.8\n",
      "pybind11==2.10.0\n",
      "pycocotools==2.0.4\n",
      "pycparser==2.21\n",
      "pyct==0.4.8\n",
      "pydantic==1.9.1\n",
      "pydata-google-auth==1.4.0\n",
      "pydot==1.3.0\n",
      "pydot-ng==2.0.0\n",
      "pydotplus==2.0.2\n",
      "PyDrive==1.3.1\n",
      "pyemd==0.5.1\n",
      "pyerfa==2.0.0.1\n",
      "pyglet==1.5.0\n",
      "Pygments==2.6.1\n",
      "pygobject==3.26.1\n",
      "pylev==1.4.0\n",
      "pymc3==3.11.5\n",
      "PyMeeus==0.5.11\n",
      "pymongo==4.2.0\n",
      "pymystem3==0.2.0\n",
      "PyOpenGL==3.1.6\n",
      "pyparsing==3.0.9\n",
      "pyrsistent==0.18.1\n",
      "pysimdjson==3.2.0\n",
      "pysndfile==1.3.8\n",
      "PySocks==1.7.1\n",
      "pystan==3.3.0\n",
      "pytest==3.6.4\n",
      "python-apt==0.0.0\n",
      "python-chess==0.23.11\n",
      "python-dateutil==2.8.2\n",
      "python-louvain==0.16\n",
      "python-slugify==6.1.2\n",
      "python-utils==3.3.3\n",
      "pytz==2022.1\n",
      "pyviz-comms==2.2.0\n",
      "PyWavelets==1.3.0\n",
      "PyYAML==6.0\n",
      "pyzmq==23.2.0\n",
      "qdldl==0.1.5.post2\n",
      "qudida==0.0.4\n",
      "regex==2022.6.2\n",
      "requests==2.23.0\n",
      "requests-oauthlib==1.3.1\n",
      "resampy==0.4.0\n",
      "rpy2==3.4.5\n",
      "rsa==4.9\n",
      "scann==1.2.7\n",
      "scikit-image==0.18.3\n",
      "scikit-learn==1.0.2\n",
      "scipy==1.7.3\n",
      "screen-resolution-extra==0.0.0\n",
      "scs==3.2.0\n",
      "seaborn==0.11.2\n",
      "semver==2.13.0\n",
      "Send2Trash==1.8.0\n",
      "sentencepiece==0.1.97\n",
      "setuptools-git==1.2\n",
      "Shapely==1.8.2\n",
      "six==1.15.0\n",
      "sklearn==0.0\n",
      "sklearn-pandas==1.8.0\n",
      "smart-open==5.2.1\n",
      "snowballstemmer==2.2.0\n",
      "sortedcontainers==2.4.0\n",
      "sounddevice==0.4.4\n",
      "SoundFile==0.10.3.post1\n",
      "spacy==3.4.1\n",
      "spacy-legacy==3.0.9\n",
      "spacy-loggers==1.0.3\n",
      "Sphinx==1.8.6\n",
      "sphinxcontrib-serializinghtml==1.1.5\n",
      "sphinxcontrib-websupport==1.2.4\n",
      "SQLAlchemy==1.4.40\n",
      "sqlparse==0.4.2\n",
      "srsly==2.4.4\n",
      "statsmodels==0.10.2\n",
      "sympy==1.7.1\n",
      "tables==3.7.0\n",
      "tabulate==0.8.10\n",
      "tblib==1.7.0\n",
      "tenacity==8.0.1\n",
      "tensorboard==2.9.1\n",
      "tensorboard-data-server==0.6.1\n",
      "tensorboard-plugin-wit==1.8.1\n",
      "tensorflow==2.9.1\n",
      "tensorflow-addons==0.17.1\n",
      "tensorflow-datasets==4.6.0\n",
      "tensorflow-estimator==2.9.0\n",
      "tensorflow-gcs-config==2.8.0\n",
      "tensorflow-hub==0.12.0\n",
      "tensorflow-io-gcs-filesystem==0.26.0\n",
      "tensorflow-metadata==1.9.0\n",
      "tensorflow-model-optimization==0.7.3\n",
      "tensorflow-probability==0.16.0\n",
      "tensorflowjs==3.18.0\n",
      "termcolor==1.1.0\n",
      "terminado==0.13.3\n",
      "testpath==0.6.0\n",
      "text-unidecode==1.3\n",
      "textblob==0.15.3\n",
      "tf-estimator-nightly==2.8.0.dev2021122109\n",
      "tf-models-official==2.3.0\n",
      "tf-slim==1.1.0\n",
      "tflite-model-maker==0.4.0\n",
      "tflite-support==0.4.1\n",
      "Theano-PyMC==1.1.2\n",
      "thinc==8.1.0\n",
      "threadpoolctl==3.1.0\n",
      "tifffile==2021.11.2\n",
      "toml==0.10.2\n",
      "tomli==2.0.1\n",
      "toolz==0.12.0\n",
      "torch @ https://download.pytorch.org/whl/cu113/torch-1.12.1%2Bcu113-cp37-cp37m-linux_x86_64.whl\n",
      "torchaudio @ https://download.pytorch.org/whl/cu113/torchaudio-0.12.1%2Bcu113-cp37-cp37m-linux_x86_64.whl\n",
      "torchsummary==1.5.1\n",
      "torchtext==0.13.1\n",
      "torchvision @ https://download.pytorch.org/whl/cu113/torchvision-0.13.1%2Bcu113-cp37-cp37m-linux_x86_64.whl\n",
      "tornado==5.1.1\n",
      "tqdm==4.64.0\n",
      "traitlets==5.1.1\n",
      "tweepy==3.10.0\n",
      "typeguard==2.7.1\n",
      "typer==0.4.2\n",
      "typing-extensions==4.1.1\n",
      "tzlocal==1.5.1\n",
      "ujson==5.4.0\n",
      "uritemplate==3.0.1\n",
      "urllib3==1.24.3\n",
      "vega-datasets==0.9.0\n",
      "wasabi==0.10.1\n",
      "wcwidth==0.2.5\n",
      "webargs==8.2.0\n",
      "webencodings==0.5.1\n",
      "Werkzeug==1.0.1\n",
      "widgetsnbextension==3.6.1\n",
      "wordcloud==1.8.2.2\n",
      "wrapt==1.14.1\n",
      "xarray==0.20.2\n",
      "xarray-einstats==0.2.2\n",
      "xgboost==0.90\n",
      "xkit==0.0.0\n",
      "xlrd==1.1.0\n",
      "xlwt==1.3.0\n",
      "yarl==1.8.1\n",
      "yellowbrick==1.4\n",
      "zict==2.2.0\n",
      "zipp==3.8.1\n"
     ]
    }
   ],
   "source": [
    "#!pip freeze > ./requirements_freeze.txt\n",
    "!pip freeze"
   ]
  },
  {
   "cell_type": "code",
   "execution_count": 4,
   "metadata": {
    "id": "SBUzwWUMr5Sw"
   },
   "outputs": [],
   "source": [
    "!sudo rm -r ./sample_data"
   ]
  },
  {
   "cell_type": "code",
   "execution_count": 5,
   "metadata": {
    "colab": {
     "base_uri": "https://localhost:8080/"
    },
    "id": "rwUA9u4oWoCR",
    "outputId": "ee061e48-1514-4482-baea-be9a0111168c"
   },
   "outputs": [
    {
     "name": "stdout",
     "output_type": "stream",
     "text": [
      "TensorFlow Version: 2.9.1\n",
      "Model Maker Version: 0.4.0\n"
     ]
    }
   ],
   "source": [
    "import os\n",
    "import glob\n",
    "import random\n",
    "import shutil\n",
    "\n",
    "import librosa\n",
    "import soundfile as sf\n",
    "from IPython.display import Audio\n",
    "import numpy as np\n",
    "import matplotlib.pyplot as plt\n",
    "import seaborn as sns\n",
    "\n",
    "import tensorflow as tf\n",
    "import tflite_model_maker as mm\n",
    "from tflite_model_maker import audio_classifier\n",
    "from tflite_model_maker.config import ExportFormat\n",
    "\n",
    "print(f\"TensorFlow Version: {tf.__version__}\")\n",
    "print(f\"Model Maker Version: {mm.__version__}\")"
   ]
  },
  {
   "cell_type": "markdown",
   "metadata": {
    "id": "cBsSAeYLkc1Z"
   },
   "source": [
    "## Prepare the dataset"
   ]
  },
  {
   "cell_type": "markdown",
   "metadata": {
    "id": "NTTSXJxJq2Bz"
   },
   "source": [
    "To train with the default speech dataset, just run all the code below as-is.\n",
    "\n",
    "But if you want to train with your own speech dataset, follow these steps:\n",
    "\n",
    "**Note:** \n",
    "The model you'll retrain expects input data to be roughly one second of audio at 44.1 kHz. Model Maker perfoms automatic resampling for the training dataset, so there's no need to resample your dataset if it has a sample rate other than 44.1 kHz. But beware that audio samples longer than one second will be split into multiple one-second chunks, and the final chunk will be discarded if it's shorter than one second.\n",
    "\n",
    "1. Be sure each sample in your dataset is in **WAV file format, about one second long**. Then create a ZIP file with all your WAV files, organized into separate subfolders for each classification. For example, each sample for a speech command \"yes\" should be in a subfolder named \"yes\". Even if you have only one class, the samples must be saved in a subdirectory with the class name as the directory name. (This script assumes your dataset **is not split** into train/validation/test sets and performs that split for you.)\n",
    "2. Click the **Files** tab in the left panel and just drag-drop your ZIP file there to upload it.\n",
    "3. Use the following drop-down option to set **`use_custom_dataset`** to True.\n",
    "4. Then skip to [Prepare a custom audio dataset](#scrollTo=EobYerLQkiF1) to specify your ZIP filename and dataset directory name.\n",
    "\n",
    "\n"
   ]
  },
  {
   "cell_type": "code",
   "execution_count": 6,
   "metadata": {
    "cellView": "form",
    "id": "AK9o98X7qyhU"
   },
   "outputs": [],
   "source": [
    "use_custom_dataset = True #@param [\"False\", \"True\"] {type:\"raw\"}"
   ]
  },
  {
   "cell_type": "markdown",
   "metadata": {
    "id": "D2sNXbYVHjjy"
   },
   "source": [
    "### Generate a background noise dataset"
   ]
  },
  {
   "cell_type": "markdown",
   "metadata": {
    "id": "gBVClNMwHtMD"
   },
   "source": [
    "Whether you're using the default speech dataset or a custom dataset, you should have a good set of background noises so your model can distinguish speech from other noises (including silence). \n",
    "\n",
    "Because the following background samples are provided in WAV files that are a minute long or longer, we need to split them up into smaller one-second samples so we can reserve some for our test dataset. We'll also combine a couple different sample sources to build a comprehensive set of background noises and silence:"
   ]
  },
  {
   "cell_type": "code",
   "execution_count": 7,
   "metadata": {
    "colab": {
     "base_uri": "https://localhost:8080/",
     "height": 70
    },
    "id": "qvJd9VfmHu29",
    "outputId": "d47f9c0c-5fde-4efe-e2a4-47116e8bd620"
   },
   "outputs": [
    {
     "name": "stdout",
     "output_type": "stream",
     "text": [
      "Downloading data from https://storage.googleapis.com/download.tensorflow.org/models/tflite/sound_classification/background_audio.zip\n",
      "1072437/1072437 [==============================] - 0s 0us/step\n"
     ]
    },
    {
     "data": {
      "application/vnd.google.colaboratory.intrinsic+json": {
       "type": "string"
      },
      "text/plain": [
       "'./dataset-background/background_audio.zip'"
      ]
     },
     "execution_count": 7,
     "metadata": {},
     "output_type": "execute_result"
    }
   ],
   "source": [
    "\"\"\"\n",
    "tf.keras.utils.get_file(\"speech_commands_v0.01.tar.gz\",\n",
    "                        \"http://download.tensorflow.org/data/speech_commands_v0.01.tar.gz\",\n",
    "                        cache_dir=\"./\",\n",
    "                        cache_subdir=\"dataset-speech\",\n",
    "                        extract=True)\n",
    "\"\"\"\n",
    "tf.keras.utils.get_file(\"background_audio.zip\",\n",
    "                        \"https://storage.googleapis.com/download.tensorflow.org/models/tflite/sound_classification/background_audio.zip\",\n",
    "                        cache_dir=\"./\",\n",
    "                        cache_subdir=\"dataset-background\",\n",
    "                        extract=True)\n"
   ]
  },
  {
   "cell_type": "markdown",
   "metadata": {
    "id": "7CAVFc3woB3_"
   },
   "source": [
    "**Note:** Although there is a newer version available, we're using v0.01 of the speech commands dataset because it's a smaller download. v0.01 includes 30 commands, while v0.02 adds five more (\"backward\", \"forward\", \"follow\", \"learn\" and \"visual\")."
   ]
  },
  {
   "cell_type": "code",
   "execution_count": 8,
   "metadata": {
    "colab": {
     "base_uri": "https://localhost:8080/"
    },
    "id": "xgwWNifGL-3b",
    "outputId": "a625108f-fdf0-4a6d-df35-65829bf072dd"
   },
   "outputs": [
    {
     "name": "stdout",
     "output_type": "stream",
     "text": [
      "Splitting throat_clearing.wav\n",
      "Splitting silence.wav\n"
     ]
    }
   ],
   "source": [
    "# Create a list of all the background wav files\n",
    "files = glob.glob(os.path.join(\"./dataset-speech/_background_noise_\", \"*.wav\").replace(\"\\\\\", \"/\"))\n",
    "files = files + glob.glob(os.path.join(\"./dataset-background\", \"*.wav\").replace(\"\\\\\", \"/\"))\n",
    "\n",
    "background_dir = \"./background\"\n",
    "os.makedirs(background_dir, exist_ok=True)\n",
    "\n",
    "# Loop through all files and split each into several one-second wav files\n",
    "for file in files:\n",
    "  filename = os.path.basename(os.path.normpath(file))\n",
    "  print(\"Splitting\", filename)\n",
    "  name = os.path.splitext(filename)[0]\n",
    "  rate = librosa.get_samplerate(file)\n",
    "  length = round(librosa.get_duration(filename=file))\n",
    "  for i in range(length - 1):\n",
    "    start = i * rate\n",
    "    stop = (i * rate) + rate\n",
    "    data, _ = sf.read(file, start=start, stop=stop)\n",
    "    sf.write(os.path.join(background_dir, name + str(i) + \".wav\").replace(\"\\\\\", \"/\"), data, rate)"
   ]
  },
  {
   "cell_type": "markdown",
   "metadata": {
    "id": "bVlvVq-SkeeO"
   },
   "source": [
    "### Prepare the speech commands dataset (NOT NEEDED)"
   ]
  },
  {
   "cell_type": "markdown",
   "metadata": {
    "id": "q_q22T5UHbJG"
   },
   "source": [
    "We already downloaded the speech commands dataset, so now we just need to prune the number of classes for our model.\n",
    "\n",
    "This dataset includes over 30 speech command classifications, and most of them have over 2,000 samples. But because we're using transfer learning, we don't need that many samples. So the following code does a few things:\n",
    "\n",
    "+ Specify which classifications we want to use, and delete the rest.\n",
    "+ Keep only 150 samples of each class for training (to prove that transfer learning works well with smaller datasets and simply to reduce the training time).\n",
    "+ Create a separate directory for a test dataset so we can easily run inference with them later."
   ]
  },
  {
   "cell_type": "code",
   "execution_count": 9,
   "metadata": {
    "colab": {
     "base_uri": "https://localhost:8080/",
     "height": 0
    },
    "id": "zUSRpw2nOp8p",
    "outputId": "e348b9e0-eb7a-450a-aa79-126397d22def"
   },
   "outputs": [
    {
     "data": {
      "application/vnd.google.colaboratory.intrinsic+json": {
       "type": "string"
      },
      "text/plain": [
       "'\\nif not use_custom_dataset:\\n  commands = [ \"up\", \"down\", \"left\", \"right\", \"go\", \"stop\", \"on\", \"off\", \"background\"]\\n  dataset_dir = \"./dataset-speech\"\\n  test_dir = \"./dataset-test\"\\n\\n  # Move the processed background samples\\n  shutil.move(background_dir, os.path.join(dataset_dir, \"background\"))   \\n\\n  # Delete all directories that are not in our commands list\\n  dirs = glob.glob(os.path.join(dataset_dir, \"*/\"))\\n  for dir in dirs:\\n    name = os.path.basename(os.path.normpath(dir))\\n    if name not in commands:\\n      shutil.rmtree(dir)\\n\\n  # Count is per class\\n  sample_count = 150\\n  test_data_ratio = 0.2\\n  test_count = round(sample_count * test_data_ratio)\\n\\n  # Loop through child directories (each class of wav files)\\n  dirs = glob.glob(os.path.join(dataset_dir, \"*/\"))\\n  for dir in dirs:\\n    files = glob.glob(os.path.join(dir, \"*.wav\"))\\n    random.seed(42)\\n    random.shuffle(files)\\n    # Move test samples:\\n    for file in files[sample_count:sample_count + test_count]:\\n      class_dir = os.path.basename(os.path.normpath(dir))\\n      os.makedirs(os.path.join(test_dir, class_dir), exist_ok=True)\\n      os.rename(file, os.path.join(test_dir, class_dir, os.path.basename(file)))\\n    # Delete remaining samples\\n    for file in files[sample_count + test_count:]:\\n      os.remove(file)\\n'"
      ]
     },
     "execution_count": 9,
     "metadata": {},
     "output_type": "execute_result"
    }
   ],
   "source": [
    "\"\"\"\n",
    "if not use_custom_dataset:\n",
    "  commands = [ \"up\", \"down\", \"left\", \"right\", \"go\", \"stop\", \"on\", \"off\", \"background\"]\n",
    "  dataset_dir = \"./dataset-speech\"\n",
    "  test_dir = \"./dataset-test\"\n",
    "\n",
    "  # Move the processed background samples\n",
    "  shutil.move(background_dir, os.path.join(dataset_dir, \"background\"))   \n",
    "\n",
    "  # Delete all directories that are not in our commands list\n",
    "  dirs = glob.glob(os.path.join(dataset_dir, \"*/\"))\n",
    "  for dir in dirs:\n",
    "    name = os.path.basename(os.path.normpath(dir))\n",
    "    if name not in commands:\n",
    "      shutil.rmtree(dir)\n",
    "\n",
    "  # Count is per class\n",
    "  sample_count = 150\n",
    "  test_data_ratio = 0.2\n",
    "  test_count = round(sample_count * test_data_ratio)\n",
    "\n",
    "  # Loop through child directories (each class of wav files)\n",
    "  dirs = glob.glob(os.path.join(dataset_dir, \"*/\"))\n",
    "  for dir in dirs:\n",
    "    files = glob.glob(os.path.join(dir, \"*.wav\"))\n",
    "    random.seed(42)\n",
    "    random.shuffle(files)\n",
    "    # Move test samples:\n",
    "    for file in files[sample_count:sample_count + test_count]:\n",
    "      class_dir = os.path.basename(os.path.normpath(dir))\n",
    "      os.makedirs(os.path.join(test_dir, class_dir), exist_ok=True)\n",
    "      os.rename(file, os.path.join(test_dir, class_dir, os.path.basename(file)))\n",
    "    # Delete remaining samples\n",
    "    for file in files[sample_count + test_count:]:\n",
    "      os.remove(file)\n",
    "\"\"\""
   ]
  },
  {
   "cell_type": "markdown",
   "metadata": {
    "id": "EobYerLQkiF1"
   },
   "source": [
    "### Prepare a custom dataset"
   ]
  },
  {
   "cell_type": "markdown",
   "metadata": {
    "id": "f3xTvDP3knMd"
   },
   "source": [
    "If you want to train the model with our own speech dataset, you need to upload your samples as WAV files in a ZIP ([as described above](#scrollTo=cBsSAeYLkc1Z)) and modify the following variables to specify your dataset:"
   ]
  },
  {
   "cell_type": "code",
   "execution_count": 10,
   "metadata": {
    "colab": {
     "base_uri": "https://localhost:8080/"
    },
    "id": "77PsQAKA4Arx",
    "outputId": "b31d07cc-713f-46e3-ec11-c25ac08413bd"
   },
   "outputs": [
    {
     "name": "stdout",
     "output_type": "stream",
     "text": [
      "Archive:  TL_standarised_spanish_commands.zip\n",
      "   creating: standarised_transfer_learning/\n",
      "   creating: standarised_transfer_learning/00-cero/\n",
      "  inflating: standarised_transfer_learning/00-cero/0.wav  \n",
      "  inflating: standarised_transfer_learning/00-cero/1.wav  \n",
      "  inflating: standarised_transfer_learning/00-cero/10.wav  \n",
      "  inflating: standarised_transfer_learning/00-cero/100.wav  \n",
      "  inflating: standarised_transfer_learning/00-cero/101.wav  \n",
      "  inflating: standarised_transfer_learning/00-cero/11.wav  \n",
      "  inflating: standarised_transfer_learning/00-cero/12.wav  \n",
      "  inflating: standarised_transfer_learning/00-cero/13.wav  \n",
      "  inflating: standarised_transfer_learning/00-cero/14.wav  \n",
      "  inflating: standarised_transfer_learning/00-cero/15.wav  \n",
      "  inflating: standarised_transfer_learning/00-cero/16.wav  \n",
      "  inflating: standarised_transfer_learning/00-cero/17.wav  \n",
      "  inflating: standarised_transfer_learning/00-cero/18.wav  \n",
      "  inflating: standarised_transfer_learning/00-cero/19.wav  \n",
      "  inflating: standarised_transfer_learning/00-cero/2.wav  \n",
      "  inflating: standarised_transfer_learning/00-cero/20.wav  \n",
      "  inflating: standarised_transfer_learning/00-cero/21.wav  \n",
      "  inflating: standarised_transfer_learning/00-cero/22.wav  \n",
      "  inflating: standarised_transfer_learning/00-cero/23.wav  \n",
      "  inflating: standarised_transfer_learning/00-cero/24.wav  \n",
      "  inflating: standarised_transfer_learning/00-cero/25.wav  \n",
      "  inflating: standarised_transfer_learning/00-cero/26.wav  \n",
      "  inflating: standarised_transfer_learning/00-cero/27.wav  \n",
      "  inflating: standarised_transfer_learning/00-cero/28.wav  \n",
      "  inflating: standarised_transfer_learning/00-cero/29.wav  \n",
      "  inflating: standarised_transfer_learning/00-cero/3.wav  \n",
      "  inflating: standarised_transfer_learning/00-cero/30.wav  \n",
      "  inflating: standarised_transfer_learning/00-cero/31.wav  \n",
      "  inflating: standarised_transfer_learning/00-cero/32.wav  \n",
      "  inflating: standarised_transfer_learning/00-cero/33.wav  \n",
      "  inflating: standarised_transfer_learning/00-cero/34.wav  \n",
      "  inflating: standarised_transfer_learning/00-cero/35.wav  \n",
      "  inflating: standarised_transfer_learning/00-cero/36.wav  \n",
      "  inflating: standarised_transfer_learning/00-cero/37.wav  \n",
      "  inflating: standarised_transfer_learning/00-cero/38.wav  \n",
      "  inflating: standarised_transfer_learning/00-cero/39.wav  \n",
      "  inflating: standarised_transfer_learning/00-cero/4.wav  \n",
      "  inflating: standarised_transfer_learning/00-cero/40.wav  \n",
      "  inflating: standarised_transfer_learning/00-cero/41.wav  \n",
      "  inflating: standarised_transfer_learning/00-cero/42.wav  \n",
      "  inflating: standarised_transfer_learning/00-cero/43.wav  \n",
      "  inflating: standarised_transfer_learning/00-cero/44.wav  \n",
      "  inflating: standarised_transfer_learning/00-cero/45.wav  \n",
      "  inflating: standarised_transfer_learning/00-cero/46.wav  \n",
      "  inflating: standarised_transfer_learning/00-cero/47.wav  \n",
      "  inflating: standarised_transfer_learning/00-cero/48.wav  \n",
      "  inflating: standarised_transfer_learning/00-cero/49.wav  \n",
      "  inflating: standarised_transfer_learning/00-cero/5.wav  \n",
      "  inflating: standarised_transfer_learning/00-cero/50.wav  \n",
      "  inflating: standarised_transfer_learning/00-cero/51.wav  \n",
      "  inflating: standarised_transfer_learning/00-cero/52.wav  \n",
      "  inflating: standarised_transfer_learning/00-cero/53.wav  \n",
      "  inflating: standarised_transfer_learning/00-cero/54.wav  \n",
      "  inflating: standarised_transfer_learning/00-cero/55.wav  \n",
      "  inflating: standarised_transfer_learning/00-cero/56.wav  \n",
      "  inflating: standarised_transfer_learning/00-cero/57.wav  \n",
      "  inflating: standarised_transfer_learning/00-cero/58.wav  \n",
      "  inflating: standarised_transfer_learning/00-cero/59.wav  \n",
      "  inflating: standarised_transfer_learning/00-cero/6.wav  \n",
      "  inflating: standarised_transfer_learning/00-cero/60.wav  \n",
      "  inflating: standarised_transfer_learning/00-cero/61.wav  \n",
      "  inflating: standarised_transfer_learning/00-cero/62.wav  \n",
      "  inflating: standarised_transfer_learning/00-cero/63.wav  \n",
      "  inflating: standarised_transfer_learning/00-cero/64.wav  \n",
      "  inflating: standarised_transfer_learning/00-cero/65.wav  \n",
      "  inflating: standarised_transfer_learning/00-cero/66.wav  \n",
      "  inflating: standarised_transfer_learning/00-cero/67.wav  \n",
      "  inflating: standarised_transfer_learning/00-cero/68.wav  \n",
      "  inflating: standarised_transfer_learning/00-cero/69.wav  \n",
      "  inflating: standarised_transfer_learning/00-cero/7.wav  \n",
      "  inflating: standarised_transfer_learning/00-cero/70.wav  \n",
      "  inflating: standarised_transfer_learning/00-cero/71.wav  \n",
      "  inflating: standarised_transfer_learning/00-cero/72.wav  \n",
      "  inflating: standarised_transfer_learning/00-cero/73.wav  \n",
      "  inflating: standarised_transfer_learning/00-cero/74.wav  \n",
      "  inflating: standarised_transfer_learning/00-cero/75.wav  \n",
      "  inflating: standarised_transfer_learning/00-cero/76.wav  \n",
      "  inflating: standarised_transfer_learning/00-cero/77.wav  \n",
      "  inflating: standarised_transfer_learning/00-cero/78.wav  \n",
      "  inflating: standarised_transfer_learning/00-cero/79.wav  \n",
      "  inflating: standarised_transfer_learning/00-cero/8.wav  \n",
      "  inflating: standarised_transfer_learning/00-cero/80.wav  \n",
      "  inflating: standarised_transfer_learning/00-cero/81.wav  \n",
      "  inflating: standarised_transfer_learning/00-cero/82.wav  \n",
      "  inflating: standarised_transfer_learning/00-cero/83.wav  \n",
      "  inflating: standarised_transfer_learning/00-cero/84.wav  \n",
      "  inflating: standarised_transfer_learning/00-cero/85.wav  \n",
      "  inflating: standarised_transfer_learning/00-cero/86.wav  \n",
      "  inflating: standarised_transfer_learning/00-cero/87.wav  \n",
      "  inflating: standarised_transfer_learning/00-cero/88.wav  \n",
      "  inflating: standarised_transfer_learning/00-cero/89.wav  \n",
      "  inflating: standarised_transfer_learning/00-cero/9.wav  \n",
      "  inflating: standarised_transfer_learning/00-cero/90.wav  \n",
      "  inflating: standarised_transfer_learning/00-cero/91.wav  \n",
      "  inflating: standarised_transfer_learning/00-cero/92.wav  \n",
      "  inflating: standarised_transfer_learning/00-cero/93.wav  \n",
      "  inflating: standarised_transfer_learning/00-cero/94.wav  \n",
      "  inflating: standarised_transfer_learning/00-cero/95.wav  \n",
      "  inflating: standarised_transfer_learning/00-cero/96.wav  \n",
      "  inflating: standarised_transfer_learning/00-cero/97.wav  \n",
      "  inflating: standarised_transfer_learning/00-cero/98.wav  \n",
      "  inflating: standarised_transfer_learning/00-cero/99.wav  \n",
      "   creating: standarised_transfer_learning/01-uno/\n",
      "  inflating: standarised_transfer_learning/01-uno/0.wav  \n",
      "  inflating: standarised_transfer_learning/01-uno/1.wav  \n",
      "  inflating: standarised_transfer_learning/01-uno/10.wav  \n",
      "  inflating: standarised_transfer_learning/01-uno/100.wav  \n",
      "  inflating: standarised_transfer_learning/01-uno/101.wav  \n",
      "  inflating: standarised_transfer_learning/01-uno/11.wav  \n",
      "  inflating: standarised_transfer_learning/01-uno/12.wav  \n",
      "  inflating: standarised_transfer_learning/01-uno/13.wav  \n",
      "  inflating: standarised_transfer_learning/01-uno/14.wav  \n",
      "  inflating: standarised_transfer_learning/01-uno/15.wav  \n",
      "  inflating: standarised_transfer_learning/01-uno/16.wav  \n",
      "  inflating: standarised_transfer_learning/01-uno/17.wav  \n",
      "  inflating: standarised_transfer_learning/01-uno/18.wav  \n",
      "  inflating: standarised_transfer_learning/01-uno/19.wav  \n",
      "  inflating: standarised_transfer_learning/01-uno/2.wav  \n",
      "  inflating: standarised_transfer_learning/01-uno/20.wav  \n",
      "  inflating: standarised_transfer_learning/01-uno/21.wav  \n",
      "  inflating: standarised_transfer_learning/01-uno/22.wav  \n",
      "  inflating: standarised_transfer_learning/01-uno/23.wav  \n",
      "  inflating: standarised_transfer_learning/01-uno/24.wav  \n",
      "  inflating: standarised_transfer_learning/01-uno/25.wav  \n",
      "  inflating: standarised_transfer_learning/01-uno/26.wav  \n",
      "  inflating: standarised_transfer_learning/01-uno/27.wav  \n",
      "  inflating: standarised_transfer_learning/01-uno/28.wav  \n",
      "  inflating: standarised_transfer_learning/01-uno/29.wav  \n",
      "  inflating: standarised_transfer_learning/01-uno/3.wav  \n",
      "  inflating: standarised_transfer_learning/01-uno/30.wav  \n",
      "  inflating: standarised_transfer_learning/01-uno/31.wav  \n",
      "  inflating: standarised_transfer_learning/01-uno/32.wav  \n",
      "  inflating: standarised_transfer_learning/01-uno/33.wav  \n",
      "  inflating: standarised_transfer_learning/01-uno/34.wav  \n",
      "  inflating: standarised_transfer_learning/01-uno/35.wav  \n",
      "  inflating: standarised_transfer_learning/01-uno/36.wav  \n",
      "  inflating: standarised_transfer_learning/01-uno/37.wav  \n",
      "  inflating: standarised_transfer_learning/01-uno/38.wav  \n",
      "  inflating: standarised_transfer_learning/01-uno/39.wav  \n",
      "  inflating: standarised_transfer_learning/01-uno/4.wav  \n",
      "  inflating: standarised_transfer_learning/01-uno/40.wav  \n",
      "  inflating: standarised_transfer_learning/01-uno/41.wav  \n",
      "  inflating: standarised_transfer_learning/01-uno/42.wav  \n",
      "  inflating: standarised_transfer_learning/01-uno/43.wav  \n",
      "  inflating: standarised_transfer_learning/01-uno/44.wav  \n",
      "  inflating: standarised_transfer_learning/01-uno/45.wav  \n",
      "  inflating: standarised_transfer_learning/01-uno/46.wav  \n",
      "  inflating: standarised_transfer_learning/01-uno/47.wav  \n",
      "  inflating: standarised_transfer_learning/01-uno/48.wav  \n",
      "  inflating: standarised_transfer_learning/01-uno/49.wav  \n",
      "  inflating: standarised_transfer_learning/01-uno/5.wav  \n",
      "  inflating: standarised_transfer_learning/01-uno/50.wav  \n",
      "  inflating: standarised_transfer_learning/01-uno/51.wav  \n",
      "  inflating: standarised_transfer_learning/01-uno/52.wav  \n",
      "  inflating: standarised_transfer_learning/01-uno/53.wav  \n",
      "  inflating: standarised_transfer_learning/01-uno/54.wav  \n",
      "  inflating: standarised_transfer_learning/01-uno/55.wav  \n",
      "  inflating: standarised_transfer_learning/01-uno/56.wav  \n",
      "  inflating: standarised_transfer_learning/01-uno/57.wav  \n",
      "  inflating: standarised_transfer_learning/01-uno/58.wav  \n",
      "  inflating: standarised_transfer_learning/01-uno/59.wav  \n",
      "  inflating: standarised_transfer_learning/01-uno/6.wav  \n",
      "  inflating: standarised_transfer_learning/01-uno/60.wav  \n",
      "  inflating: standarised_transfer_learning/01-uno/61.wav  \n",
      "  inflating: standarised_transfer_learning/01-uno/62.wav  \n",
      "  inflating: standarised_transfer_learning/01-uno/63.wav  \n",
      "  inflating: standarised_transfer_learning/01-uno/64.wav  \n",
      "  inflating: standarised_transfer_learning/01-uno/65.wav  \n",
      "  inflating: standarised_transfer_learning/01-uno/66.wav  \n",
      "  inflating: standarised_transfer_learning/01-uno/67.wav  \n",
      "  inflating: standarised_transfer_learning/01-uno/68.wav  \n",
      "  inflating: standarised_transfer_learning/01-uno/69.wav  \n",
      "  inflating: standarised_transfer_learning/01-uno/7.wav  \n",
      "  inflating: standarised_transfer_learning/01-uno/70.wav  \n",
      "  inflating: standarised_transfer_learning/01-uno/71.wav  \n",
      "  inflating: standarised_transfer_learning/01-uno/72.wav  \n",
      "  inflating: standarised_transfer_learning/01-uno/73.wav  \n",
      "  inflating: standarised_transfer_learning/01-uno/74.wav  \n",
      "  inflating: standarised_transfer_learning/01-uno/75.wav  \n",
      "  inflating: standarised_transfer_learning/01-uno/76.wav  \n",
      "  inflating: standarised_transfer_learning/01-uno/77.wav  \n",
      "  inflating: standarised_transfer_learning/01-uno/78.wav  \n",
      "  inflating: standarised_transfer_learning/01-uno/79.wav  \n",
      "  inflating: standarised_transfer_learning/01-uno/8.wav  \n",
      "  inflating: standarised_transfer_learning/01-uno/80.wav  \n",
      "  inflating: standarised_transfer_learning/01-uno/81.wav  \n",
      "  inflating: standarised_transfer_learning/01-uno/82.wav  \n",
      "  inflating: standarised_transfer_learning/01-uno/83.wav  \n",
      "  inflating: standarised_transfer_learning/01-uno/84.wav  \n",
      "  inflating: standarised_transfer_learning/01-uno/85.wav  \n",
      "  inflating: standarised_transfer_learning/01-uno/86.wav  \n",
      "  inflating: standarised_transfer_learning/01-uno/87.wav  \n",
      "  inflating: standarised_transfer_learning/01-uno/88.wav  \n",
      "  inflating: standarised_transfer_learning/01-uno/89.wav  \n",
      "  inflating: standarised_transfer_learning/01-uno/9.wav  \n",
      "  inflating: standarised_transfer_learning/01-uno/90.wav  \n",
      "  inflating: standarised_transfer_learning/01-uno/91.wav  \n",
      "  inflating: standarised_transfer_learning/01-uno/92.wav  \n",
      "  inflating: standarised_transfer_learning/01-uno/93.wav  \n",
      "  inflating: standarised_transfer_learning/01-uno/94.wav  \n",
      "  inflating: standarised_transfer_learning/01-uno/95.wav  \n",
      "  inflating: standarised_transfer_learning/01-uno/96.wav  \n",
      "  inflating: standarised_transfer_learning/01-uno/97.wav  \n",
      "  inflating: standarised_transfer_learning/01-uno/98.wav  \n",
      "  inflating: standarised_transfer_learning/01-uno/99.wav  \n",
      "   creating: standarised_transfer_learning/02-dos/\n",
      "  inflating: standarised_transfer_learning/02-dos/0.wav  \n",
      "  inflating: standarised_transfer_learning/02-dos/1.wav  \n",
      "  inflating: standarised_transfer_learning/02-dos/10.wav  \n",
      "  inflating: standarised_transfer_learning/02-dos/100.wav  \n",
      "  inflating: standarised_transfer_learning/02-dos/101.wav  \n",
      "  inflating: standarised_transfer_learning/02-dos/11.wav  \n",
      "  inflating: standarised_transfer_learning/02-dos/12.wav  \n",
      "  inflating: standarised_transfer_learning/02-dos/13.wav  \n",
      "  inflating: standarised_transfer_learning/02-dos/14.wav  \n",
      "  inflating: standarised_transfer_learning/02-dos/15.wav  \n",
      "  inflating: standarised_transfer_learning/02-dos/16.wav  \n",
      "  inflating: standarised_transfer_learning/02-dos/17.wav  \n",
      "  inflating: standarised_transfer_learning/02-dos/18.wav  \n",
      "  inflating: standarised_transfer_learning/02-dos/19.wav  \n",
      "  inflating: standarised_transfer_learning/02-dos/2.wav  \n",
      "  inflating: standarised_transfer_learning/02-dos/20.wav  \n",
      "  inflating: standarised_transfer_learning/02-dos/21.wav  \n",
      "  inflating: standarised_transfer_learning/02-dos/22.wav  \n",
      "  inflating: standarised_transfer_learning/02-dos/23.wav  \n",
      "  inflating: standarised_transfer_learning/02-dos/24.wav  \n",
      "  inflating: standarised_transfer_learning/02-dos/25.wav  \n",
      "  inflating: standarised_transfer_learning/02-dos/26.wav  \n",
      "  inflating: standarised_transfer_learning/02-dos/27.wav  \n",
      "  inflating: standarised_transfer_learning/02-dos/28.wav  \n",
      "  inflating: standarised_transfer_learning/02-dos/29.wav  \n",
      "  inflating: standarised_transfer_learning/02-dos/3.wav  \n",
      "  inflating: standarised_transfer_learning/02-dos/30.wav  \n",
      "  inflating: standarised_transfer_learning/02-dos/31.wav  \n",
      "  inflating: standarised_transfer_learning/02-dos/32.wav  \n",
      "  inflating: standarised_transfer_learning/02-dos/33.wav  \n",
      "  inflating: standarised_transfer_learning/02-dos/34.wav  \n",
      "  inflating: standarised_transfer_learning/02-dos/35.wav  \n",
      "  inflating: standarised_transfer_learning/02-dos/36.wav  \n",
      "  inflating: standarised_transfer_learning/02-dos/37.wav  \n",
      "  inflating: standarised_transfer_learning/02-dos/38.wav  \n",
      "  inflating: standarised_transfer_learning/02-dos/39.wav  \n",
      "  inflating: standarised_transfer_learning/02-dos/4.wav  \n",
      "  inflating: standarised_transfer_learning/02-dos/40.wav  \n",
      "  inflating: standarised_transfer_learning/02-dos/41.wav  \n",
      "  inflating: standarised_transfer_learning/02-dos/42.wav  \n",
      "  inflating: standarised_transfer_learning/02-dos/43.wav  \n",
      "  inflating: standarised_transfer_learning/02-dos/44.wav  \n",
      "  inflating: standarised_transfer_learning/02-dos/45.wav  \n",
      "  inflating: standarised_transfer_learning/02-dos/46.wav  \n",
      "  inflating: standarised_transfer_learning/02-dos/47.wav  \n",
      "  inflating: standarised_transfer_learning/02-dos/48.wav  \n",
      "  inflating: standarised_transfer_learning/02-dos/49.wav  \n",
      "  inflating: standarised_transfer_learning/02-dos/5.wav  \n",
      "  inflating: standarised_transfer_learning/02-dos/50.wav  \n",
      "  inflating: standarised_transfer_learning/02-dos/51.wav  \n",
      "  inflating: standarised_transfer_learning/02-dos/52.wav  \n",
      "  inflating: standarised_transfer_learning/02-dos/53.wav  \n",
      "  inflating: standarised_transfer_learning/02-dos/54.wav  \n",
      "  inflating: standarised_transfer_learning/02-dos/55.wav  \n",
      "  inflating: standarised_transfer_learning/02-dos/56.wav  \n",
      "  inflating: standarised_transfer_learning/02-dos/57.wav  \n",
      "  inflating: standarised_transfer_learning/02-dos/58.wav  \n",
      "  inflating: standarised_transfer_learning/02-dos/59.wav  \n",
      "  inflating: standarised_transfer_learning/02-dos/6.wav  \n",
      "  inflating: standarised_transfer_learning/02-dos/60.wav  \n",
      "  inflating: standarised_transfer_learning/02-dos/61.wav  \n",
      "  inflating: standarised_transfer_learning/02-dos/62.wav  \n",
      "  inflating: standarised_transfer_learning/02-dos/63.wav  \n",
      "  inflating: standarised_transfer_learning/02-dos/64.wav  \n",
      "  inflating: standarised_transfer_learning/02-dos/65.wav  \n",
      "  inflating: standarised_transfer_learning/02-dos/66.wav  \n",
      "  inflating: standarised_transfer_learning/02-dos/67.wav  \n",
      "  inflating: standarised_transfer_learning/02-dos/68.wav  \n",
      "  inflating: standarised_transfer_learning/02-dos/69.wav  \n",
      "  inflating: standarised_transfer_learning/02-dos/7.wav  \n",
      "  inflating: standarised_transfer_learning/02-dos/70.wav  \n",
      "  inflating: standarised_transfer_learning/02-dos/71.wav  \n",
      "  inflating: standarised_transfer_learning/02-dos/72.wav  \n",
      "  inflating: standarised_transfer_learning/02-dos/73.wav  \n",
      "  inflating: standarised_transfer_learning/02-dos/74.wav  \n",
      "  inflating: standarised_transfer_learning/02-dos/75.wav  \n",
      "  inflating: standarised_transfer_learning/02-dos/76.wav  \n",
      "  inflating: standarised_transfer_learning/02-dos/77.wav  \n",
      "  inflating: standarised_transfer_learning/02-dos/78.wav  \n",
      "  inflating: standarised_transfer_learning/02-dos/79.wav  \n",
      "  inflating: standarised_transfer_learning/02-dos/8.wav  \n",
      "  inflating: standarised_transfer_learning/02-dos/80.wav  \n",
      "  inflating: standarised_transfer_learning/02-dos/81.wav  \n",
      "  inflating: standarised_transfer_learning/02-dos/82.wav  \n",
      "  inflating: standarised_transfer_learning/02-dos/83.wav  \n",
      "  inflating: standarised_transfer_learning/02-dos/84.wav  \n",
      "  inflating: standarised_transfer_learning/02-dos/85.wav  \n",
      "  inflating: standarised_transfer_learning/02-dos/86.wav  \n",
      "  inflating: standarised_transfer_learning/02-dos/87.wav  \n",
      "  inflating: standarised_transfer_learning/02-dos/88.wav  \n",
      "  inflating: standarised_transfer_learning/02-dos/89.wav  \n",
      "  inflating: standarised_transfer_learning/02-dos/9.wav  \n",
      "  inflating: standarised_transfer_learning/02-dos/90.wav  \n",
      "  inflating: standarised_transfer_learning/02-dos/91.wav  \n",
      "  inflating: standarised_transfer_learning/02-dos/92.wav  \n",
      "  inflating: standarised_transfer_learning/02-dos/93.wav  \n",
      "  inflating: standarised_transfer_learning/02-dos/94.wav  \n",
      "  inflating: standarised_transfer_learning/02-dos/95.wav  \n",
      "  inflating: standarised_transfer_learning/02-dos/96.wav  \n",
      "  inflating: standarised_transfer_learning/02-dos/97.wav  \n",
      "  inflating: standarised_transfer_learning/02-dos/98.wav  \n",
      "  inflating: standarised_transfer_learning/02-dos/99.wav  \n",
      "   creating: standarised_transfer_learning/03-tres/\n",
      "  inflating: standarised_transfer_learning/03-tres/0.wav  \n",
      "  inflating: standarised_transfer_learning/03-tres/1.wav  \n",
      "  inflating: standarised_transfer_learning/03-tres/10.wav  \n",
      "  inflating: standarised_transfer_learning/03-tres/100.wav  \n",
      "  inflating: standarised_transfer_learning/03-tres/101.wav  \n",
      "  inflating: standarised_transfer_learning/03-tres/11.wav  \n",
      "  inflating: standarised_transfer_learning/03-tres/12.wav  \n",
      "  inflating: standarised_transfer_learning/03-tres/13.wav  \n",
      "  inflating: standarised_transfer_learning/03-tres/14.wav  \n",
      "  inflating: standarised_transfer_learning/03-tres/15.wav  \n",
      "  inflating: standarised_transfer_learning/03-tres/16.wav  \n",
      "  inflating: standarised_transfer_learning/03-tres/17.wav  \n",
      "  inflating: standarised_transfer_learning/03-tres/18.wav  \n",
      "  inflating: standarised_transfer_learning/03-tres/19.wav  \n",
      "  inflating: standarised_transfer_learning/03-tres/2.wav  \n",
      "  inflating: standarised_transfer_learning/03-tres/20.wav  \n",
      "  inflating: standarised_transfer_learning/03-tres/21.wav  \n",
      "  inflating: standarised_transfer_learning/03-tres/22.wav  \n",
      "  inflating: standarised_transfer_learning/03-tres/23.wav  \n",
      "  inflating: standarised_transfer_learning/03-tres/24.wav  \n",
      "  inflating: standarised_transfer_learning/03-tres/25.wav  \n",
      "  inflating: standarised_transfer_learning/03-tres/26.wav  \n",
      "  inflating: standarised_transfer_learning/03-tres/27.wav  \n",
      "  inflating: standarised_transfer_learning/03-tres/28.wav  \n",
      "  inflating: standarised_transfer_learning/03-tres/29.wav  \n",
      "  inflating: standarised_transfer_learning/03-tres/3.wav  \n",
      "  inflating: standarised_transfer_learning/03-tres/30.wav  \n",
      "  inflating: standarised_transfer_learning/03-tres/31.wav  \n",
      "  inflating: standarised_transfer_learning/03-tres/32.wav  \n",
      "  inflating: standarised_transfer_learning/03-tres/33.wav  \n",
      "  inflating: standarised_transfer_learning/03-tres/34.wav  \n",
      "  inflating: standarised_transfer_learning/03-tres/35.wav  \n",
      "  inflating: standarised_transfer_learning/03-tres/36.wav  \n",
      "  inflating: standarised_transfer_learning/03-tres/37.wav  \n",
      "  inflating: standarised_transfer_learning/03-tres/38.wav  \n",
      "  inflating: standarised_transfer_learning/03-tres/39.wav  \n",
      "  inflating: standarised_transfer_learning/03-tres/4.wav  \n",
      "  inflating: standarised_transfer_learning/03-tres/40.wav  \n",
      "  inflating: standarised_transfer_learning/03-tres/41.wav  \n",
      "  inflating: standarised_transfer_learning/03-tres/42.wav  \n",
      "  inflating: standarised_transfer_learning/03-tres/43.wav  \n",
      "  inflating: standarised_transfer_learning/03-tres/44.wav  \n",
      "  inflating: standarised_transfer_learning/03-tres/45.wav  \n",
      "  inflating: standarised_transfer_learning/03-tres/46.wav  \n",
      "  inflating: standarised_transfer_learning/03-tres/47.wav  \n",
      "  inflating: standarised_transfer_learning/03-tres/48.wav  \n",
      "  inflating: standarised_transfer_learning/03-tres/49.wav  \n",
      "  inflating: standarised_transfer_learning/03-tres/5.wav  \n",
      "  inflating: standarised_transfer_learning/03-tres/50.wav  \n",
      "  inflating: standarised_transfer_learning/03-tres/51.wav  \n",
      "  inflating: standarised_transfer_learning/03-tres/52.wav  \n",
      "  inflating: standarised_transfer_learning/03-tres/53.wav  \n",
      "  inflating: standarised_transfer_learning/03-tres/54.wav  \n",
      "  inflating: standarised_transfer_learning/03-tres/55.wav  \n",
      "  inflating: standarised_transfer_learning/03-tres/56.wav  \n",
      "  inflating: standarised_transfer_learning/03-tres/57.wav  \n",
      "  inflating: standarised_transfer_learning/03-tres/58.wav  \n",
      "  inflating: standarised_transfer_learning/03-tres/59.wav  \n",
      "  inflating: standarised_transfer_learning/03-tres/6.wav  \n",
      "  inflating: standarised_transfer_learning/03-tres/60.wav  \n",
      "  inflating: standarised_transfer_learning/03-tres/61.wav  \n",
      "  inflating: standarised_transfer_learning/03-tres/62.wav  \n",
      "  inflating: standarised_transfer_learning/03-tres/63.wav  \n",
      "  inflating: standarised_transfer_learning/03-tres/64.wav  \n",
      "  inflating: standarised_transfer_learning/03-tres/65.wav  \n",
      "  inflating: standarised_transfer_learning/03-tres/66.wav  \n",
      "  inflating: standarised_transfer_learning/03-tres/67.wav  \n",
      "  inflating: standarised_transfer_learning/03-tres/68.wav  \n",
      "  inflating: standarised_transfer_learning/03-tres/69.wav  \n",
      "  inflating: standarised_transfer_learning/03-tres/7.wav  \n",
      "  inflating: standarised_transfer_learning/03-tres/70.wav  \n",
      "  inflating: standarised_transfer_learning/03-tres/71.wav  \n",
      "  inflating: standarised_transfer_learning/03-tres/72.wav  \n",
      "  inflating: standarised_transfer_learning/03-tres/73.wav  \n",
      "  inflating: standarised_transfer_learning/03-tres/74.wav  \n",
      "  inflating: standarised_transfer_learning/03-tres/75.wav  \n",
      "  inflating: standarised_transfer_learning/03-tres/76.wav  \n",
      "  inflating: standarised_transfer_learning/03-tres/77.wav  \n",
      "  inflating: standarised_transfer_learning/03-tres/78.wav  \n",
      "  inflating: standarised_transfer_learning/03-tres/79.wav  \n",
      "  inflating: standarised_transfer_learning/03-tres/8.wav  \n",
      "  inflating: standarised_transfer_learning/03-tres/80.wav  \n",
      "  inflating: standarised_transfer_learning/03-tres/81.wav  \n",
      "  inflating: standarised_transfer_learning/03-tres/82.wav  \n",
      "  inflating: standarised_transfer_learning/03-tres/83.wav  \n",
      "  inflating: standarised_transfer_learning/03-tres/84.wav  \n",
      "  inflating: standarised_transfer_learning/03-tres/85.wav  \n",
      "  inflating: standarised_transfer_learning/03-tres/86.wav  \n",
      "  inflating: standarised_transfer_learning/03-tres/87.wav  \n",
      "  inflating: standarised_transfer_learning/03-tres/88.wav  \n",
      "  inflating: standarised_transfer_learning/03-tres/89.wav  \n",
      "  inflating: standarised_transfer_learning/03-tres/9.wav  \n",
      "  inflating: standarised_transfer_learning/03-tres/90.wav  \n",
      "  inflating: standarised_transfer_learning/03-tres/91.wav  \n",
      "  inflating: standarised_transfer_learning/03-tres/92.wav  \n",
      "  inflating: standarised_transfer_learning/03-tres/93.wav  \n",
      "  inflating: standarised_transfer_learning/03-tres/94.wav  \n",
      "  inflating: standarised_transfer_learning/03-tres/95.wav  \n",
      "  inflating: standarised_transfer_learning/03-tres/96.wav  \n",
      "  inflating: standarised_transfer_learning/03-tres/97.wav  \n",
      "  inflating: standarised_transfer_learning/03-tres/98.wav  \n",
      "  inflating: standarised_transfer_learning/03-tres/99.wav  \n",
      "   creating: standarised_transfer_learning/04-cuatro/\n",
      "  inflating: standarised_transfer_learning/04-cuatro/0.wav  \n",
      "  inflating: standarised_transfer_learning/04-cuatro/1.wav  \n",
      "  inflating: standarised_transfer_learning/04-cuatro/10.wav  \n",
      "  inflating: standarised_transfer_learning/04-cuatro/100.wav  \n",
      "  inflating: standarised_transfer_learning/04-cuatro/101.wav  \n",
      "  inflating: standarised_transfer_learning/04-cuatro/11.wav  \n",
      "  inflating: standarised_transfer_learning/04-cuatro/12.wav  \n",
      "  inflating: standarised_transfer_learning/04-cuatro/13.wav  \n",
      "  inflating: standarised_transfer_learning/04-cuatro/14.wav  \n",
      "  inflating: standarised_transfer_learning/04-cuatro/15.wav  \n",
      "  inflating: standarised_transfer_learning/04-cuatro/16.wav  \n",
      "  inflating: standarised_transfer_learning/04-cuatro/17.wav  \n",
      "  inflating: standarised_transfer_learning/04-cuatro/18.wav  \n",
      "  inflating: standarised_transfer_learning/04-cuatro/19.wav  \n",
      "  inflating: standarised_transfer_learning/04-cuatro/2.wav  \n",
      "  inflating: standarised_transfer_learning/04-cuatro/20.wav  \n",
      "  inflating: standarised_transfer_learning/04-cuatro/21.wav  \n",
      "  inflating: standarised_transfer_learning/04-cuatro/22.wav  \n",
      "  inflating: standarised_transfer_learning/04-cuatro/23.wav  \n",
      "  inflating: standarised_transfer_learning/04-cuatro/24.wav  \n",
      "  inflating: standarised_transfer_learning/04-cuatro/25.wav  \n",
      "  inflating: standarised_transfer_learning/04-cuatro/26.wav  \n",
      "  inflating: standarised_transfer_learning/04-cuatro/27.wav  \n",
      "  inflating: standarised_transfer_learning/04-cuatro/28.wav  \n",
      "  inflating: standarised_transfer_learning/04-cuatro/29.wav  \n",
      "  inflating: standarised_transfer_learning/04-cuatro/3.wav  \n",
      "  inflating: standarised_transfer_learning/04-cuatro/30.wav  \n",
      "  inflating: standarised_transfer_learning/04-cuatro/31.wav  \n",
      "  inflating: standarised_transfer_learning/04-cuatro/32.wav  \n",
      "  inflating: standarised_transfer_learning/04-cuatro/33.wav  \n",
      "  inflating: standarised_transfer_learning/04-cuatro/34.wav  \n",
      "  inflating: standarised_transfer_learning/04-cuatro/35.wav  \n",
      "  inflating: standarised_transfer_learning/04-cuatro/36.wav  \n",
      "  inflating: standarised_transfer_learning/04-cuatro/37.wav  \n",
      "  inflating: standarised_transfer_learning/04-cuatro/38.wav  \n",
      "  inflating: standarised_transfer_learning/04-cuatro/39.wav  \n",
      "  inflating: standarised_transfer_learning/04-cuatro/4.wav  \n",
      "  inflating: standarised_transfer_learning/04-cuatro/40.wav  \n",
      "  inflating: standarised_transfer_learning/04-cuatro/41.wav  \n",
      "  inflating: standarised_transfer_learning/04-cuatro/42.wav  \n",
      "  inflating: standarised_transfer_learning/04-cuatro/43.wav  \n",
      "  inflating: standarised_transfer_learning/04-cuatro/44.wav  \n",
      "  inflating: standarised_transfer_learning/04-cuatro/45.wav  \n",
      "  inflating: standarised_transfer_learning/04-cuatro/46.wav  \n",
      "  inflating: standarised_transfer_learning/04-cuatro/47.wav  \n",
      "  inflating: standarised_transfer_learning/04-cuatro/48.wav  \n",
      "  inflating: standarised_transfer_learning/04-cuatro/49.wav  \n",
      "  inflating: standarised_transfer_learning/04-cuatro/5.wav  \n",
      "  inflating: standarised_transfer_learning/04-cuatro/50.wav  \n",
      "  inflating: standarised_transfer_learning/04-cuatro/51.wav  \n",
      "  inflating: standarised_transfer_learning/04-cuatro/52.wav  \n",
      "  inflating: standarised_transfer_learning/04-cuatro/53.wav  \n",
      "  inflating: standarised_transfer_learning/04-cuatro/54.wav  \n",
      "  inflating: standarised_transfer_learning/04-cuatro/55.wav  \n",
      "  inflating: standarised_transfer_learning/04-cuatro/56.wav  \n",
      "  inflating: standarised_transfer_learning/04-cuatro/57.wav  \n",
      "  inflating: standarised_transfer_learning/04-cuatro/58.wav  \n",
      "  inflating: standarised_transfer_learning/04-cuatro/59.wav  \n",
      "  inflating: standarised_transfer_learning/04-cuatro/6.wav  \n",
      "  inflating: standarised_transfer_learning/04-cuatro/60.wav  \n",
      "  inflating: standarised_transfer_learning/04-cuatro/61.wav  \n",
      "  inflating: standarised_transfer_learning/04-cuatro/62.wav  \n",
      "  inflating: standarised_transfer_learning/04-cuatro/63.wav  \n",
      "  inflating: standarised_transfer_learning/04-cuatro/64.wav  \n",
      "  inflating: standarised_transfer_learning/04-cuatro/65.wav  \n",
      "  inflating: standarised_transfer_learning/04-cuatro/66.wav  \n",
      "  inflating: standarised_transfer_learning/04-cuatro/67.wav  \n",
      "  inflating: standarised_transfer_learning/04-cuatro/68.wav  \n",
      "  inflating: standarised_transfer_learning/04-cuatro/69.wav  \n",
      "  inflating: standarised_transfer_learning/04-cuatro/7.wav  \n",
      "  inflating: standarised_transfer_learning/04-cuatro/70.wav  \n",
      "  inflating: standarised_transfer_learning/04-cuatro/71.wav  \n",
      "  inflating: standarised_transfer_learning/04-cuatro/72.wav  \n",
      "  inflating: standarised_transfer_learning/04-cuatro/73.wav  \n",
      "  inflating: standarised_transfer_learning/04-cuatro/74.wav  \n",
      "  inflating: standarised_transfer_learning/04-cuatro/75.wav  \n",
      "  inflating: standarised_transfer_learning/04-cuatro/76.wav  \n",
      "  inflating: standarised_transfer_learning/04-cuatro/77.wav  \n",
      "  inflating: standarised_transfer_learning/04-cuatro/78.wav  \n",
      "  inflating: standarised_transfer_learning/04-cuatro/79.wav  \n",
      "  inflating: standarised_transfer_learning/04-cuatro/8.wav  \n",
      "  inflating: standarised_transfer_learning/04-cuatro/80.wav  \n",
      "  inflating: standarised_transfer_learning/04-cuatro/81.wav  \n",
      "  inflating: standarised_transfer_learning/04-cuatro/82.wav  \n",
      "  inflating: standarised_transfer_learning/04-cuatro/83.wav  \n",
      "  inflating: standarised_transfer_learning/04-cuatro/84.wav  \n",
      "  inflating: standarised_transfer_learning/04-cuatro/85.wav  \n",
      "  inflating: standarised_transfer_learning/04-cuatro/86.wav  \n",
      "  inflating: standarised_transfer_learning/04-cuatro/87.wav  \n",
      "  inflating: standarised_transfer_learning/04-cuatro/88.wav  \n",
      "  inflating: standarised_transfer_learning/04-cuatro/89.wav  \n",
      "  inflating: standarised_transfer_learning/04-cuatro/9.wav  \n",
      "  inflating: standarised_transfer_learning/04-cuatro/90.wav  \n",
      "  inflating: standarised_transfer_learning/04-cuatro/91.wav  \n",
      "  inflating: standarised_transfer_learning/04-cuatro/92.wav  \n",
      "  inflating: standarised_transfer_learning/04-cuatro/93.wav  \n",
      "  inflating: standarised_transfer_learning/04-cuatro/94.wav  \n",
      "  inflating: standarised_transfer_learning/04-cuatro/95.wav  \n",
      "  inflating: standarised_transfer_learning/04-cuatro/96.wav  \n",
      "  inflating: standarised_transfer_learning/04-cuatro/97.wav  \n",
      "  inflating: standarised_transfer_learning/04-cuatro/98.wav  \n",
      "  inflating: standarised_transfer_learning/04-cuatro/99.wav  \n",
      "   creating: standarised_transfer_learning/05-cinco/\n",
      "  inflating: standarised_transfer_learning/05-cinco/0.wav  \n",
      "  inflating: standarised_transfer_learning/05-cinco/1.wav  \n",
      "  inflating: standarised_transfer_learning/05-cinco/10.wav  \n",
      "  inflating: standarised_transfer_learning/05-cinco/100.wav  \n",
      "  inflating: standarised_transfer_learning/05-cinco/101.wav  \n",
      "  inflating: standarised_transfer_learning/05-cinco/11.wav  \n",
      "  inflating: standarised_transfer_learning/05-cinco/12.wav  \n",
      "  inflating: standarised_transfer_learning/05-cinco/13.wav  \n",
      "  inflating: standarised_transfer_learning/05-cinco/14.wav  \n",
      "  inflating: standarised_transfer_learning/05-cinco/15.wav  \n",
      "  inflating: standarised_transfer_learning/05-cinco/16.wav  \n",
      "  inflating: standarised_transfer_learning/05-cinco/17.wav  \n",
      "  inflating: standarised_transfer_learning/05-cinco/18.wav  \n",
      "  inflating: standarised_transfer_learning/05-cinco/19.wav  \n",
      "  inflating: standarised_transfer_learning/05-cinco/2.wav  \n",
      "  inflating: standarised_transfer_learning/05-cinco/20.wav  \n",
      "  inflating: standarised_transfer_learning/05-cinco/21.wav  \n",
      "  inflating: standarised_transfer_learning/05-cinco/22.wav  \n",
      "  inflating: standarised_transfer_learning/05-cinco/23.wav  \n",
      "  inflating: standarised_transfer_learning/05-cinco/24.wav  \n",
      "  inflating: standarised_transfer_learning/05-cinco/25.wav  \n",
      "  inflating: standarised_transfer_learning/05-cinco/26.wav  \n",
      "  inflating: standarised_transfer_learning/05-cinco/27.wav  \n",
      "  inflating: standarised_transfer_learning/05-cinco/28.wav  \n",
      "  inflating: standarised_transfer_learning/05-cinco/29.wav  \n",
      "  inflating: standarised_transfer_learning/05-cinco/3.wav  \n",
      "  inflating: standarised_transfer_learning/05-cinco/30.wav  \n",
      "  inflating: standarised_transfer_learning/05-cinco/31.wav  \n",
      "  inflating: standarised_transfer_learning/05-cinco/32.wav  \n",
      "  inflating: standarised_transfer_learning/05-cinco/33.wav  \n",
      "  inflating: standarised_transfer_learning/05-cinco/34.wav  \n",
      "  inflating: standarised_transfer_learning/05-cinco/35.wav  \n",
      "  inflating: standarised_transfer_learning/05-cinco/36.wav  \n",
      "  inflating: standarised_transfer_learning/05-cinco/37.wav  \n",
      "  inflating: standarised_transfer_learning/05-cinco/38.wav  \n",
      "  inflating: standarised_transfer_learning/05-cinco/39.wav  \n",
      "  inflating: standarised_transfer_learning/05-cinco/4.wav  \n",
      "  inflating: standarised_transfer_learning/05-cinco/40.wav  \n",
      "  inflating: standarised_transfer_learning/05-cinco/41.wav  \n",
      "  inflating: standarised_transfer_learning/05-cinco/42.wav  \n",
      "  inflating: standarised_transfer_learning/05-cinco/43.wav  \n",
      "  inflating: standarised_transfer_learning/05-cinco/44.wav  \n",
      "  inflating: standarised_transfer_learning/05-cinco/45.wav  \n",
      "  inflating: standarised_transfer_learning/05-cinco/46.wav  \n",
      "  inflating: standarised_transfer_learning/05-cinco/47.wav  \n",
      "  inflating: standarised_transfer_learning/05-cinco/48.wav  \n",
      "  inflating: standarised_transfer_learning/05-cinco/49.wav  \n",
      "  inflating: standarised_transfer_learning/05-cinco/5.wav  \n",
      "  inflating: standarised_transfer_learning/05-cinco/50.wav  \n",
      "  inflating: standarised_transfer_learning/05-cinco/51.wav  \n",
      "  inflating: standarised_transfer_learning/05-cinco/52.wav  \n",
      "  inflating: standarised_transfer_learning/05-cinco/53.wav  \n",
      "  inflating: standarised_transfer_learning/05-cinco/54.wav  \n",
      "  inflating: standarised_transfer_learning/05-cinco/55.wav  \n",
      "  inflating: standarised_transfer_learning/05-cinco/56.wav  \n",
      "  inflating: standarised_transfer_learning/05-cinco/57.wav  \n",
      "  inflating: standarised_transfer_learning/05-cinco/58.wav  \n",
      "  inflating: standarised_transfer_learning/05-cinco/59.wav  \n",
      "  inflating: standarised_transfer_learning/05-cinco/6.wav  \n",
      "  inflating: standarised_transfer_learning/05-cinco/60.wav  \n",
      "  inflating: standarised_transfer_learning/05-cinco/61.wav  \n",
      "  inflating: standarised_transfer_learning/05-cinco/62.wav  \n",
      "  inflating: standarised_transfer_learning/05-cinco/63.wav  \n",
      "  inflating: standarised_transfer_learning/05-cinco/64.wav  \n",
      "  inflating: standarised_transfer_learning/05-cinco/65.wav  \n",
      "  inflating: standarised_transfer_learning/05-cinco/66.wav  \n",
      "  inflating: standarised_transfer_learning/05-cinco/67.wav  \n",
      "  inflating: standarised_transfer_learning/05-cinco/68.wav  \n",
      "  inflating: standarised_transfer_learning/05-cinco/69.wav  \n",
      "  inflating: standarised_transfer_learning/05-cinco/7.wav  \n",
      "  inflating: standarised_transfer_learning/05-cinco/70.wav  \n",
      "  inflating: standarised_transfer_learning/05-cinco/71.wav  \n",
      "  inflating: standarised_transfer_learning/05-cinco/72.wav  \n",
      "  inflating: standarised_transfer_learning/05-cinco/73.wav  \n",
      "  inflating: standarised_transfer_learning/05-cinco/74.wav  \n",
      "  inflating: standarised_transfer_learning/05-cinco/75.wav  \n",
      "  inflating: standarised_transfer_learning/05-cinco/76.wav  \n",
      "  inflating: standarised_transfer_learning/05-cinco/77.wav  \n",
      "  inflating: standarised_transfer_learning/05-cinco/78.wav  \n",
      "  inflating: standarised_transfer_learning/05-cinco/79.wav  \n",
      "  inflating: standarised_transfer_learning/05-cinco/8.wav  \n",
      "  inflating: standarised_transfer_learning/05-cinco/80.wav  \n",
      "  inflating: standarised_transfer_learning/05-cinco/81.wav  \n",
      "  inflating: standarised_transfer_learning/05-cinco/82.wav  \n",
      "  inflating: standarised_transfer_learning/05-cinco/83.wav  \n",
      "  inflating: standarised_transfer_learning/05-cinco/84.wav  \n",
      "  inflating: standarised_transfer_learning/05-cinco/85.wav  \n",
      "  inflating: standarised_transfer_learning/05-cinco/86.wav  \n",
      "  inflating: standarised_transfer_learning/05-cinco/87.wav  \n",
      "  inflating: standarised_transfer_learning/05-cinco/88.wav  \n",
      "  inflating: standarised_transfer_learning/05-cinco/89.wav  \n",
      "  inflating: standarised_transfer_learning/05-cinco/9.wav  \n",
      "  inflating: standarised_transfer_learning/05-cinco/90.wav  \n",
      "  inflating: standarised_transfer_learning/05-cinco/91.wav  \n",
      "  inflating: standarised_transfer_learning/05-cinco/92.wav  \n",
      "  inflating: standarised_transfer_learning/05-cinco/93.wav  \n",
      "  inflating: standarised_transfer_learning/05-cinco/94.wav  \n",
      "  inflating: standarised_transfer_learning/05-cinco/95.wav  \n",
      "  inflating: standarised_transfer_learning/05-cinco/96.wav  \n",
      "  inflating: standarised_transfer_learning/05-cinco/97.wav  \n",
      "  inflating: standarised_transfer_learning/05-cinco/98.wav  \n",
      "  inflating: standarised_transfer_learning/05-cinco/99.wav  \n",
      "   creating: standarised_transfer_learning/06-seis/\n",
      "  inflating: standarised_transfer_learning/06-seis/0.wav  \n",
      "  inflating: standarised_transfer_learning/06-seis/1.wav  \n",
      "  inflating: standarised_transfer_learning/06-seis/10.wav  \n",
      "  inflating: standarised_transfer_learning/06-seis/100.wav  \n",
      "  inflating: standarised_transfer_learning/06-seis/101.wav  \n",
      "  inflating: standarised_transfer_learning/06-seis/11.wav  \n",
      "  inflating: standarised_transfer_learning/06-seis/12.wav  \n",
      "  inflating: standarised_transfer_learning/06-seis/13.wav  \n",
      "  inflating: standarised_transfer_learning/06-seis/14.wav  \n",
      "  inflating: standarised_transfer_learning/06-seis/15.wav  \n",
      "  inflating: standarised_transfer_learning/06-seis/16.wav  \n",
      "  inflating: standarised_transfer_learning/06-seis/17.wav  \n",
      "  inflating: standarised_transfer_learning/06-seis/18.wav  \n",
      "  inflating: standarised_transfer_learning/06-seis/19.wav  \n",
      "  inflating: standarised_transfer_learning/06-seis/2.wav  \n",
      "  inflating: standarised_transfer_learning/06-seis/20.wav  \n",
      "  inflating: standarised_transfer_learning/06-seis/21.wav  \n",
      "  inflating: standarised_transfer_learning/06-seis/22.wav  \n",
      "  inflating: standarised_transfer_learning/06-seis/23.wav  \n",
      "  inflating: standarised_transfer_learning/06-seis/24.wav  \n",
      "  inflating: standarised_transfer_learning/06-seis/25.wav  \n",
      "  inflating: standarised_transfer_learning/06-seis/26.wav  \n",
      "  inflating: standarised_transfer_learning/06-seis/27.wav  \n",
      "  inflating: standarised_transfer_learning/06-seis/28.wav  \n",
      "  inflating: standarised_transfer_learning/06-seis/29.wav  \n",
      "  inflating: standarised_transfer_learning/06-seis/3.wav  \n",
      "  inflating: standarised_transfer_learning/06-seis/30.wav  \n",
      "  inflating: standarised_transfer_learning/06-seis/31.wav  \n",
      "  inflating: standarised_transfer_learning/06-seis/32.wav  \n",
      "  inflating: standarised_transfer_learning/06-seis/33.wav  \n",
      "  inflating: standarised_transfer_learning/06-seis/34.wav  \n",
      "  inflating: standarised_transfer_learning/06-seis/35.wav  \n",
      "  inflating: standarised_transfer_learning/06-seis/36.wav  \n",
      "  inflating: standarised_transfer_learning/06-seis/37.wav  \n",
      "  inflating: standarised_transfer_learning/06-seis/38.wav  \n",
      "  inflating: standarised_transfer_learning/06-seis/39.wav  \n",
      "  inflating: standarised_transfer_learning/06-seis/4.wav  \n",
      "  inflating: standarised_transfer_learning/06-seis/40.wav  \n",
      "  inflating: standarised_transfer_learning/06-seis/41.wav  \n",
      "  inflating: standarised_transfer_learning/06-seis/42.wav  \n",
      "  inflating: standarised_transfer_learning/06-seis/43.wav  \n",
      "  inflating: standarised_transfer_learning/06-seis/44.wav  \n",
      "  inflating: standarised_transfer_learning/06-seis/45.wav  \n",
      "  inflating: standarised_transfer_learning/06-seis/46.wav  \n",
      "  inflating: standarised_transfer_learning/06-seis/47.wav  \n",
      "  inflating: standarised_transfer_learning/06-seis/48.wav  \n",
      "  inflating: standarised_transfer_learning/06-seis/49.wav  \n",
      "  inflating: standarised_transfer_learning/06-seis/5.wav  \n",
      "  inflating: standarised_transfer_learning/06-seis/50.wav  \n",
      "  inflating: standarised_transfer_learning/06-seis/51.wav  \n",
      "  inflating: standarised_transfer_learning/06-seis/52.wav  \n",
      "  inflating: standarised_transfer_learning/06-seis/53.wav  \n",
      "  inflating: standarised_transfer_learning/06-seis/54.wav  \n",
      "  inflating: standarised_transfer_learning/06-seis/55.wav  \n",
      "  inflating: standarised_transfer_learning/06-seis/56.wav  \n",
      "  inflating: standarised_transfer_learning/06-seis/57.wav  \n",
      "  inflating: standarised_transfer_learning/06-seis/58.wav  \n",
      "  inflating: standarised_transfer_learning/06-seis/59.wav  \n",
      "  inflating: standarised_transfer_learning/06-seis/6.wav  \n",
      "  inflating: standarised_transfer_learning/06-seis/60.wav  \n",
      "  inflating: standarised_transfer_learning/06-seis/61.wav  \n",
      "  inflating: standarised_transfer_learning/06-seis/62.wav  \n",
      "  inflating: standarised_transfer_learning/06-seis/63.wav  \n",
      "  inflating: standarised_transfer_learning/06-seis/64.wav  \n",
      "  inflating: standarised_transfer_learning/06-seis/65.wav  \n",
      "  inflating: standarised_transfer_learning/06-seis/66.wav  \n",
      "  inflating: standarised_transfer_learning/06-seis/67.wav  \n",
      "  inflating: standarised_transfer_learning/06-seis/68.wav  \n",
      "  inflating: standarised_transfer_learning/06-seis/69.wav  \n",
      "  inflating: standarised_transfer_learning/06-seis/7.wav  \n",
      "  inflating: standarised_transfer_learning/06-seis/70.wav  \n",
      "  inflating: standarised_transfer_learning/06-seis/71.wav  \n",
      "  inflating: standarised_transfer_learning/06-seis/72.wav  \n",
      "  inflating: standarised_transfer_learning/06-seis/73.wav  \n",
      "  inflating: standarised_transfer_learning/06-seis/74.wav  \n",
      "  inflating: standarised_transfer_learning/06-seis/75.wav  \n",
      "  inflating: standarised_transfer_learning/06-seis/76.wav  \n",
      "  inflating: standarised_transfer_learning/06-seis/77.wav  \n",
      "  inflating: standarised_transfer_learning/06-seis/78.wav  \n",
      "  inflating: standarised_transfer_learning/06-seis/79.wav  \n",
      "  inflating: standarised_transfer_learning/06-seis/8.wav  \n",
      "  inflating: standarised_transfer_learning/06-seis/80.wav  \n",
      "  inflating: standarised_transfer_learning/06-seis/81.wav  \n",
      "  inflating: standarised_transfer_learning/06-seis/82.wav  \n",
      "  inflating: standarised_transfer_learning/06-seis/83.wav  \n",
      "  inflating: standarised_transfer_learning/06-seis/84.wav  \n",
      "  inflating: standarised_transfer_learning/06-seis/85.wav  \n",
      "  inflating: standarised_transfer_learning/06-seis/86.wav  \n",
      "  inflating: standarised_transfer_learning/06-seis/87.wav  \n",
      "  inflating: standarised_transfer_learning/06-seis/88.wav  \n",
      "  inflating: standarised_transfer_learning/06-seis/89.wav  \n",
      "  inflating: standarised_transfer_learning/06-seis/9.wav  \n",
      "  inflating: standarised_transfer_learning/06-seis/90.wav  \n",
      "  inflating: standarised_transfer_learning/06-seis/91.wav  \n",
      "  inflating: standarised_transfer_learning/06-seis/92.wav  \n",
      "  inflating: standarised_transfer_learning/06-seis/93.wav  \n",
      "  inflating: standarised_transfer_learning/06-seis/94.wav  \n",
      "  inflating: standarised_transfer_learning/06-seis/95.wav  \n",
      "  inflating: standarised_transfer_learning/06-seis/96.wav  \n",
      "  inflating: standarised_transfer_learning/06-seis/97.wav  \n",
      "  inflating: standarised_transfer_learning/06-seis/98.wav  \n",
      "  inflating: standarised_transfer_learning/06-seis/99.wav  \n",
      "   creating: standarised_transfer_learning/07-siete/\n",
      "  inflating: standarised_transfer_learning/07-siete/0.wav  \n",
      "  inflating: standarised_transfer_learning/07-siete/1.wav  \n",
      "  inflating: standarised_transfer_learning/07-siete/10.wav  \n",
      "  inflating: standarised_transfer_learning/07-siete/100.wav  \n",
      "  inflating: standarised_transfer_learning/07-siete/101.wav  \n",
      "  inflating: standarised_transfer_learning/07-siete/11.wav  \n",
      "  inflating: standarised_transfer_learning/07-siete/12.wav  \n",
      "  inflating: standarised_transfer_learning/07-siete/13.wav  \n",
      "  inflating: standarised_transfer_learning/07-siete/14.wav  \n",
      "  inflating: standarised_transfer_learning/07-siete/15.wav  \n",
      "  inflating: standarised_transfer_learning/07-siete/16.wav  \n",
      "  inflating: standarised_transfer_learning/07-siete/17.wav  \n",
      "  inflating: standarised_transfer_learning/07-siete/18.wav  \n",
      "  inflating: standarised_transfer_learning/07-siete/19.wav  \n",
      "  inflating: standarised_transfer_learning/07-siete/2.wav  \n",
      "  inflating: standarised_transfer_learning/07-siete/20.wav  \n",
      "  inflating: standarised_transfer_learning/07-siete/21.wav  \n",
      "  inflating: standarised_transfer_learning/07-siete/22.wav  \n",
      "  inflating: standarised_transfer_learning/07-siete/23.wav  \n",
      "  inflating: standarised_transfer_learning/07-siete/24.wav  \n",
      "  inflating: standarised_transfer_learning/07-siete/25.wav  \n",
      "  inflating: standarised_transfer_learning/07-siete/26.wav  \n",
      "  inflating: standarised_transfer_learning/07-siete/27.wav  \n",
      "  inflating: standarised_transfer_learning/07-siete/28.wav  \n",
      "  inflating: standarised_transfer_learning/07-siete/29.wav  \n",
      "  inflating: standarised_transfer_learning/07-siete/3.wav  \n",
      "  inflating: standarised_transfer_learning/07-siete/30.wav  \n",
      "  inflating: standarised_transfer_learning/07-siete/31.wav  \n",
      "  inflating: standarised_transfer_learning/07-siete/32.wav  \n",
      "  inflating: standarised_transfer_learning/07-siete/33.wav  \n",
      "  inflating: standarised_transfer_learning/07-siete/34.wav  \n",
      "  inflating: standarised_transfer_learning/07-siete/35.wav  \n",
      "  inflating: standarised_transfer_learning/07-siete/36.wav  \n",
      "  inflating: standarised_transfer_learning/07-siete/37.wav  \n",
      "  inflating: standarised_transfer_learning/07-siete/38.wav  \n",
      "  inflating: standarised_transfer_learning/07-siete/39.wav  \n",
      "  inflating: standarised_transfer_learning/07-siete/4.wav  \n",
      "  inflating: standarised_transfer_learning/07-siete/40.wav  \n",
      "  inflating: standarised_transfer_learning/07-siete/41.wav  \n",
      "  inflating: standarised_transfer_learning/07-siete/42.wav  \n",
      "  inflating: standarised_transfer_learning/07-siete/43.wav  \n",
      "  inflating: standarised_transfer_learning/07-siete/44.wav  \n",
      "  inflating: standarised_transfer_learning/07-siete/45.wav  \n",
      "  inflating: standarised_transfer_learning/07-siete/46.wav  \n",
      "  inflating: standarised_transfer_learning/07-siete/47.wav  \n",
      "  inflating: standarised_transfer_learning/07-siete/48.wav  \n",
      "  inflating: standarised_transfer_learning/07-siete/49.wav  \n",
      "  inflating: standarised_transfer_learning/07-siete/5.wav  \n",
      "  inflating: standarised_transfer_learning/07-siete/50.wav  \n",
      "  inflating: standarised_transfer_learning/07-siete/51.wav  \n",
      "  inflating: standarised_transfer_learning/07-siete/52.wav  \n",
      "  inflating: standarised_transfer_learning/07-siete/53.wav  \n",
      "  inflating: standarised_transfer_learning/07-siete/54.wav  \n",
      "  inflating: standarised_transfer_learning/07-siete/55.wav  \n",
      "  inflating: standarised_transfer_learning/07-siete/56.wav  \n",
      "  inflating: standarised_transfer_learning/07-siete/57.wav  \n",
      "  inflating: standarised_transfer_learning/07-siete/58.wav  \n",
      "  inflating: standarised_transfer_learning/07-siete/59.wav  \n",
      "  inflating: standarised_transfer_learning/07-siete/6.wav  \n",
      "  inflating: standarised_transfer_learning/07-siete/60.wav  \n",
      "  inflating: standarised_transfer_learning/07-siete/61.wav  \n",
      "  inflating: standarised_transfer_learning/07-siete/62.wav  \n",
      "  inflating: standarised_transfer_learning/07-siete/63.wav  \n",
      "  inflating: standarised_transfer_learning/07-siete/64.wav  \n",
      "  inflating: standarised_transfer_learning/07-siete/65.wav  \n",
      "  inflating: standarised_transfer_learning/07-siete/66.wav  \n",
      "  inflating: standarised_transfer_learning/07-siete/67.wav  \n",
      "  inflating: standarised_transfer_learning/07-siete/68.wav  \n",
      "  inflating: standarised_transfer_learning/07-siete/69.wav  \n",
      "  inflating: standarised_transfer_learning/07-siete/7.wav  \n",
      "  inflating: standarised_transfer_learning/07-siete/70.wav  \n",
      "  inflating: standarised_transfer_learning/07-siete/71.wav  \n",
      "  inflating: standarised_transfer_learning/07-siete/72.wav  \n",
      "  inflating: standarised_transfer_learning/07-siete/73.wav  \n",
      "  inflating: standarised_transfer_learning/07-siete/74.wav  \n",
      "  inflating: standarised_transfer_learning/07-siete/75.wav  \n",
      "  inflating: standarised_transfer_learning/07-siete/76.wav  \n",
      "  inflating: standarised_transfer_learning/07-siete/77.wav  \n",
      "  inflating: standarised_transfer_learning/07-siete/78.wav  \n",
      "  inflating: standarised_transfer_learning/07-siete/79.wav  \n",
      "  inflating: standarised_transfer_learning/07-siete/8.wav  \n",
      "  inflating: standarised_transfer_learning/07-siete/80.wav  \n",
      "  inflating: standarised_transfer_learning/07-siete/81.wav  \n",
      "  inflating: standarised_transfer_learning/07-siete/82.wav  \n",
      "  inflating: standarised_transfer_learning/07-siete/83.wav  \n",
      "  inflating: standarised_transfer_learning/07-siete/84.wav  \n",
      "  inflating: standarised_transfer_learning/07-siete/85.wav  \n",
      "  inflating: standarised_transfer_learning/07-siete/86.wav  \n",
      "  inflating: standarised_transfer_learning/07-siete/87.wav  \n",
      "  inflating: standarised_transfer_learning/07-siete/88.wav  \n",
      "  inflating: standarised_transfer_learning/07-siete/89.wav  \n",
      "  inflating: standarised_transfer_learning/07-siete/9.wav  \n",
      "  inflating: standarised_transfer_learning/07-siete/90.wav  \n",
      "  inflating: standarised_transfer_learning/07-siete/91.wav  \n",
      "  inflating: standarised_transfer_learning/07-siete/92.wav  \n",
      "  inflating: standarised_transfer_learning/07-siete/93.wav  \n",
      "  inflating: standarised_transfer_learning/07-siete/94.wav  \n",
      "  inflating: standarised_transfer_learning/07-siete/95.wav  \n",
      "  inflating: standarised_transfer_learning/07-siete/96.wav  \n",
      "  inflating: standarised_transfer_learning/07-siete/97.wav  \n",
      "  inflating: standarised_transfer_learning/07-siete/98.wav  \n",
      "  inflating: standarised_transfer_learning/07-siete/99.wav  \n",
      "   creating: standarised_transfer_learning/08-ocho/\n",
      "  inflating: standarised_transfer_learning/08-ocho/0.wav  \n",
      "  inflating: standarised_transfer_learning/08-ocho/1.wav  \n",
      "  inflating: standarised_transfer_learning/08-ocho/10.wav  \n",
      "  inflating: standarised_transfer_learning/08-ocho/100.wav  \n",
      "  inflating: standarised_transfer_learning/08-ocho/101.wav  \n",
      "  inflating: standarised_transfer_learning/08-ocho/11.wav  \n",
      "  inflating: standarised_transfer_learning/08-ocho/12.wav  \n",
      "  inflating: standarised_transfer_learning/08-ocho/13.wav  \n",
      "  inflating: standarised_transfer_learning/08-ocho/14.wav  \n",
      "  inflating: standarised_transfer_learning/08-ocho/15.wav  \n",
      "  inflating: standarised_transfer_learning/08-ocho/16.wav  \n",
      "  inflating: standarised_transfer_learning/08-ocho/17.wav  \n",
      "  inflating: standarised_transfer_learning/08-ocho/18.wav  \n",
      "  inflating: standarised_transfer_learning/08-ocho/19.wav  \n",
      "  inflating: standarised_transfer_learning/08-ocho/2.wav  \n",
      "  inflating: standarised_transfer_learning/08-ocho/20.wav  \n",
      "  inflating: standarised_transfer_learning/08-ocho/21.wav  \n",
      "  inflating: standarised_transfer_learning/08-ocho/22.wav  \n",
      "  inflating: standarised_transfer_learning/08-ocho/23.wav  \n",
      "  inflating: standarised_transfer_learning/08-ocho/24.wav  \n",
      "  inflating: standarised_transfer_learning/08-ocho/25.wav  \n",
      "  inflating: standarised_transfer_learning/08-ocho/26.wav  \n",
      "  inflating: standarised_transfer_learning/08-ocho/27.wav  \n",
      "  inflating: standarised_transfer_learning/08-ocho/28.wav  \n",
      "  inflating: standarised_transfer_learning/08-ocho/29.wav  \n",
      "  inflating: standarised_transfer_learning/08-ocho/3.wav  \n",
      "  inflating: standarised_transfer_learning/08-ocho/30.wav  \n",
      "  inflating: standarised_transfer_learning/08-ocho/31.wav  \n",
      "  inflating: standarised_transfer_learning/08-ocho/32.wav  \n",
      "  inflating: standarised_transfer_learning/08-ocho/33.wav  \n",
      "  inflating: standarised_transfer_learning/08-ocho/34.wav  \n",
      "  inflating: standarised_transfer_learning/08-ocho/35.wav  \n",
      "  inflating: standarised_transfer_learning/08-ocho/36.wav  \n",
      "  inflating: standarised_transfer_learning/08-ocho/37.wav  \n",
      "  inflating: standarised_transfer_learning/08-ocho/38.wav  \n",
      "  inflating: standarised_transfer_learning/08-ocho/39.wav  \n",
      "  inflating: standarised_transfer_learning/08-ocho/4.wav  \n",
      "  inflating: standarised_transfer_learning/08-ocho/40.wav  \n",
      "  inflating: standarised_transfer_learning/08-ocho/41.wav  \n",
      "  inflating: standarised_transfer_learning/08-ocho/42.wav  \n",
      "  inflating: standarised_transfer_learning/08-ocho/43.wav  \n",
      "  inflating: standarised_transfer_learning/08-ocho/44.wav  \n",
      "  inflating: standarised_transfer_learning/08-ocho/45.wav  \n",
      "  inflating: standarised_transfer_learning/08-ocho/46.wav  \n",
      "  inflating: standarised_transfer_learning/08-ocho/47.wav  \n",
      "  inflating: standarised_transfer_learning/08-ocho/48.wav  \n",
      "  inflating: standarised_transfer_learning/08-ocho/49.wav  \n",
      "  inflating: standarised_transfer_learning/08-ocho/5.wav  \n",
      "  inflating: standarised_transfer_learning/08-ocho/50.wav  \n",
      "  inflating: standarised_transfer_learning/08-ocho/51.wav  \n",
      "  inflating: standarised_transfer_learning/08-ocho/52.wav  \n",
      "  inflating: standarised_transfer_learning/08-ocho/53.wav  \n",
      "  inflating: standarised_transfer_learning/08-ocho/54.wav  \n",
      "  inflating: standarised_transfer_learning/08-ocho/55.wav  \n",
      "  inflating: standarised_transfer_learning/08-ocho/56.wav  \n",
      "  inflating: standarised_transfer_learning/08-ocho/57.wav  \n",
      "  inflating: standarised_transfer_learning/08-ocho/58.wav  \n",
      "  inflating: standarised_transfer_learning/08-ocho/59.wav  \n",
      "  inflating: standarised_transfer_learning/08-ocho/6.wav  \n",
      "  inflating: standarised_transfer_learning/08-ocho/60.wav  \n",
      "  inflating: standarised_transfer_learning/08-ocho/61.wav  \n",
      "  inflating: standarised_transfer_learning/08-ocho/62.wav  \n",
      "  inflating: standarised_transfer_learning/08-ocho/63.wav  \n",
      "  inflating: standarised_transfer_learning/08-ocho/64.wav  \n",
      "  inflating: standarised_transfer_learning/08-ocho/65.wav  \n",
      "  inflating: standarised_transfer_learning/08-ocho/66.wav  \n",
      "  inflating: standarised_transfer_learning/08-ocho/67.wav  \n",
      "  inflating: standarised_transfer_learning/08-ocho/68.wav  \n",
      "  inflating: standarised_transfer_learning/08-ocho/69.wav  \n",
      "  inflating: standarised_transfer_learning/08-ocho/7.wav  \n",
      "  inflating: standarised_transfer_learning/08-ocho/70.wav  \n",
      "  inflating: standarised_transfer_learning/08-ocho/71.wav  \n",
      "  inflating: standarised_transfer_learning/08-ocho/72.wav  \n",
      "  inflating: standarised_transfer_learning/08-ocho/73.wav  \n",
      "  inflating: standarised_transfer_learning/08-ocho/74.wav  \n",
      "  inflating: standarised_transfer_learning/08-ocho/75.wav  \n",
      "  inflating: standarised_transfer_learning/08-ocho/76.wav  \n",
      "  inflating: standarised_transfer_learning/08-ocho/77.wav  \n",
      "  inflating: standarised_transfer_learning/08-ocho/78.wav  \n",
      "  inflating: standarised_transfer_learning/08-ocho/79.wav  \n",
      "  inflating: standarised_transfer_learning/08-ocho/8.wav  \n",
      "  inflating: standarised_transfer_learning/08-ocho/80.wav  \n",
      "  inflating: standarised_transfer_learning/08-ocho/81.wav  \n",
      "  inflating: standarised_transfer_learning/08-ocho/82.wav  \n",
      "  inflating: standarised_transfer_learning/08-ocho/83.wav  \n",
      "  inflating: standarised_transfer_learning/08-ocho/84.wav  \n",
      "  inflating: standarised_transfer_learning/08-ocho/85.wav  \n",
      "  inflating: standarised_transfer_learning/08-ocho/86.wav  \n",
      "  inflating: standarised_transfer_learning/08-ocho/87.wav  \n",
      "  inflating: standarised_transfer_learning/08-ocho/88.wav  \n",
      "  inflating: standarised_transfer_learning/08-ocho/89.wav  \n",
      "  inflating: standarised_transfer_learning/08-ocho/9.wav  \n",
      "  inflating: standarised_transfer_learning/08-ocho/90.wav  \n",
      "  inflating: standarised_transfer_learning/08-ocho/91.wav  \n",
      "  inflating: standarised_transfer_learning/08-ocho/92.wav  \n",
      "  inflating: standarised_transfer_learning/08-ocho/93.wav  \n",
      "  inflating: standarised_transfer_learning/08-ocho/94.wav  \n",
      "  inflating: standarised_transfer_learning/08-ocho/95.wav  \n",
      "  inflating: standarised_transfer_learning/08-ocho/96.wav  \n",
      "  inflating: standarised_transfer_learning/08-ocho/97.wav  \n",
      "  inflating: standarised_transfer_learning/08-ocho/98.wav  \n",
      "  inflating: standarised_transfer_learning/08-ocho/99.wav  \n",
      "   creating: standarised_transfer_learning/09-nueve/\n",
      "  inflating: standarised_transfer_learning/09-nueve/0.wav  \n",
      "  inflating: standarised_transfer_learning/09-nueve/1.wav  \n",
      "  inflating: standarised_transfer_learning/09-nueve/10.wav  \n",
      "  inflating: standarised_transfer_learning/09-nueve/100.wav  \n",
      "  inflating: standarised_transfer_learning/09-nueve/101.wav  \n",
      "  inflating: standarised_transfer_learning/09-nueve/11.wav  \n",
      "  inflating: standarised_transfer_learning/09-nueve/12.wav  \n",
      "  inflating: standarised_transfer_learning/09-nueve/13.wav  \n",
      "  inflating: standarised_transfer_learning/09-nueve/14.wav  \n",
      "  inflating: standarised_transfer_learning/09-nueve/15.wav  \n",
      "  inflating: standarised_transfer_learning/09-nueve/16.wav  \n",
      "  inflating: standarised_transfer_learning/09-nueve/17.wav  \n",
      "  inflating: standarised_transfer_learning/09-nueve/18.wav  \n",
      "  inflating: standarised_transfer_learning/09-nueve/19.wav  \n",
      "  inflating: standarised_transfer_learning/09-nueve/2.wav  \n",
      "  inflating: standarised_transfer_learning/09-nueve/20.wav  \n",
      "  inflating: standarised_transfer_learning/09-nueve/21.wav  \n",
      "  inflating: standarised_transfer_learning/09-nueve/22.wav  \n",
      "  inflating: standarised_transfer_learning/09-nueve/23.wav  \n",
      "  inflating: standarised_transfer_learning/09-nueve/24.wav  \n",
      "  inflating: standarised_transfer_learning/09-nueve/25.wav  \n",
      "  inflating: standarised_transfer_learning/09-nueve/26.wav  \n",
      "  inflating: standarised_transfer_learning/09-nueve/27.wav  \n",
      "  inflating: standarised_transfer_learning/09-nueve/28.wav  \n",
      "  inflating: standarised_transfer_learning/09-nueve/29.wav  \n",
      "  inflating: standarised_transfer_learning/09-nueve/3.wav  \n",
      "  inflating: standarised_transfer_learning/09-nueve/30.wav  \n",
      "  inflating: standarised_transfer_learning/09-nueve/31.wav  \n",
      "  inflating: standarised_transfer_learning/09-nueve/32.wav  \n",
      "  inflating: standarised_transfer_learning/09-nueve/33.wav  \n",
      "  inflating: standarised_transfer_learning/09-nueve/34.wav  \n",
      "  inflating: standarised_transfer_learning/09-nueve/35.wav  \n",
      "  inflating: standarised_transfer_learning/09-nueve/36.wav  \n",
      "  inflating: standarised_transfer_learning/09-nueve/37.wav  \n",
      "  inflating: standarised_transfer_learning/09-nueve/38.wav  \n",
      "  inflating: standarised_transfer_learning/09-nueve/39.wav  \n",
      "  inflating: standarised_transfer_learning/09-nueve/4.wav  \n",
      "  inflating: standarised_transfer_learning/09-nueve/40.wav  \n",
      "  inflating: standarised_transfer_learning/09-nueve/41.wav  \n",
      "  inflating: standarised_transfer_learning/09-nueve/42.wav  \n",
      "  inflating: standarised_transfer_learning/09-nueve/43.wav  \n",
      "  inflating: standarised_transfer_learning/09-nueve/44.wav  \n",
      "  inflating: standarised_transfer_learning/09-nueve/45.wav  \n",
      "  inflating: standarised_transfer_learning/09-nueve/46.wav  \n",
      "  inflating: standarised_transfer_learning/09-nueve/47.wav  \n",
      "  inflating: standarised_transfer_learning/09-nueve/48.wav  \n",
      "  inflating: standarised_transfer_learning/09-nueve/49.wav  \n",
      "  inflating: standarised_transfer_learning/09-nueve/5.wav  \n",
      "  inflating: standarised_transfer_learning/09-nueve/50.wav  \n",
      "  inflating: standarised_transfer_learning/09-nueve/51.wav  \n",
      "  inflating: standarised_transfer_learning/09-nueve/52.wav  \n",
      "  inflating: standarised_transfer_learning/09-nueve/53.wav  \n",
      "  inflating: standarised_transfer_learning/09-nueve/54.wav  \n",
      "  inflating: standarised_transfer_learning/09-nueve/55.wav  \n",
      "  inflating: standarised_transfer_learning/09-nueve/56.wav  \n",
      "  inflating: standarised_transfer_learning/09-nueve/57.wav  \n",
      "  inflating: standarised_transfer_learning/09-nueve/58.wav  \n",
      "  inflating: standarised_transfer_learning/09-nueve/59.wav  \n",
      "  inflating: standarised_transfer_learning/09-nueve/6.wav  \n",
      "  inflating: standarised_transfer_learning/09-nueve/60.wav  \n",
      "  inflating: standarised_transfer_learning/09-nueve/61.wav  \n",
      "  inflating: standarised_transfer_learning/09-nueve/62.wav  \n",
      "  inflating: standarised_transfer_learning/09-nueve/63.wav  \n",
      "  inflating: standarised_transfer_learning/09-nueve/64.wav  \n",
      "  inflating: standarised_transfer_learning/09-nueve/65.wav  \n",
      "  inflating: standarised_transfer_learning/09-nueve/66.wav  \n",
      "  inflating: standarised_transfer_learning/09-nueve/67.wav  \n",
      "  inflating: standarised_transfer_learning/09-nueve/68.wav  \n",
      "  inflating: standarised_transfer_learning/09-nueve/69.wav  \n",
      "  inflating: standarised_transfer_learning/09-nueve/7.wav  \n",
      "  inflating: standarised_transfer_learning/09-nueve/70.wav  \n",
      "  inflating: standarised_transfer_learning/09-nueve/71.wav  \n",
      "  inflating: standarised_transfer_learning/09-nueve/72.wav  \n",
      "  inflating: standarised_transfer_learning/09-nueve/73.wav  \n",
      "  inflating: standarised_transfer_learning/09-nueve/74.wav  \n",
      "  inflating: standarised_transfer_learning/09-nueve/75.wav  \n",
      "  inflating: standarised_transfer_learning/09-nueve/76.wav  \n",
      "  inflating: standarised_transfer_learning/09-nueve/77.wav  \n",
      "  inflating: standarised_transfer_learning/09-nueve/78.wav  \n",
      "  inflating: standarised_transfer_learning/09-nueve/79.wav  \n",
      "  inflating: standarised_transfer_learning/09-nueve/8.wav  \n",
      "  inflating: standarised_transfer_learning/09-nueve/80.wav  \n",
      "  inflating: standarised_transfer_learning/09-nueve/81.wav  \n",
      "  inflating: standarised_transfer_learning/09-nueve/82.wav  \n",
      "  inflating: standarised_transfer_learning/09-nueve/83.wav  \n",
      "  inflating: standarised_transfer_learning/09-nueve/84.wav  \n",
      "  inflating: standarised_transfer_learning/09-nueve/85.wav  \n",
      "  inflating: standarised_transfer_learning/09-nueve/86.wav  \n",
      "  inflating: standarised_transfer_learning/09-nueve/87.wav  \n",
      "  inflating: standarised_transfer_learning/09-nueve/88.wav  \n",
      "  inflating: standarised_transfer_learning/09-nueve/89.wav  \n",
      "  inflating: standarised_transfer_learning/09-nueve/9.wav  \n",
      "  inflating: standarised_transfer_learning/09-nueve/90.wav  \n",
      "  inflating: standarised_transfer_learning/09-nueve/91.wav  \n",
      "  inflating: standarised_transfer_learning/09-nueve/92.wav  \n",
      "  inflating: standarised_transfer_learning/09-nueve/93.wav  \n",
      "  inflating: standarised_transfer_learning/09-nueve/94.wav  \n",
      "  inflating: standarised_transfer_learning/09-nueve/95.wav  \n",
      "  inflating: standarised_transfer_learning/09-nueve/96.wav  \n",
      "  inflating: standarised_transfer_learning/09-nueve/97.wav  \n",
      "  inflating: standarised_transfer_learning/09-nueve/98.wav  \n",
      "  inflating: standarised_transfer_learning/09-nueve/99.wav  \n",
      "   creating: standarised_transfer_learning/10-aceptar/\n",
      "  inflating: standarised_transfer_learning/10-aceptar/0.wav  \n",
      "  inflating: standarised_transfer_learning/10-aceptar/1.wav  \n",
      "  inflating: standarised_transfer_learning/10-aceptar/10.wav  \n",
      "  inflating: standarised_transfer_learning/10-aceptar/100.wav  \n",
      "  inflating: standarised_transfer_learning/10-aceptar/101.wav  \n",
      "  inflating: standarised_transfer_learning/10-aceptar/11.wav  \n",
      "  inflating: standarised_transfer_learning/10-aceptar/12.wav  \n",
      "  inflating: standarised_transfer_learning/10-aceptar/13.wav  \n",
      "  inflating: standarised_transfer_learning/10-aceptar/14.wav  \n",
      "  inflating: standarised_transfer_learning/10-aceptar/15.wav  \n",
      "  inflating: standarised_transfer_learning/10-aceptar/16.wav  \n",
      "  inflating: standarised_transfer_learning/10-aceptar/17.wav  \n",
      "  inflating: standarised_transfer_learning/10-aceptar/18.wav  \n",
      "  inflating: standarised_transfer_learning/10-aceptar/19.wav  \n",
      "  inflating: standarised_transfer_learning/10-aceptar/2.wav  \n",
      "  inflating: standarised_transfer_learning/10-aceptar/20.wav  \n",
      "  inflating: standarised_transfer_learning/10-aceptar/21.wav  \n",
      "  inflating: standarised_transfer_learning/10-aceptar/22.wav  \n",
      "  inflating: standarised_transfer_learning/10-aceptar/23.wav  \n",
      "  inflating: standarised_transfer_learning/10-aceptar/24.wav  \n",
      "  inflating: standarised_transfer_learning/10-aceptar/25.wav  \n",
      "  inflating: standarised_transfer_learning/10-aceptar/26.wav  \n",
      "  inflating: standarised_transfer_learning/10-aceptar/27.wav  \n",
      "  inflating: standarised_transfer_learning/10-aceptar/28.wav  \n",
      "  inflating: standarised_transfer_learning/10-aceptar/29.wav  \n",
      "  inflating: standarised_transfer_learning/10-aceptar/3.wav  \n",
      "  inflating: standarised_transfer_learning/10-aceptar/30.wav  \n",
      "  inflating: standarised_transfer_learning/10-aceptar/31.wav  \n",
      "  inflating: standarised_transfer_learning/10-aceptar/32.wav  \n",
      "  inflating: standarised_transfer_learning/10-aceptar/33.wav  \n",
      "  inflating: standarised_transfer_learning/10-aceptar/34.wav  \n",
      "  inflating: standarised_transfer_learning/10-aceptar/35.wav  \n",
      "  inflating: standarised_transfer_learning/10-aceptar/36.wav  \n",
      "  inflating: standarised_transfer_learning/10-aceptar/37.wav  \n",
      "  inflating: standarised_transfer_learning/10-aceptar/38.wav  \n",
      "  inflating: standarised_transfer_learning/10-aceptar/39.wav  \n",
      "  inflating: standarised_transfer_learning/10-aceptar/4.wav  \n",
      "  inflating: standarised_transfer_learning/10-aceptar/40.wav  \n",
      "  inflating: standarised_transfer_learning/10-aceptar/41.wav  \n",
      "  inflating: standarised_transfer_learning/10-aceptar/42.wav  \n",
      "  inflating: standarised_transfer_learning/10-aceptar/43.wav  \n",
      "  inflating: standarised_transfer_learning/10-aceptar/44.wav  \n",
      "  inflating: standarised_transfer_learning/10-aceptar/45.wav  \n",
      "  inflating: standarised_transfer_learning/10-aceptar/46.wav  \n",
      "  inflating: standarised_transfer_learning/10-aceptar/47.wav  \n",
      "  inflating: standarised_transfer_learning/10-aceptar/48.wav  \n",
      "  inflating: standarised_transfer_learning/10-aceptar/49.wav  \n",
      "  inflating: standarised_transfer_learning/10-aceptar/5.wav  \n",
      "  inflating: standarised_transfer_learning/10-aceptar/50.wav  \n",
      "  inflating: standarised_transfer_learning/10-aceptar/51.wav  \n",
      "  inflating: standarised_transfer_learning/10-aceptar/52.wav  \n",
      "  inflating: standarised_transfer_learning/10-aceptar/53.wav  \n",
      "  inflating: standarised_transfer_learning/10-aceptar/54.wav  \n",
      "  inflating: standarised_transfer_learning/10-aceptar/55.wav  \n",
      "  inflating: standarised_transfer_learning/10-aceptar/56.wav  \n",
      "  inflating: standarised_transfer_learning/10-aceptar/57.wav  \n",
      "  inflating: standarised_transfer_learning/10-aceptar/58.wav  \n",
      "  inflating: standarised_transfer_learning/10-aceptar/59.wav  \n",
      "  inflating: standarised_transfer_learning/10-aceptar/6.wav  \n",
      "  inflating: standarised_transfer_learning/10-aceptar/60.wav  \n",
      "  inflating: standarised_transfer_learning/10-aceptar/61.wav  \n",
      "  inflating: standarised_transfer_learning/10-aceptar/62.wav  \n",
      "  inflating: standarised_transfer_learning/10-aceptar/63.wav  \n",
      "  inflating: standarised_transfer_learning/10-aceptar/64.wav  \n",
      "  inflating: standarised_transfer_learning/10-aceptar/65.wav  \n",
      "  inflating: standarised_transfer_learning/10-aceptar/66.wav  \n",
      "  inflating: standarised_transfer_learning/10-aceptar/67.wav  \n",
      "  inflating: standarised_transfer_learning/10-aceptar/68.wav  \n",
      "  inflating: standarised_transfer_learning/10-aceptar/69.wav  \n",
      "  inflating: standarised_transfer_learning/10-aceptar/7.wav  \n",
      "  inflating: standarised_transfer_learning/10-aceptar/70.wav  \n",
      "  inflating: standarised_transfer_learning/10-aceptar/71.wav  \n",
      "  inflating: standarised_transfer_learning/10-aceptar/72.wav  \n",
      "  inflating: standarised_transfer_learning/10-aceptar/73.wav  \n",
      "  inflating: standarised_transfer_learning/10-aceptar/74.wav  \n",
      "  inflating: standarised_transfer_learning/10-aceptar/75.wav  \n",
      "  inflating: standarised_transfer_learning/10-aceptar/76.wav  \n",
      "  inflating: standarised_transfer_learning/10-aceptar/77.wav  \n",
      "  inflating: standarised_transfer_learning/10-aceptar/78.wav  \n",
      "  inflating: standarised_transfer_learning/10-aceptar/79.wav  \n",
      "  inflating: standarised_transfer_learning/10-aceptar/8.wav  \n",
      "  inflating: standarised_transfer_learning/10-aceptar/80.wav  \n",
      "  inflating: standarised_transfer_learning/10-aceptar/81.wav  \n",
      "  inflating: standarised_transfer_learning/10-aceptar/82.wav  \n",
      "  inflating: standarised_transfer_learning/10-aceptar/83.wav  \n",
      "  inflating: standarised_transfer_learning/10-aceptar/84.wav  \n",
      "  inflating: standarised_transfer_learning/10-aceptar/85.wav  \n",
      "  inflating: standarised_transfer_learning/10-aceptar/86.wav  \n",
      "  inflating: standarised_transfer_learning/10-aceptar/87.wav  \n",
      "  inflating: standarised_transfer_learning/10-aceptar/88.wav  \n",
      "  inflating: standarised_transfer_learning/10-aceptar/89.wav  \n",
      "  inflating: standarised_transfer_learning/10-aceptar/9.wav  \n",
      "  inflating: standarised_transfer_learning/10-aceptar/90.wav  \n",
      "  inflating: standarised_transfer_learning/10-aceptar/91.wav  \n",
      "  inflating: standarised_transfer_learning/10-aceptar/92.wav  \n",
      "  inflating: standarised_transfer_learning/10-aceptar/93.wav  \n",
      "  inflating: standarised_transfer_learning/10-aceptar/94.wav  \n",
      "  inflating: standarised_transfer_learning/10-aceptar/95.wav  \n",
      "  inflating: standarised_transfer_learning/10-aceptar/96.wav  \n",
      "  inflating: standarised_transfer_learning/10-aceptar/97.wav  \n",
      "  inflating: standarised_transfer_learning/10-aceptar/98.wav  \n",
      "  inflating: standarised_transfer_learning/10-aceptar/99.wav  \n",
      "   creating: standarised_transfer_learning/11-rechazar/\n",
      "  inflating: standarised_transfer_learning/11-rechazar/0.wav  \n",
      "  inflating: standarised_transfer_learning/11-rechazar/1.wav  \n",
      "  inflating: standarised_transfer_learning/11-rechazar/10.wav  \n",
      "  inflating: standarised_transfer_learning/11-rechazar/100.wav  \n",
      "  inflating: standarised_transfer_learning/11-rechazar/101.wav  \n",
      "  inflating: standarised_transfer_learning/11-rechazar/11.wav  \n",
      "  inflating: standarised_transfer_learning/11-rechazar/12.wav  \n",
      "  inflating: standarised_transfer_learning/11-rechazar/13.wav  \n",
      "  inflating: standarised_transfer_learning/11-rechazar/14.wav  \n",
      "  inflating: standarised_transfer_learning/11-rechazar/15.wav  \n",
      "  inflating: standarised_transfer_learning/11-rechazar/16.wav  \n",
      "  inflating: standarised_transfer_learning/11-rechazar/17.wav  \n",
      "  inflating: standarised_transfer_learning/11-rechazar/18.wav  \n",
      "  inflating: standarised_transfer_learning/11-rechazar/19.wav  \n",
      "  inflating: standarised_transfer_learning/11-rechazar/2.wav  \n",
      "  inflating: standarised_transfer_learning/11-rechazar/20.wav  \n",
      "  inflating: standarised_transfer_learning/11-rechazar/21.wav  \n",
      "  inflating: standarised_transfer_learning/11-rechazar/22.wav  \n",
      "  inflating: standarised_transfer_learning/11-rechazar/23.wav  \n",
      "  inflating: standarised_transfer_learning/11-rechazar/24.wav  \n",
      "  inflating: standarised_transfer_learning/11-rechazar/25.wav  \n",
      "  inflating: standarised_transfer_learning/11-rechazar/26.wav  \n",
      "  inflating: standarised_transfer_learning/11-rechazar/27.wav  \n",
      "  inflating: standarised_transfer_learning/11-rechazar/28.wav  \n",
      "  inflating: standarised_transfer_learning/11-rechazar/29.wav  \n",
      "  inflating: standarised_transfer_learning/11-rechazar/3.wav  \n",
      "  inflating: standarised_transfer_learning/11-rechazar/30.wav  \n",
      "  inflating: standarised_transfer_learning/11-rechazar/31.wav  \n",
      "  inflating: standarised_transfer_learning/11-rechazar/32.wav  \n",
      "  inflating: standarised_transfer_learning/11-rechazar/33.wav  \n",
      "  inflating: standarised_transfer_learning/11-rechazar/34.wav  \n",
      "  inflating: standarised_transfer_learning/11-rechazar/35.wav  \n",
      "  inflating: standarised_transfer_learning/11-rechazar/36.wav  \n",
      "  inflating: standarised_transfer_learning/11-rechazar/37.wav  \n",
      "  inflating: standarised_transfer_learning/11-rechazar/38.wav  \n",
      "  inflating: standarised_transfer_learning/11-rechazar/39.wav  \n",
      "  inflating: standarised_transfer_learning/11-rechazar/4.wav  \n",
      "  inflating: standarised_transfer_learning/11-rechazar/40.wav  \n",
      "  inflating: standarised_transfer_learning/11-rechazar/41.wav  \n",
      "  inflating: standarised_transfer_learning/11-rechazar/42.wav  \n",
      "  inflating: standarised_transfer_learning/11-rechazar/43.wav  \n",
      "  inflating: standarised_transfer_learning/11-rechazar/44.wav  \n",
      "  inflating: standarised_transfer_learning/11-rechazar/45.wav  \n",
      "  inflating: standarised_transfer_learning/11-rechazar/46.wav  \n",
      "  inflating: standarised_transfer_learning/11-rechazar/47.wav  \n",
      "  inflating: standarised_transfer_learning/11-rechazar/48.wav  \n",
      "  inflating: standarised_transfer_learning/11-rechazar/49.wav  \n",
      "  inflating: standarised_transfer_learning/11-rechazar/5.wav  \n",
      "  inflating: standarised_transfer_learning/11-rechazar/50.wav  \n",
      "  inflating: standarised_transfer_learning/11-rechazar/51.wav  \n",
      "  inflating: standarised_transfer_learning/11-rechazar/52.wav  \n",
      "  inflating: standarised_transfer_learning/11-rechazar/53.wav  \n",
      "  inflating: standarised_transfer_learning/11-rechazar/54.wav  \n",
      "  inflating: standarised_transfer_learning/11-rechazar/55.wav  \n",
      "  inflating: standarised_transfer_learning/11-rechazar/56.wav  \n",
      "  inflating: standarised_transfer_learning/11-rechazar/57.wav  \n",
      "  inflating: standarised_transfer_learning/11-rechazar/58.wav  \n",
      "  inflating: standarised_transfer_learning/11-rechazar/59.wav  \n",
      "  inflating: standarised_transfer_learning/11-rechazar/6.wav  \n",
      "  inflating: standarised_transfer_learning/11-rechazar/60.wav  \n",
      "  inflating: standarised_transfer_learning/11-rechazar/61.wav  \n",
      "  inflating: standarised_transfer_learning/11-rechazar/62.wav  \n",
      "  inflating: standarised_transfer_learning/11-rechazar/63.wav  \n",
      "  inflating: standarised_transfer_learning/11-rechazar/64.wav  \n",
      "  inflating: standarised_transfer_learning/11-rechazar/65.wav  \n",
      "  inflating: standarised_transfer_learning/11-rechazar/66.wav  \n",
      "  inflating: standarised_transfer_learning/11-rechazar/67.wav  \n",
      "  inflating: standarised_transfer_learning/11-rechazar/68.wav  \n",
      "  inflating: standarised_transfer_learning/11-rechazar/69.wav  \n",
      "  inflating: standarised_transfer_learning/11-rechazar/7.wav  \n",
      "  inflating: standarised_transfer_learning/11-rechazar/70.wav  \n",
      "  inflating: standarised_transfer_learning/11-rechazar/71.wav  \n",
      "  inflating: standarised_transfer_learning/11-rechazar/72.wav  \n",
      "  inflating: standarised_transfer_learning/11-rechazar/73.wav  \n",
      "  inflating: standarised_transfer_learning/11-rechazar/74.wav  \n",
      "  inflating: standarised_transfer_learning/11-rechazar/75.wav  \n",
      "  inflating: standarised_transfer_learning/11-rechazar/76.wav  \n",
      "  inflating: standarised_transfer_learning/11-rechazar/77.wav  \n",
      "  inflating: standarised_transfer_learning/11-rechazar/78.wav  \n",
      "  inflating: standarised_transfer_learning/11-rechazar/79.wav  \n",
      "  inflating: standarised_transfer_learning/11-rechazar/8.wav  \n",
      "  inflating: standarised_transfer_learning/11-rechazar/80.wav  \n",
      "  inflating: standarised_transfer_learning/11-rechazar/81.wav  \n",
      "  inflating: standarised_transfer_learning/11-rechazar/82.wav  \n",
      "  inflating: standarised_transfer_learning/11-rechazar/83.wav  \n",
      "  inflating: standarised_transfer_learning/11-rechazar/84.wav  \n",
      "  inflating: standarised_transfer_learning/11-rechazar/85.wav  \n",
      "  inflating: standarised_transfer_learning/11-rechazar/86.wav  \n",
      "  inflating: standarised_transfer_learning/11-rechazar/87.wav  \n",
      "  inflating: standarised_transfer_learning/11-rechazar/88.wav  \n",
      "  inflating: standarised_transfer_learning/11-rechazar/89.wav  \n",
      "  inflating: standarised_transfer_learning/11-rechazar/9.wav  \n",
      "  inflating: standarised_transfer_learning/11-rechazar/90.wav  \n",
      "  inflating: standarised_transfer_learning/11-rechazar/91.wav  \n",
      "  inflating: standarised_transfer_learning/11-rechazar/92.wav  \n",
      "  inflating: standarised_transfer_learning/11-rechazar/93.wav  \n",
      "  inflating: standarised_transfer_learning/11-rechazar/94.wav  \n",
      "  inflating: standarised_transfer_learning/11-rechazar/95.wav  \n",
      "  inflating: standarised_transfer_learning/11-rechazar/96.wav  \n",
      "  inflating: standarised_transfer_learning/11-rechazar/97.wav  \n",
      "  inflating: standarised_transfer_learning/11-rechazar/98.wav  \n",
      "  inflating: standarised_transfer_learning/11-rechazar/99.wav  \n",
      "   creating: standarised_transfer_learning/12-arriba/\n",
      "  inflating: standarised_transfer_learning/12-arriba/0.wav  \n",
      "  inflating: standarised_transfer_learning/12-arriba/1.wav  \n",
      "  inflating: standarised_transfer_learning/12-arriba/10.wav  \n",
      "  inflating: standarised_transfer_learning/12-arriba/100.wav  \n",
      "  inflating: standarised_transfer_learning/12-arriba/101.wav  \n",
      "  inflating: standarised_transfer_learning/12-arriba/11.wav  \n",
      "  inflating: standarised_transfer_learning/12-arriba/12.wav  \n",
      "  inflating: standarised_transfer_learning/12-arriba/13.wav  \n",
      "  inflating: standarised_transfer_learning/12-arriba/14.wav  \n",
      "  inflating: standarised_transfer_learning/12-arriba/15.wav  \n",
      "  inflating: standarised_transfer_learning/12-arriba/16.wav  \n",
      "  inflating: standarised_transfer_learning/12-arriba/17.wav  \n",
      "  inflating: standarised_transfer_learning/12-arriba/18.wav  \n",
      "  inflating: standarised_transfer_learning/12-arriba/19.wav  \n",
      "  inflating: standarised_transfer_learning/12-arriba/2.wav  \n",
      "  inflating: standarised_transfer_learning/12-arriba/20.wav  \n",
      "  inflating: standarised_transfer_learning/12-arriba/21.wav  \n",
      "  inflating: standarised_transfer_learning/12-arriba/22.wav  \n",
      "  inflating: standarised_transfer_learning/12-arriba/23.wav  \n",
      "  inflating: standarised_transfer_learning/12-arriba/24.wav  \n",
      "  inflating: standarised_transfer_learning/12-arriba/25.wav  \n",
      "  inflating: standarised_transfer_learning/12-arriba/26.wav  \n",
      "  inflating: standarised_transfer_learning/12-arriba/27.wav  \n",
      "  inflating: standarised_transfer_learning/12-arriba/28.wav  \n",
      "  inflating: standarised_transfer_learning/12-arriba/29.wav  \n",
      "  inflating: standarised_transfer_learning/12-arriba/3.wav  \n",
      "  inflating: standarised_transfer_learning/12-arriba/30.wav  \n",
      "  inflating: standarised_transfer_learning/12-arriba/31.wav  \n",
      "  inflating: standarised_transfer_learning/12-arriba/32.wav  \n",
      "  inflating: standarised_transfer_learning/12-arriba/33.wav  \n",
      "  inflating: standarised_transfer_learning/12-arriba/34.wav  \n",
      "  inflating: standarised_transfer_learning/12-arriba/35.wav  \n",
      "  inflating: standarised_transfer_learning/12-arriba/36.wav  \n",
      "  inflating: standarised_transfer_learning/12-arriba/37.wav  \n",
      "  inflating: standarised_transfer_learning/12-arriba/38.wav  \n",
      "  inflating: standarised_transfer_learning/12-arriba/39.wav  \n",
      "  inflating: standarised_transfer_learning/12-arriba/4.wav  \n",
      "  inflating: standarised_transfer_learning/12-arriba/40.wav  \n",
      "  inflating: standarised_transfer_learning/12-arriba/41.wav  \n",
      "  inflating: standarised_transfer_learning/12-arriba/42.wav  \n",
      "  inflating: standarised_transfer_learning/12-arriba/43.wav  \n",
      "  inflating: standarised_transfer_learning/12-arriba/44.wav  \n",
      "  inflating: standarised_transfer_learning/12-arriba/45.wav  \n",
      "  inflating: standarised_transfer_learning/12-arriba/46.wav  \n",
      "  inflating: standarised_transfer_learning/12-arriba/47.wav  \n",
      "  inflating: standarised_transfer_learning/12-arriba/48.wav  \n",
      "  inflating: standarised_transfer_learning/12-arriba/49.wav  \n",
      "  inflating: standarised_transfer_learning/12-arriba/5.wav  \n",
      "  inflating: standarised_transfer_learning/12-arriba/50.wav  \n",
      "  inflating: standarised_transfer_learning/12-arriba/51.wav  \n",
      "  inflating: standarised_transfer_learning/12-arriba/52.wav  \n",
      "  inflating: standarised_transfer_learning/12-arriba/53.wav  \n",
      "  inflating: standarised_transfer_learning/12-arriba/54.wav  \n",
      "  inflating: standarised_transfer_learning/12-arriba/55.wav  \n",
      "  inflating: standarised_transfer_learning/12-arriba/56.wav  \n",
      "  inflating: standarised_transfer_learning/12-arriba/57.wav  \n",
      "  inflating: standarised_transfer_learning/12-arriba/58.wav  \n",
      "  inflating: standarised_transfer_learning/12-arriba/59.wav  \n",
      "  inflating: standarised_transfer_learning/12-arriba/6.wav  \n",
      "  inflating: standarised_transfer_learning/12-arriba/60.wav  \n",
      "  inflating: standarised_transfer_learning/12-arriba/61.wav  \n",
      "  inflating: standarised_transfer_learning/12-arriba/62.wav  \n",
      "  inflating: standarised_transfer_learning/12-arriba/63.wav  \n",
      "  inflating: standarised_transfer_learning/12-arriba/64.wav  \n",
      "  inflating: standarised_transfer_learning/12-arriba/65.wav  \n",
      "  inflating: standarised_transfer_learning/12-arriba/66.wav  \n",
      "  inflating: standarised_transfer_learning/12-arriba/67.wav  \n",
      "  inflating: standarised_transfer_learning/12-arriba/68.wav  \n",
      "  inflating: standarised_transfer_learning/12-arriba/69.wav  \n",
      "  inflating: standarised_transfer_learning/12-arriba/7.wav  \n",
      "  inflating: standarised_transfer_learning/12-arriba/70.wav  \n",
      "  inflating: standarised_transfer_learning/12-arriba/71.wav  \n",
      "  inflating: standarised_transfer_learning/12-arriba/72.wav  \n",
      "  inflating: standarised_transfer_learning/12-arriba/73.wav  \n",
      "  inflating: standarised_transfer_learning/12-arriba/74.wav  \n",
      "  inflating: standarised_transfer_learning/12-arriba/75.wav  \n",
      "  inflating: standarised_transfer_learning/12-arriba/76.wav  \n",
      "  inflating: standarised_transfer_learning/12-arriba/77.wav  \n",
      "  inflating: standarised_transfer_learning/12-arriba/78.wav  \n",
      "  inflating: standarised_transfer_learning/12-arriba/79.wav  \n",
      "  inflating: standarised_transfer_learning/12-arriba/8.wav  \n",
      "  inflating: standarised_transfer_learning/12-arriba/80.wav  \n",
      "  inflating: standarised_transfer_learning/12-arriba/81.wav  \n",
      "  inflating: standarised_transfer_learning/12-arriba/82.wav  \n",
      "  inflating: standarised_transfer_learning/12-arriba/83.wav  \n",
      "  inflating: standarised_transfer_learning/12-arriba/84.wav  \n",
      "  inflating: standarised_transfer_learning/12-arriba/85.wav  \n",
      "  inflating: standarised_transfer_learning/12-arriba/86.wav  \n",
      "  inflating: standarised_transfer_learning/12-arriba/87.wav  \n",
      "  inflating: standarised_transfer_learning/12-arriba/88.wav  \n",
      "  inflating: standarised_transfer_learning/12-arriba/89.wav  \n",
      "  inflating: standarised_transfer_learning/12-arriba/9.wav  \n",
      "  inflating: standarised_transfer_learning/12-arriba/90.wav  \n",
      "  inflating: standarised_transfer_learning/12-arriba/91.wav  \n",
      "  inflating: standarised_transfer_learning/12-arriba/92.wav  \n",
      "  inflating: standarised_transfer_learning/12-arriba/93.wav  \n",
      "  inflating: standarised_transfer_learning/12-arriba/94.wav  \n",
      "  inflating: standarised_transfer_learning/12-arriba/95.wav  \n",
      "  inflating: standarised_transfer_learning/12-arriba/96.wav  \n",
      "  inflating: standarised_transfer_learning/12-arriba/97.wav  \n",
      "  inflating: standarised_transfer_learning/12-arriba/98.wav  \n",
      "  inflating: standarised_transfer_learning/12-arriba/99.wav  \n",
      "   creating: standarised_transfer_learning/13-abajo/\n",
      "  inflating: standarised_transfer_learning/13-abajo/0.wav  \n",
      "  inflating: standarised_transfer_learning/13-abajo/1.wav  \n",
      "  inflating: standarised_transfer_learning/13-abajo/10.wav  \n",
      "  inflating: standarised_transfer_learning/13-abajo/100.wav  \n",
      "  inflating: standarised_transfer_learning/13-abajo/101.wav  \n",
      "  inflating: standarised_transfer_learning/13-abajo/11.wav  \n",
      "  inflating: standarised_transfer_learning/13-abajo/12.wav  \n",
      "  inflating: standarised_transfer_learning/13-abajo/13.wav  \n",
      "  inflating: standarised_transfer_learning/13-abajo/14.wav  \n",
      "  inflating: standarised_transfer_learning/13-abajo/15.wav  \n",
      "  inflating: standarised_transfer_learning/13-abajo/16.wav  \n",
      "  inflating: standarised_transfer_learning/13-abajo/17.wav  \n",
      "  inflating: standarised_transfer_learning/13-abajo/18.wav  \n",
      "  inflating: standarised_transfer_learning/13-abajo/19.wav  \n",
      "  inflating: standarised_transfer_learning/13-abajo/2.wav  \n",
      "  inflating: standarised_transfer_learning/13-abajo/20.wav  \n",
      "  inflating: standarised_transfer_learning/13-abajo/21.wav  \n",
      "  inflating: standarised_transfer_learning/13-abajo/22.wav  \n",
      "  inflating: standarised_transfer_learning/13-abajo/23.wav  \n",
      "  inflating: standarised_transfer_learning/13-abajo/24.wav  \n",
      "  inflating: standarised_transfer_learning/13-abajo/25.wav  \n",
      "  inflating: standarised_transfer_learning/13-abajo/26.wav  \n",
      "  inflating: standarised_transfer_learning/13-abajo/27.wav  \n",
      "  inflating: standarised_transfer_learning/13-abajo/28.wav  \n",
      "  inflating: standarised_transfer_learning/13-abajo/29.wav  \n",
      "  inflating: standarised_transfer_learning/13-abajo/3.wav  \n",
      "  inflating: standarised_transfer_learning/13-abajo/30.wav  \n",
      "  inflating: standarised_transfer_learning/13-abajo/31.wav  \n",
      "  inflating: standarised_transfer_learning/13-abajo/32.wav  \n",
      "  inflating: standarised_transfer_learning/13-abajo/33.wav  \n",
      "  inflating: standarised_transfer_learning/13-abajo/34.wav  \n",
      "  inflating: standarised_transfer_learning/13-abajo/35.wav  \n",
      "  inflating: standarised_transfer_learning/13-abajo/36.wav  \n",
      "  inflating: standarised_transfer_learning/13-abajo/37.wav  \n",
      "  inflating: standarised_transfer_learning/13-abajo/38.wav  \n",
      "  inflating: standarised_transfer_learning/13-abajo/39.wav  \n",
      "  inflating: standarised_transfer_learning/13-abajo/4.wav  \n",
      "  inflating: standarised_transfer_learning/13-abajo/40.wav  \n",
      "  inflating: standarised_transfer_learning/13-abajo/41.wav  \n",
      "  inflating: standarised_transfer_learning/13-abajo/42.wav  \n",
      "  inflating: standarised_transfer_learning/13-abajo/43.wav  \n",
      "  inflating: standarised_transfer_learning/13-abajo/44.wav  \n",
      "  inflating: standarised_transfer_learning/13-abajo/45.wav  \n",
      "  inflating: standarised_transfer_learning/13-abajo/46.wav  \n",
      "  inflating: standarised_transfer_learning/13-abajo/47.wav  \n",
      "  inflating: standarised_transfer_learning/13-abajo/48.wav  \n",
      "  inflating: standarised_transfer_learning/13-abajo/49.wav  \n",
      "  inflating: standarised_transfer_learning/13-abajo/5.wav  \n",
      "  inflating: standarised_transfer_learning/13-abajo/50.wav  \n",
      "  inflating: standarised_transfer_learning/13-abajo/51.wav  \n",
      "  inflating: standarised_transfer_learning/13-abajo/52.wav  \n",
      "  inflating: standarised_transfer_learning/13-abajo/53.wav  \n",
      "  inflating: standarised_transfer_learning/13-abajo/54.wav  \n",
      "  inflating: standarised_transfer_learning/13-abajo/55.wav  \n",
      "  inflating: standarised_transfer_learning/13-abajo/56.wav  \n",
      "  inflating: standarised_transfer_learning/13-abajo/57.wav  \n",
      "  inflating: standarised_transfer_learning/13-abajo/58.wav  \n",
      "  inflating: standarised_transfer_learning/13-abajo/59.wav  \n",
      "  inflating: standarised_transfer_learning/13-abajo/6.wav  \n",
      "  inflating: standarised_transfer_learning/13-abajo/60.wav  \n",
      "  inflating: standarised_transfer_learning/13-abajo/61.wav  \n",
      "  inflating: standarised_transfer_learning/13-abajo/62.wav  \n",
      "  inflating: standarised_transfer_learning/13-abajo/63.wav  \n",
      "  inflating: standarised_transfer_learning/13-abajo/64.wav  \n",
      "  inflating: standarised_transfer_learning/13-abajo/65.wav  \n",
      "  inflating: standarised_transfer_learning/13-abajo/66.wav  \n",
      "  inflating: standarised_transfer_learning/13-abajo/67.wav  \n",
      "  inflating: standarised_transfer_learning/13-abajo/68.wav  \n",
      "  inflating: standarised_transfer_learning/13-abajo/69.wav  \n",
      "  inflating: standarised_transfer_learning/13-abajo/7.wav  \n",
      "  inflating: standarised_transfer_learning/13-abajo/70.wav  \n",
      "  inflating: standarised_transfer_learning/13-abajo/71.wav  \n",
      "  inflating: standarised_transfer_learning/13-abajo/72.wav  \n",
      "  inflating: standarised_transfer_learning/13-abajo/73.wav  \n",
      "  inflating: standarised_transfer_learning/13-abajo/74.wav  \n",
      "  inflating: standarised_transfer_learning/13-abajo/75.wav  \n",
      "  inflating: standarised_transfer_learning/13-abajo/76.wav  \n",
      "  inflating: standarised_transfer_learning/13-abajo/77.wav  \n",
      "  inflating: standarised_transfer_learning/13-abajo/78.wav  \n",
      "  inflating: standarised_transfer_learning/13-abajo/79.wav  \n",
      "  inflating: standarised_transfer_learning/13-abajo/8.wav  \n",
      "  inflating: standarised_transfer_learning/13-abajo/80.wav  \n",
      "  inflating: standarised_transfer_learning/13-abajo/81.wav  \n",
      "  inflating: standarised_transfer_learning/13-abajo/82.wav  \n",
      "  inflating: standarised_transfer_learning/13-abajo/83.wav  \n",
      "  inflating: standarised_transfer_learning/13-abajo/84.wav  \n",
      "  inflating: standarised_transfer_learning/13-abajo/85.wav  \n",
      "  inflating: standarised_transfer_learning/13-abajo/86.wav  \n",
      "  inflating: standarised_transfer_learning/13-abajo/87.wav  \n",
      "  inflating: standarised_transfer_learning/13-abajo/88.wav  \n",
      "  inflating: standarised_transfer_learning/13-abajo/89.wav  \n",
      "  inflating: standarised_transfer_learning/13-abajo/9.wav  \n",
      "  inflating: standarised_transfer_learning/13-abajo/90.wav  \n",
      "  inflating: standarised_transfer_learning/13-abajo/91.wav  \n",
      "  inflating: standarised_transfer_learning/13-abajo/92.wav  \n",
      "  inflating: standarised_transfer_learning/13-abajo/93.wav  \n",
      "  inflating: standarised_transfer_learning/13-abajo/94.wav  \n",
      "  inflating: standarised_transfer_learning/13-abajo/95.wav  \n",
      "  inflating: standarised_transfer_learning/13-abajo/96.wav  \n",
      "  inflating: standarised_transfer_learning/13-abajo/97.wav  \n",
      "  inflating: standarised_transfer_learning/13-abajo/98.wav  \n",
      "  inflating: standarised_transfer_learning/13-abajo/99.wav  \n",
      "   creating: standarised_transfer_learning/14-izquierda/\n",
      "  inflating: standarised_transfer_learning/14-izquierda/0.wav  \n",
      "  inflating: standarised_transfer_learning/14-izquierda/1.wav  \n",
      "  inflating: standarised_transfer_learning/14-izquierda/10.wav  \n",
      "  inflating: standarised_transfer_learning/14-izquierda/100.wav  \n",
      "  inflating: standarised_transfer_learning/14-izquierda/101.wav  \n",
      "  inflating: standarised_transfer_learning/14-izquierda/11.wav  \n",
      "  inflating: standarised_transfer_learning/14-izquierda/12.wav  \n",
      "  inflating: standarised_transfer_learning/14-izquierda/13.wav  \n",
      "  inflating: standarised_transfer_learning/14-izquierda/14.wav  \n",
      "  inflating: standarised_transfer_learning/14-izquierda/15.wav  \n",
      "  inflating: standarised_transfer_learning/14-izquierda/16.wav  \n",
      "  inflating: standarised_transfer_learning/14-izquierda/17.wav  \n",
      "  inflating: standarised_transfer_learning/14-izquierda/18.wav  \n",
      "  inflating: standarised_transfer_learning/14-izquierda/19.wav  \n",
      "  inflating: standarised_transfer_learning/14-izquierda/2.wav  \n",
      "  inflating: standarised_transfer_learning/14-izquierda/20.wav  \n",
      "  inflating: standarised_transfer_learning/14-izquierda/21.wav  \n",
      "  inflating: standarised_transfer_learning/14-izquierda/22.wav  \n",
      "  inflating: standarised_transfer_learning/14-izquierda/23.wav  \n",
      "  inflating: standarised_transfer_learning/14-izquierda/24.wav  \n",
      "  inflating: standarised_transfer_learning/14-izquierda/25.wav  \n",
      "  inflating: standarised_transfer_learning/14-izquierda/26.wav  \n",
      "  inflating: standarised_transfer_learning/14-izquierda/27.wav  \n",
      "  inflating: standarised_transfer_learning/14-izquierda/28.wav  \n",
      "  inflating: standarised_transfer_learning/14-izquierda/29.wav  \n",
      "  inflating: standarised_transfer_learning/14-izquierda/3.wav  \n",
      "  inflating: standarised_transfer_learning/14-izquierda/30.wav  \n",
      "  inflating: standarised_transfer_learning/14-izquierda/31.wav  \n",
      "  inflating: standarised_transfer_learning/14-izquierda/32.wav  \n",
      "  inflating: standarised_transfer_learning/14-izquierda/33.wav  \n",
      "  inflating: standarised_transfer_learning/14-izquierda/34.wav  \n",
      "  inflating: standarised_transfer_learning/14-izquierda/35.wav  \n",
      "  inflating: standarised_transfer_learning/14-izquierda/36.wav  \n",
      "  inflating: standarised_transfer_learning/14-izquierda/37.wav  \n",
      "  inflating: standarised_transfer_learning/14-izquierda/38.wav  \n",
      "  inflating: standarised_transfer_learning/14-izquierda/39.wav  \n",
      "  inflating: standarised_transfer_learning/14-izquierda/4.wav  \n",
      "  inflating: standarised_transfer_learning/14-izquierda/40.wav  \n",
      "  inflating: standarised_transfer_learning/14-izquierda/41.wav  \n",
      "  inflating: standarised_transfer_learning/14-izquierda/42.wav  \n",
      "  inflating: standarised_transfer_learning/14-izquierda/43.wav  \n",
      "  inflating: standarised_transfer_learning/14-izquierda/44.wav  \n",
      "  inflating: standarised_transfer_learning/14-izquierda/45.wav  \n",
      "  inflating: standarised_transfer_learning/14-izquierda/46.wav  \n",
      "  inflating: standarised_transfer_learning/14-izquierda/47.wav  \n",
      "  inflating: standarised_transfer_learning/14-izquierda/48.wav  \n",
      "  inflating: standarised_transfer_learning/14-izquierda/49.wav  \n",
      "  inflating: standarised_transfer_learning/14-izquierda/5.wav  \n",
      "  inflating: standarised_transfer_learning/14-izquierda/50.wav  \n",
      "  inflating: standarised_transfer_learning/14-izquierda/51.wav  \n",
      "  inflating: standarised_transfer_learning/14-izquierda/52.wav  \n",
      "  inflating: standarised_transfer_learning/14-izquierda/53.wav  \n",
      "  inflating: standarised_transfer_learning/14-izquierda/54.wav  \n",
      "  inflating: standarised_transfer_learning/14-izquierda/55.wav  \n",
      "  inflating: standarised_transfer_learning/14-izquierda/56.wav  \n",
      "  inflating: standarised_transfer_learning/14-izquierda/57.wav  \n",
      "  inflating: standarised_transfer_learning/14-izquierda/58.wav  \n",
      "  inflating: standarised_transfer_learning/14-izquierda/59.wav  \n",
      "  inflating: standarised_transfer_learning/14-izquierda/6.wav  \n",
      "  inflating: standarised_transfer_learning/14-izquierda/60.wav  \n",
      "  inflating: standarised_transfer_learning/14-izquierda/61.wav  \n",
      "  inflating: standarised_transfer_learning/14-izquierda/62.wav  \n",
      "  inflating: standarised_transfer_learning/14-izquierda/63.wav  \n",
      "  inflating: standarised_transfer_learning/14-izquierda/64.wav  \n",
      "  inflating: standarised_transfer_learning/14-izquierda/65.wav  \n",
      "  inflating: standarised_transfer_learning/14-izquierda/66.wav  \n",
      "  inflating: standarised_transfer_learning/14-izquierda/67.wav  \n",
      "  inflating: standarised_transfer_learning/14-izquierda/68.wav  \n",
      "  inflating: standarised_transfer_learning/14-izquierda/69.wav  \n",
      "  inflating: standarised_transfer_learning/14-izquierda/7.wav  \n",
      "  inflating: standarised_transfer_learning/14-izquierda/70.wav  \n",
      "  inflating: standarised_transfer_learning/14-izquierda/71.wav  \n",
      "  inflating: standarised_transfer_learning/14-izquierda/72.wav  \n",
      "  inflating: standarised_transfer_learning/14-izquierda/73.wav  \n",
      "  inflating: standarised_transfer_learning/14-izquierda/74.wav  \n",
      "  inflating: standarised_transfer_learning/14-izquierda/75.wav  \n",
      "  inflating: standarised_transfer_learning/14-izquierda/76.wav  \n",
      "  inflating: standarised_transfer_learning/14-izquierda/77.wav  \n",
      "  inflating: standarised_transfer_learning/14-izquierda/78.wav  \n",
      "  inflating: standarised_transfer_learning/14-izquierda/79.wav  \n",
      "  inflating: standarised_transfer_learning/14-izquierda/8.wav  \n",
      "  inflating: standarised_transfer_learning/14-izquierda/80.wav  \n",
      "  inflating: standarised_transfer_learning/14-izquierda/81.wav  \n",
      "  inflating: standarised_transfer_learning/14-izquierda/82.wav  \n",
      "  inflating: standarised_transfer_learning/14-izquierda/83.wav  \n",
      "  inflating: standarised_transfer_learning/14-izquierda/84.wav  \n",
      "  inflating: standarised_transfer_learning/14-izquierda/85.wav  \n",
      "  inflating: standarised_transfer_learning/14-izquierda/86.wav  \n",
      "  inflating: standarised_transfer_learning/14-izquierda/87.wav  \n",
      "  inflating: standarised_transfer_learning/14-izquierda/88.wav  \n",
      "  inflating: standarised_transfer_learning/14-izquierda/89.wav  \n",
      "  inflating: standarised_transfer_learning/14-izquierda/9.wav  \n",
      "  inflating: standarised_transfer_learning/14-izquierda/90.wav  \n",
      "  inflating: standarised_transfer_learning/14-izquierda/91.wav  \n",
      "  inflating: standarised_transfer_learning/14-izquierda/92.wav  \n",
      "  inflating: standarised_transfer_learning/14-izquierda/93.wav  \n",
      "  inflating: standarised_transfer_learning/14-izquierda/94.wav  \n",
      "  inflating: standarised_transfer_learning/14-izquierda/95.wav  \n",
      "  inflating: standarised_transfer_learning/14-izquierda/96.wav  \n",
      "  inflating: standarised_transfer_learning/14-izquierda/97.wav  \n",
      "  inflating: standarised_transfer_learning/14-izquierda/98.wav  \n",
      "  inflating: standarised_transfer_learning/14-izquierda/99.wav  \n",
      "   creating: standarised_transfer_learning/15-derecha/\n",
      "  inflating: standarised_transfer_learning/15-derecha/0.wav  \n",
      "  inflating: standarised_transfer_learning/15-derecha/1.wav  \n",
      "  inflating: standarised_transfer_learning/15-derecha/10.wav  \n",
      "  inflating: standarised_transfer_learning/15-derecha/100.wav  \n",
      "  inflating: standarised_transfer_learning/15-derecha/101.wav  \n",
      "  inflating: standarised_transfer_learning/15-derecha/11.wav  \n",
      "  inflating: standarised_transfer_learning/15-derecha/12.wav  \n",
      "  inflating: standarised_transfer_learning/15-derecha/13.wav  \n",
      "  inflating: standarised_transfer_learning/15-derecha/14.wav  \n",
      "  inflating: standarised_transfer_learning/15-derecha/15.wav  \n",
      "  inflating: standarised_transfer_learning/15-derecha/16.wav  \n",
      "  inflating: standarised_transfer_learning/15-derecha/17.wav  \n",
      "  inflating: standarised_transfer_learning/15-derecha/18.wav  \n",
      "  inflating: standarised_transfer_learning/15-derecha/19.wav  \n",
      "  inflating: standarised_transfer_learning/15-derecha/2.wav  \n",
      "  inflating: standarised_transfer_learning/15-derecha/20.wav  \n",
      "  inflating: standarised_transfer_learning/15-derecha/21.wav  \n",
      "  inflating: standarised_transfer_learning/15-derecha/22.wav  \n",
      "  inflating: standarised_transfer_learning/15-derecha/23.wav  \n",
      "  inflating: standarised_transfer_learning/15-derecha/24.wav  \n",
      "  inflating: standarised_transfer_learning/15-derecha/25.wav  \n",
      "  inflating: standarised_transfer_learning/15-derecha/26.wav  \n",
      "  inflating: standarised_transfer_learning/15-derecha/27.wav  \n",
      "  inflating: standarised_transfer_learning/15-derecha/28.wav  \n",
      "  inflating: standarised_transfer_learning/15-derecha/29.wav  \n",
      "  inflating: standarised_transfer_learning/15-derecha/3.wav  \n",
      "  inflating: standarised_transfer_learning/15-derecha/30.wav  \n",
      "  inflating: standarised_transfer_learning/15-derecha/31.wav  \n",
      "  inflating: standarised_transfer_learning/15-derecha/32.wav  \n",
      "  inflating: standarised_transfer_learning/15-derecha/33.wav  \n",
      "  inflating: standarised_transfer_learning/15-derecha/34.wav  \n",
      "  inflating: standarised_transfer_learning/15-derecha/35.wav  \n",
      "  inflating: standarised_transfer_learning/15-derecha/36.wav  \n",
      "  inflating: standarised_transfer_learning/15-derecha/37.wav  \n",
      "  inflating: standarised_transfer_learning/15-derecha/38.wav  \n",
      "  inflating: standarised_transfer_learning/15-derecha/39.wav  \n",
      "  inflating: standarised_transfer_learning/15-derecha/4.wav  \n",
      "  inflating: standarised_transfer_learning/15-derecha/40.wav  \n",
      "  inflating: standarised_transfer_learning/15-derecha/41.wav  \n",
      "  inflating: standarised_transfer_learning/15-derecha/42.wav  \n",
      "  inflating: standarised_transfer_learning/15-derecha/43.wav  \n",
      "  inflating: standarised_transfer_learning/15-derecha/44.wav  \n",
      "  inflating: standarised_transfer_learning/15-derecha/45.wav  \n",
      "  inflating: standarised_transfer_learning/15-derecha/46.wav  \n",
      "  inflating: standarised_transfer_learning/15-derecha/47.wav  \n",
      "  inflating: standarised_transfer_learning/15-derecha/48.wav  \n",
      "  inflating: standarised_transfer_learning/15-derecha/49.wav  \n",
      "  inflating: standarised_transfer_learning/15-derecha/5.wav  \n",
      "  inflating: standarised_transfer_learning/15-derecha/50.wav  \n",
      "  inflating: standarised_transfer_learning/15-derecha/51.wav  \n",
      "  inflating: standarised_transfer_learning/15-derecha/52.wav  \n",
      "  inflating: standarised_transfer_learning/15-derecha/53.wav  \n",
      "  inflating: standarised_transfer_learning/15-derecha/54.wav  \n",
      "  inflating: standarised_transfer_learning/15-derecha/55.wav  \n",
      "  inflating: standarised_transfer_learning/15-derecha/56.wav  \n",
      "  inflating: standarised_transfer_learning/15-derecha/57.wav  \n",
      "  inflating: standarised_transfer_learning/15-derecha/58.wav  \n",
      "  inflating: standarised_transfer_learning/15-derecha/59.wav  \n",
      "  inflating: standarised_transfer_learning/15-derecha/6.wav  \n",
      "  inflating: standarised_transfer_learning/15-derecha/60.wav  \n",
      "  inflating: standarised_transfer_learning/15-derecha/61.wav  \n",
      "  inflating: standarised_transfer_learning/15-derecha/62.wav  \n",
      "  inflating: standarised_transfer_learning/15-derecha/63.wav  \n",
      "  inflating: standarised_transfer_learning/15-derecha/64.wav  \n",
      "  inflating: standarised_transfer_learning/15-derecha/65.wav  \n",
      "  inflating: standarised_transfer_learning/15-derecha/66.wav  \n",
      "  inflating: standarised_transfer_learning/15-derecha/67.wav  \n",
      "  inflating: standarised_transfer_learning/15-derecha/68.wav  \n",
      "  inflating: standarised_transfer_learning/15-derecha/69.wav  \n",
      "  inflating: standarised_transfer_learning/15-derecha/7.wav  \n",
      "  inflating: standarised_transfer_learning/15-derecha/70.wav  \n",
      "  inflating: standarised_transfer_learning/15-derecha/71.wav  \n",
      "  inflating: standarised_transfer_learning/15-derecha/72.wav  \n",
      "  inflating: standarised_transfer_learning/15-derecha/73.wav  \n",
      "  inflating: standarised_transfer_learning/15-derecha/74.wav  \n",
      "  inflating: standarised_transfer_learning/15-derecha/75.wav  \n",
      "  inflating: standarised_transfer_learning/15-derecha/76.wav  \n",
      "  inflating: standarised_transfer_learning/15-derecha/77.wav  \n",
      "  inflating: standarised_transfer_learning/15-derecha/78.wav  \n",
      "  inflating: standarised_transfer_learning/15-derecha/79.wav  \n",
      "  inflating: standarised_transfer_learning/15-derecha/8.wav  \n",
      "  inflating: standarised_transfer_learning/15-derecha/80.wav  \n",
      "  inflating: standarised_transfer_learning/15-derecha/81.wav  \n",
      "  inflating: standarised_transfer_learning/15-derecha/82.wav  \n",
      "  inflating: standarised_transfer_learning/15-derecha/83.wav  \n",
      "  inflating: standarised_transfer_learning/15-derecha/84.wav  \n",
      "  inflating: standarised_transfer_learning/15-derecha/85.wav  \n",
      "  inflating: standarised_transfer_learning/15-derecha/86.wav  \n",
      "  inflating: standarised_transfer_learning/15-derecha/87.wav  \n",
      "  inflating: standarised_transfer_learning/15-derecha/88.wav  \n",
      "  inflating: standarised_transfer_learning/15-derecha/89.wav  \n",
      "  inflating: standarised_transfer_learning/15-derecha/9.wav  \n",
      "  inflating: standarised_transfer_learning/15-derecha/90.wav  \n",
      "  inflating: standarised_transfer_learning/15-derecha/91.wav  \n",
      "  inflating: standarised_transfer_learning/15-derecha/92.wav  \n",
      "  inflating: standarised_transfer_learning/15-derecha/93.wav  \n",
      "  inflating: standarised_transfer_learning/15-derecha/94.wav  \n",
      "  inflating: standarised_transfer_learning/15-derecha/95.wav  \n",
      "  inflating: standarised_transfer_learning/15-derecha/96.wav  \n",
      "  inflating: standarised_transfer_learning/15-derecha/97.wav  \n",
      "  inflating: standarised_transfer_learning/15-derecha/98.wav  \n",
      "  inflating: standarised_transfer_learning/15-derecha/99.wav  \n",
      "   creating: standarised_transfer_learning/16-si/\n",
      "  inflating: standarised_transfer_learning/16-si/0.wav  \n",
      "  inflating: standarised_transfer_learning/16-si/1.wav  \n",
      "  inflating: standarised_transfer_learning/16-si/10.wav  \n",
      "  inflating: standarised_transfer_learning/16-si/100.wav  \n",
      "  inflating: standarised_transfer_learning/16-si/101.wav  \n",
      "  inflating: standarised_transfer_learning/16-si/11.wav  \n",
      "  inflating: standarised_transfer_learning/16-si/12.wav  \n",
      "  inflating: standarised_transfer_learning/16-si/13.wav  \n",
      "  inflating: standarised_transfer_learning/16-si/14.wav  \n",
      "  inflating: standarised_transfer_learning/16-si/15.wav  \n",
      "  inflating: standarised_transfer_learning/16-si/16.wav  \n",
      "  inflating: standarised_transfer_learning/16-si/17.wav  \n",
      "  inflating: standarised_transfer_learning/16-si/18.wav  \n",
      "  inflating: standarised_transfer_learning/16-si/19.wav  \n",
      "  inflating: standarised_transfer_learning/16-si/2.wav  \n",
      "  inflating: standarised_transfer_learning/16-si/20.wav  \n",
      "  inflating: standarised_transfer_learning/16-si/21.wav  \n",
      "  inflating: standarised_transfer_learning/16-si/22.wav  \n",
      "  inflating: standarised_transfer_learning/16-si/23.wav  \n",
      "  inflating: standarised_transfer_learning/16-si/24.wav  \n",
      "  inflating: standarised_transfer_learning/16-si/25.wav  \n",
      "  inflating: standarised_transfer_learning/16-si/26.wav  \n",
      "  inflating: standarised_transfer_learning/16-si/27.wav  \n",
      "  inflating: standarised_transfer_learning/16-si/28.wav  \n",
      "  inflating: standarised_transfer_learning/16-si/29.wav  \n",
      "  inflating: standarised_transfer_learning/16-si/3.wav  \n",
      "  inflating: standarised_transfer_learning/16-si/30.wav  \n",
      "  inflating: standarised_transfer_learning/16-si/31.wav  \n",
      "  inflating: standarised_transfer_learning/16-si/32.wav  \n",
      "  inflating: standarised_transfer_learning/16-si/33.wav  \n",
      "  inflating: standarised_transfer_learning/16-si/34.wav  \n",
      "  inflating: standarised_transfer_learning/16-si/35.wav  \n",
      "  inflating: standarised_transfer_learning/16-si/36.wav  \n",
      "  inflating: standarised_transfer_learning/16-si/37.wav  \n",
      "  inflating: standarised_transfer_learning/16-si/38.wav  \n",
      "  inflating: standarised_transfer_learning/16-si/39.wav  \n",
      "  inflating: standarised_transfer_learning/16-si/4.wav  \n",
      "  inflating: standarised_transfer_learning/16-si/40.wav  \n",
      "  inflating: standarised_transfer_learning/16-si/41.wav  \n",
      "  inflating: standarised_transfer_learning/16-si/42.wav  \n",
      "  inflating: standarised_transfer_learning/16-si/43.wav  \n",
      "  inflating: standarised_transfer_learning/16-si/44.wav  \n",
      "  inflating: standarised_transfer_learning/16-si/45.wav  \n",
      "  inflating: standarised_transfer_learning/16-si/46.wav  \n",
      "  inflating: standarised_transfer_learning/16-si/47.wav  \n",
      "  inflating: standarised_transfer_learning/16-si/48.wav  \n",
      "  inflating: standarised_transfer_learning/16-si/49.wav  \n",
      "  inflating: standarised_transfer_learning/16-si/5.wav  \n",
      "  inflating: standarised_transfer_learning/16-si/50.wav  \n",
      "  inflating: standarised_transfer_learning/16-si/51.wav  \n",
      "  inflating: standarised_transfer_learning/16-si/52.wav  \n",
      "  inflating: standarised_transfer_learning/16-si/53.wav  \n",
      "  inflating: standarised_transfer_learning/16-si/54.wav  \n",
      "  inflating: standarised_transfer_learning/16-si/55.wav  \n",
      "  inflating: standarised_transfer_learning/16-si/56.wav  \n",
      "  inflating: standarised_transfer_learning/16-si/57.wav  \n",
      "  inflating: standarised_transfer_learning/16-si/58.wav  \n",
      "  inflating: standarised_transfer_learning/16-si/59.wav  \n",
      "  inflating: standarised_transfer_learning/16-si/6.wav  \n",
      "  inflating: standarised_transfer_learning/16-si/60.wav  \n",
      "  inflating: standarised_transfer_learning/16-si/61.wav  \n",
      "  inflating: standarised_transfer_learning/16-si/62.wav  \n",
      "  inflating: standarised_transfer_learning/16-si/63.wav  \n",
      "  inflating: standarised_transfer_learning/16-si/64.wav  \n",
      "  inflating: standarised_transfer_learning/16-si/65.wav  \n",
      "  inflating: standarised_transfer_learning/16-si/66.wav  \n",
      "  inflating: standarised_transfer_learning/16-si/67.wav  \n",
      "  inflating: standarised_transfer_learning/16-si/68.wav  \n",
      "  inflating: standarised_transfer_learning/16-si/69.wav  \n",
      "  inflating: standarised_transfer_learning/16-si/7.wav  \n",
      "  inflating: standarised_transfer_learning/16-si/70.wav  \n",
      "  inflating: standarised_transfer_learning/16-si/71.wav  \n",
      "  inflating: standarised_transfer_learning/16-si/72.wav  \n",
      "  inflating: standarised_transfer_learning/16-si/73.wav  \n",
      "  inflating: standarised_transfer_learning/16-si/74.wav  \n",
      "  inflating: standarised_transfer_learning/16-si/75.wav  \n",
      "  inflating: standarised_transfer_learning/16-si/76.wav  \n",
      "  inflating: standarised_transfer_learning/16-si/77.wav  \n",
      "  inflating: standarised_transfer_learning/16-si/78.wav  \n",
      "  inflating: standarised_transfer_learning/16-si/79.wav  \n",
      "  inflating: standarised_transfer_learning/16-si/8.wav  \n",
      "  inflating: standarised_transfer_learning/16-si/80.wav  \n",
      "  inflating: standarised_transfer_learning/16-si/81.wav  \n",
      "  inflating: standarised_transfer_learning/16-si/82.wav  \n",
      "  inflating: standarised_transfer_learning/16-si/83.wav  \n",
      "  inflating: standarised_transfer_learning/16-si/84.wav  \n",
      "  inflating: standarised_transfer_learning/16-si/85.wav  \n",
      "  inflating: standarised_transfer_learning/16-si/86.wav  \n",
      "  inflating: standarised_transfer_learning/16-si/87.wav  \n",
      "  inflating: standarised_transfer_learning/16-si/88.wav  \n",
      "  inflating: standarised_transfer_learning/16-si/89.wav  \n",
      "  inflating: standarised_transfer_learning/16-si/9.wav  \n",
      "  inflating: standarised_transfer_learning/16-si/90.wav  \n",
      "  inflating: standarised_transfer_learning/16-si/91.wav  \n",
      "  inflating: standarised_transfer_learning/16-si/92.wav  \n",
      "  inflating: standarised_transfer_learning/16-si/93.wav  \n",
      "  inflating: standarised_transfer_learning/16-si/94.wav  \n",
      "  inflating: standarised_transfer_learning/16-si/95.wav  \n",
      "  inflating: standarised_transfer_learning/16-si/96.wav  \n",
      "  inflating: standarised_transfer_learning/16-si/97.wav  \n",
      "  inflating: standarised_transfer_learning/16-si/98.wav  \n",
      "  inflating: standarised_transfer_learning/16-si/99.wav  \n",
      "   creating: standarised_transfer_learning/17-no/\n",
      "  inflating: standarised_transfer_learning/17-no/0.wav  \n",
      "  inflating: standarised_transfer_learning/17-no/1.wav  \n",
      "  inflating: standarised_transfer_learning/17-no/10.wav  \n",
      "  inflating: standarised_transfer_learning/17-no/100.wav  \n",
      "  inflating: standarised_transfer_learning/17-no/101.wav  \n",
      "  inflating: standarised_transfer_learning/17-no/11.wav  \n",
      "  inflating: standarised_transfer_learning/17-no/12.wav  \n",
      "  inflating: standarised_transfer_learning/17-no/13.wav  \n",
      "  inflating: standarised_transfer_learning/17-no/14.wav  \n",
      "  inflating: standarised_transfer_learning/17-no/15.wav  \n",
      "  inflating: standarised_transfer_learning/17-no/16.wav  \n",
      "  inflating: standarised_transfer_learning/17-no/17.wav  \n",
      "  inflating: standarised_transfer_learning/17-no/18.wav  \n",
      "  inflating: standarised_transfer_learning/17-no/19.wav  \n",
      "  inflating: standarised_transfer_learning/17-no/2.wav  \n",
      "  inflating: standarised_transfer_learning/17-no/20.wav  \n",
      "  inflating: standarised_transfer_learning/17-no/21.wav  \n",
      "  inflating: standarised_transfer_learning/17-no/22.wav  \n",
      "  inflating: standarised_transfer_learning/17-no/23.wav  \n",
      "  inflating: standarised_transfer_learning/17-no/24.wav  \n",
      "  inflating: standarised_transfer_learning/17-no/25.wav  \n",
      "  inflating: standarised_transfer_learning/17-no/26.wav  \n",
      "  inflating: standarised_transfer_learning/17-no/27.wav  \n",
      "  inflating: standarised_transfer_learning/17-no/28.wav  \n",
      "  inflating: standarised_transfer_learning/17-no/29.wav  \n",
      "  inflating: standarised_transfer_learning/17-no/3.wav  \n",
      "  inflating: standarised_transfer_learning/17-no/30.wav  \n",
      "  inflating: standarised_transfer_learning/17-no/31.wav  \n",
      "  inflating: standarised_transfer_learning/17-no/32.wav  \n",
      "  inflating: standarised_transfer_learning/17-no/33.wav  \n",
      "  inflating: standarised_transfer_learning/17-no/34.wav  \n",
      "  inflating: standarised_transfer_learning/17-no/35.wav  \n",
      "  inflating: standarised_transfer_learning/17-no/36.wav  \n",
      "  inflating: standarised_transfer_learning/17-no/37.wav  \n",
      "  inflating: standarised_transfer_learning/17-no/38.wav  \n",
      "  inflating: standarised_transfer_learning/17-no/39.wav  \n",
      "  inflating: standarised_transfer_learning/17-no/4.wav  \n",
      "  inflating: standarised_transfer_learning/17-no/40.wav  \n",
      "  inflating: standarised_transfer_learning/17-no/41.wav  \n",
      "  inflating: standarised_transfer_learning/17-no/42.wav  \n",
      "  inflating: standarised_transfer_learning/17-no/43.wav  \n",
      "  inflating: standarised_transfer_learning/17-no/44.wav  \n",
      "  inflating: standarised_transfer_learning/17-no/45.wav  \n",
      "  inflating: standarised_transfer_learning/17-no/46.wav  \n",
      "  inflating: standarised_transfer_learning/17-no/47.wav  \n",
      "  inflating: standarised_transfer_learning/17-no/48.wav  \n",
      "  inflating: standarised_transfer_learning/17-no/49.wav  \n",
      "  inflating: standarised_transfer_learning/17-no/5.wav  \n",
      "  inflating: standarised_transfer_learning/17-no/50.wav  \n",
      "  inflating: standarised_transfer_learning/17-no/51.wav  \n",
      "  inflating: standarised_transfer_learning/17-no/52.wav  \n",
      "  inflating: standarised_transfer_learning/17-no/53.wav  \n",
      "  inflating: standarised_transfer_learning/17-no/54.wav  \n",
      "  inflating: standarised_transfer_learning/17-no/55.wav  \n",
      "  inflating: standarised_transfer_learning/17-no/56.wav  \n",
      "  inflating: standarised_transfer_learning/17-no/57.wav  \n",
      "  inflating: standarised_transfer_learning/17-no/58.wav  \n",
      "  inflating: standarised_transfer_learning/17-no/59.wav  \n",
      "  inflating: standarised_transfer_learning/17-no/6.wav  \n",
      "  inflating: standarised_transfer_learning/17-no/60.wav  \n",
      "  inflating: standarised_transfer_learning/17-no/61.wav  \n",
      "  inflating: standarised_transfer_learning/17-no/62.wav  \n",
      "  inflating: standarised_transfer_learning/17-no/63.wav  \n",
      "  inflating: standarised_transfer_learning/17-no/64.wav  \n",
      "  inflating: standarised_transfer_learning/17-no/65.wav  \n",
      "  inflating: standarised_transfer_learning/17-no/66.wav  \n",
      "  inflating: standarised_transfer_learning/17-no/67.wav  \n",
      "  inflating: standarised_transfer_learning/17-no/68.wav  \n",
      "  inflating: standarised_transfer_learning/17-no/69.wav  \n",
      "  inflating: standarised_transfer_learning/17-no/7.wav  \n",
      "  inflating: standarised_transfer_learning/17-no/70.wav  \n",
      "  inflating: standarised_transfer_learning/17-no/71.wav  \n",
      "  inflating: standarised_transfer_learning/17-no/72.wav  \n",
      "  inflating: standarised_transfer_learning/17-no/73.wav  \n",
      "  inflating: standarised_transfer_learning/17-no/74.wav  \n",
      "  inflating: standarised_transfer_learning/17-no/75.wav  \n",
      "  inflating: standarised_transfer_learning/17-no/76.wav  \n",
      "  inflating: standarised_transfer_learning/17-no/77.wav  \n",
      "  inflating: standarised_transfer_learning/17-no/78.wav  \n",
      "  inflating: standarised_transfer_learning/17-no/79.wav  \n",
      "  inflating: standarised_transfer_learning/17-no/8.wav  \n",
      "  inflating: standarised_transfer_learning/17-no/80.wav  \n",
      "  inflating: standarised_transfer_learning/17-no/81.wav  \n",
      "  inflating: standarised_transfer_learning/17-no/82.wav  \n",
      "  inflating: standarised_transfer_learning/17-no/83.wav  \n",
      "  inflating: standarised_transfer_learning/17-no/84.wav  \n",
      "  inflating: standarised_transfer_learning/17-no/85.wav  \n",
      "  inflating: standarised_transfer_learning/17-no/86.wav  \n",
      "  inflating: standarised_transfer_learning/17-no/87.wav  \n",
      "  inflating: standarised_transfer_learning/17-no/88.wav  \n",
      "  inflating: standarised_transfer_learning/17-no/89.wav  \n",
      "  inflating: standarised_transfer_learning/17-no/9.wav  \n",
      "  inflating: standarised_transfer_learning/17-no/90.wav  \n",
      "  inflating: standarised_transfer_learning/17-no/91.wav  \n",
      "  inflating: standarised_transfer_learning/17-no/92.wav  \n",
      "  inflating: standarised_transfer_learning/17-no/93.wav  \n",
      "  inflating: standarised_transfer_learning/17-no/94.wav  \n",
      "  inflating: standarised_transfer_learning/17-no/95.wav  \n",
      "  inflating: standarised_transfer_learning/17-no/96.wav  \n",
      "  inflating: standarised_transfer_learning/17-no/97.wav  \n",
      "  inflating: standarised_transfer_learning/17-no/98.wav  \n",
      "  inflating: standarised_transfer_learning/17-no/99.wav  \n"
     ]
    }
   ],
   "source": [
    "if use_custom_dataset:\n",
    "  # Specify the ZIP file you uploaded:\n",
    "  !unzip TL_standarised_spanish_commands.zip\n",
    "  # Specify the unzipped path to your custom dataset\n",
    "  # (this path contains all the subfolders with classification names):\n",
    "  dataset_dir = \"./standarised_transfer_learning\""
   ]
  },
  {
   "cell_type": "markdown",
   "metadata": {
    "id": "hwp6EQqvttgf"
   },
   "source": [
    "After changing the filename and path name above, you're ready to train the model with your custom dataset. In the Colab toolbar, select **Runtime > Run all** to run the whole notebook.\n",
    "\n",
    "The following code integrates our new background noise samples into your dataset and then separates a portion of all samples to create a test set."
   ]
  },
  {
   "cell_type": "code",
   "execution_count": 11,
   "metadata": {
    "id": "tMQ6cpw_B9e_"
   },
   "outputs": [],
   "source": [
    "def move_background_dataset(dataset_dir):\n",
    "  dest_dir = os.path.join(dataset_dir, \"background\").replace(\"\\\\\", \"/\")\n",
    "  if os.path.exists(dest_dir):\n",
    "    files = glob.glob(os.path.join(background_dir, \"*.wav\").replace(\"\\\\\", \"/\"))\n",
    "    for file in files:\n",
    "      shutil.move(file, dest_dir)\n",
    "  else:\n",
    "    shutil.move(background_dir, dest_dir)"
   ]
  },
  {
   "cell_type": "code",
   "execution_count": 12,
   "metadata": {
    "colab": {
     "base_uri": "https://localhost:8080/"
    },
    "id": "45iru8OdliG3",
    "outputId": "c950e745-0984-48cf-8579-9d4ef36be5c8"
   },
   "outputs": [
    {
     "name": "stdout",
     "output_type": "stream",
     "text": [
      "Moved 26 files from 16-si\n",
      "Moved 26 files from 11-rechazar\n",
      "Moved 26 files from 17-no\n",
      "Moved 26 files from 04-cuatro\n",
      "Moved 26 files from 01-uno\n",
      "Moved 26 files from 06-seis\n",
      "Moved 8 files from background\n",
      "Moved 26 files from 12-arriba\n",
      "Moved 26 files from 09-nueve\n",
      "Moved 26 files from 13-abajo\n",
      "Moved 26 files from 02-dos\n",
      "Moved 26 files from 15-derecha\n",
      "Moved 26 files from 07-siete\n",
      "Moved 26 files from 00-cero\n",
      "Moved 26 files from 10-aceptar\n",
      "Moved 26 files from 14-izquierda\n",
      "Moved 26 files from 05-cinco\n",
      "Moved 26 files from 03-tres\n",
      "Moved 26 files from 08-ocho\n"
     ]
    }
   ],
   "source": [
    "if use_custom_dataset:\n",
    "  # Move background samples into custom dataset\n",
    "  move_background_dataset(dataset_dir)\n",
    "\n",
    "  # Now we separate some of the files that we'll use for testing:\n",
    "  test_dir = \"./dataset-test\"\n",
    "  test_data_ratio = 0.25\n",
    "  dirs = glob.glob(os.path.join(dataset_dir, \"*/\").replace(\"\\\\\", \"/\"))\n",
    "  for dir in dirs:\n",
    "    files = glob.glob(os.path.join(dir, \"*.wav\").replace(\"\\\\\", \"/\"))\n",
    "    test_count = round(len(files) * test_data_ratio)\n",
    "    random.seed(2022)\n",
    "    random.shuffle(files)\n",
    "    # Move test samples:\n",
    "    for file in files[:test_count]:\n",
    "      class_dir = os.path.basename(os.path.normpath(dir))\n",
    "      os.makedirs(os.path.join(test_dir, class_dir), exist_ok=True)\n",
    "      os.rename(file, os.path.join(test_dir, class_dir, os.path.basename(file)))\n",
    "    print(\"Moved\", test_count, \"files from\", class_dir)"
   ]
  },
  {
   "cell_type": "markdown",
   "metadata": {
    "id": "myPa1dfEoagz"
   },
   "source": [
    "### Play a sample"
   ]
  },
  {
   "cell_type": "markdown",
   "metadata": {
    "id": "1jecBYREgMk6"
   },
   "source": [
    "To be sure the dataset looks correct, let's play at a random sample from the test set:"
   ]
  },
  {
   "cell_type": "code",
   "execution_count": 13,
   "metadata": {
    "id": "gLC3ayJsoeNw"
   },
   "outputs": [],
   "source": [
    "def get_random_audio_file(samples_dir):\n",
    "  files = os.path.abspath(os.path.join(samples_dir, \"*/*.wav\").replace(\"\\\\\", \"/\"))\n",
    "  files_list = glob.glob(files)\n",
    "  random_audio_path = random.choice(files_list)\n",
    "  return random_audio_path\n",
    "\n",
    "def show_sample(audio_path):\n",
    "  audio_data, sample_rate = sf.read(audio_path)\n",
    "  class_name = os.path.basename(os.path.dirname(audio_path))\n",
    "  print(f\"Class: {class_name}\")\n",
    "  print(f\"File: {audio_path}\")\n",
    "  print(f\"Sample rate: {sample_rate}\")\n",
    "  print(f\"Sample length: {len(audio_data)}\")\n",
    "\n",
    "  plt.title(class_name)\n",
    "  plt.plot(audio_data)\n",
    "  display(Audio(audio_data, rate=sample_rate))"
   ]
  },
  {
   "cell_type": "code",
   "execution_count": 14,
   "metadata": {
    "colab": {
     "base_uri": "https://localhost:8080/",
     "height": 409
    },
    "id": "todbtEWFy0mj",
    "outputId": "19e4ec59-ab8b-4bbf-94d3-0f56c5db411f"
   },
   "outputs": [
    {
     "name": "stdout",
     "output_type": "stream",
     "text": [
      "Class: 06-seis\n",
      "File: /content/dataset-test/06-seis/65.wav\n",
      "Sample rate: 16000\n",
      "Sample length: 16000\n"
     ]
    },
    {
     "data": {
      "text/html": [
       "\n",
       "                <audio  controls=\"controls\" >\n",
       "                    <source src=\"data:audio/wav;base64,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\" type=\"audio/wav\" />\n",
       "                    Your browser does not support the audio element.\n",
       "                </audio>\n",
       "              "
      ],
      "text/plain": [
       "<IPython.lib.display.Audio object>"
      ]
     },
     "metadata": {},
     "output_type": "display_data"
    },
    {
     "data": {
      "image/png": "[encoded data removed]",
      "text/plain": [
       "<Figure size 432x288 with 1 Axes>"
      ]
     },
     "metadata": {
      "needs_background": "light"
     },
     "output_type": "display_data"
    }
   ],
   "source": [
    "random_audio = get_random_audio_file(test_dir)\n",
    "show_sample(random_audio)"
   ]
  },
  {
   "cell_type": "markdown",
   "metadata": {
    "id": "f-jRIWcQv7xt"
   },
   "source": [
    "## Define the model"
   ]
  },
  {
   "cell_type": "markdown",
   "metadata": {
    "id": "pQj1Mf7YZELS"
   },
   "source": [
    "\n",
    "When using Model Maker to retrain any model, you have to start by defining a model spec. The spec defines the base model from which your new model will extract feature embeddings to begin learning new classes. The spec for this speech recognizer is based on the pre-trained [BrowserFft model from TFJS](https://github.com/tensorflow/tfjs-models/tree/master/speech-commands#speech-command-recognizer).\n",
    "\n",
    "**The model expects input as an audio sample that's 44.1 kHz, and just under a second long: the exact sample length must be 44034 frames.**\n",
    "\n",
    "You don't need to do any resampling with your training dataset. Model Maker takes care of that for you. **But when you later run inference, you must be sure that your input matches that expected format.**\n",
    "\n",
    "All you need to do here is instantiate the [`BrowserFftSpec`](https://www.tensorflow.org/lite/api_docs/python/tflite_model_maker/audio_classifier/BrowserFftSpec):\n"
   ]
  },
  {
   "cell_type": "code",
   "execution_count": 15,
   "metadata": {
    "colab": {
     "base_uri": "https://localhost:8080/"
    },
    "id": "tUcxtfHXY7XS",
    "outputId": "6a5f3b6d-9a55-4d6f-a06e-1c32cfd8a8e9"
   },
   "outputs": [
    {
     "name": "stderr",
     "output_type": "stream",
     "text": [
      "WARNING:tensorflow:SavedModel saved prior to TF 2.5 detected when loading Keras model. Please ensure that you are saving the model with model.save() or tf.keras.models.save_model(), *NOT* tf.saved_model.save(). To confirm, there should be a file named \"keras_metadata.pb\" in the SavedModel directory.\n",
      "WARNING:tensorflow:No training configuration found in save file, so the model was *not* compiled. Compile it manually.\n"
     ]
    }
   ],
   "source": [
    "spec = audio_classifier.BrowserFftSpec()"
   ]
  },
  {
   "cell_type": "markdown",
   "metadata": {
    "id": "maTOoRvAwI9l"
   },
   "source": [
    "## Load your dataset "
   ]
  },
  {
   "cell_type": "markdown",
   "metadata": {
    "id": "UASCEHoVwQ1q"
   },
   "source": [
    "Now you need to load your dataset according to the model specifications. Model Maker includes the [`DataLoader`](https://www.tensorflow.org/lite/api_docs/python/tflite_model_maker/audio_classifier/DataLoader) API, which will load your dataset from a folder and ensure it's in the expected format for the model spec.\n",
    "\n",
    "We already reserved some test files by moving them to a separate directory, which makes it easier to run inference with them later. Now we'll create a `DataLoader` for each split: the training set, the validation set, and the test set."
   ]
  },
  {
   "cell_type": "markdown",
   "metadata": {
    "id": "bAhAfHwiw2_F"
   },
   "source": [
    "#### Load the speech commands dataset (NOT NEEDED)\n"
   ]
  },
  {
   "cell_type": "code",
   "execution_count": 16,
   "metadata": {
    "colab": {
     "base_uri": "https://localhost:8080/",
     "height": 0
    },
    "id": "cX0RqETqZgzo",
    "outputId": "a24dc7e8-58fd-4de8-fdad-30dd61baeba1"
   },
   "outputs": [
    {
     "data": {
      "application/vnd.google.colaboratory.intrinsic+json": {
       "type": "string"
      },
      "text/plain": [
       "'\\nif not use_custom_dataset:\\n  train_data_ratio = 0.8\\n  train_data = audio_classifier.DataLoader.from_folder(\\n      spec, dataset_dir, cache=True)\\n  train_data, validation_data = train_data.split(train_data_ratio)\\n  test_data = audio_classifier.DataLoader.from_folder(\\n      spec, test_dir, cache=True)\\n'"
      ]
     },
     "execution_count": 16,
     "metadata": {},
     "output_type": "execute_result"
    }
   ],
   "source": [
    "\"\"\"\n",
    "if not use_custom_dataset:\n",
    "  train_data_ratio = 0.8\n",
    "  train_data = audio_classifier.DataLoader.from_folder(\n",
    "      spec, dataset_dir, cache=True)\n",
    "  train_data, validation_data = train_data.split(train_data_ratio)\n",
    "  test_data = audio_classifier.DataLoader.from_folder(\n",
    "      spec, test_dir, cache=True)\n",
    "\"\"\""
   ]
  },
  {
   "cell_type": "markdown",
   "metadata": {
    "id": "2OWQ_O9_t-C-"
   },
   "source": [
    "#### Load a custom dataset"
   ]
  },
  {
   "cell_type": "markdown",
   "metadata": {
    "id": "IPiwaJwMt7yo"
   },
   "source": [
    "**Note:** Setting `cache=True` is important to make training faster (especially when the dataset must be re-sampled) but it will also require more RAM to hold the data. If you use a very large custom dataset, caching might exceed your RAM capacity."
   ]
  },
  {
   "cell_type": "code",
   "execution_count": 17,
   "metadata": {
    "cellView": "code",
    "id": "e86Ej-ZmuCzy"
   },
   "outputs": [],
   "source": [
    "if use_custom_dataset:\n",
    "  train_data_ratio = 0.9\n",
    "  train_data = audio_classifier.DataLoader.from_folder(spec, dataset_dir, cache=True)\n",
    "  train_data, validation_data = train_data.split(train_data_ratio)\n",
    "  test_data = audio_classifier.DataLoader.from_folder(spec, test_dir, cache=True)\n"
   ]
  },
  {
   "cell_type": "markdown",
   "metadata": {
    "id": "hh1P_zfzwbfE"
   },
   "source": [
    "## Train the model\n"
   ]
  },
  {
   "cell_type": "markdown",
   "metadata": {
    "id": "ziMghju-Rts2"
   },
   "source": [
    "Now we'll use the Model Maker [`create()`](https://www.tensorflow.org/lite/api_docs/python/tflite_model_maker/audio_classifier/create) function to create a model based on our model spec and training dataset, and begin training.\n",
    "\n",
    "If you're using a custom dataset, you might want to change the batch size as appropriate for the number of samples in your train set.\n",
    "\n",
    "**Note:** The first epoch takes longer because it must create the cache. "
   ]
  },
  {
   "cell_type": "code",
   "execution_count": 18,
   "metadata": {
    "colab": {
     "base_uri": "https://localhost:8080/"
    },
    "id": "GYaZvaOPgLUC",
    "outputId": "635a5d78-6483-47b1-a604-b2bba0112585"
   },
   "outputs": [
    {
     "name": "stdout",
     "output_type": "stream",
     "text": [
      "Model: \"sequential_1\"\n",
      "_________________________________________________________________\n",
      " Layer (type)                Output Shape              Param #   \n",
      "=================================================================\n",
      " conv2d_1 (Conv2D)           (None, 42, 225, 8)        136       \n",
      "                                                                 \n",
      " max_pooling2d_1 (MaxPooling  (None, 21, 112, 8)       0         \n",
      " 2D)                                                             \n",
      "                                                                 \n",
      " conv2d_2 (Conv2D)           (None, 20, 109, 32)       2080      \n",
      "                                                                 \n",
      " max_pooling2d_2 (MaxPooling  (None, 10, 54, 32)       0         \n",
      " 2D)                                                             \n",
      "                                                                 \n",
      " conv2d_3 (Conv2D)           (None, 9, 51, 32)         8224      \n",
      "                                                                 \n",
      " max_pooling2d_3 (MaxPooling  (None, 4, 25, 32)        0         \n",
      " 2D)                                                             \n",
      "                                                                 \n",
      " conv2d_4 (Conv2D)           (None, 3, 22, 32)         8224      \n",
      "                                                                 \n",
      " max_pooling2d_4 (MaxPooling  (None, 2, 11, 32)        0         \n",
      " 2D)                                                             \n",
      "                                                                 \n",
      " flatten_1 (Flatten)         (None, 704)               0         \n",
      "                                                                 \n",
      " dropout_1 (Dropout)         (None, 704)               0         \n",
      "                                                                 \n",
      " dense_1 (Dense)             (None, 2000)              1410000   \n",
      "                                                                 \n",
      " dropout_2 (Dropout)         (None, 2000)              0         \n",
      "                                                                 \n",
      " classification_head (Dense)  (None, 19)               38019     \n",
      "                                                                 \n",
      "=================================================================\n",
      "Total params: 1,466,683\n",
      "Trainable params: 38,019\n",
      "Non-trainable params: 1,428,664\n",
      "_________________________________________________________________\n",
      "Epoch 1/30\n",
      "84/84 [==============================] - 107s 1s/step - loss: 2.6970 - acc: 0.3189 - val_loss: 0.7600 - val_acc: 0.7698\n",
      "Epoch 2/30\n",
      "84/84 [==============================] - 1s 7ms/step - loss: 0.9755 - acc: 0.6890 - val_loss: 0.4672 - val_acc: 0.8849\n",
      "Epoch 3/30\n",
      "84/84 [==============================] - 1s 6ms/step - loss: 0.6105 - acc: 0.8026 - val_loss: 0.3784 - val_acc: 0.8921\n",
      "Epoch 4/30\n",
      "84/84 [==============================] - 1s 10ms/step - loss: 0.5026 - acc: 0.8377 - val_loss: 0.3184 - val_acc: 0.8777\n",
      "Epoch 5/30\n",
      "84/84 [==============================] - 1s 9ms/step - loss: 0.3999 - acc: 0.8721 - val_loss: 0.2857 - val_acc: 0.9137\n",
      "Epoch 6/30\n",
      "84/84 [==============================] - 1s 6ms/step - loss: 0.2788 - acc: 0.9057 - val_loss: 0.2626 - val_acc: 0.9209\n",
      "Epoch 7/30\n",
      "84/84 [==============================] - 1s 6ms/step - loss: 0.2552 - acc: 0.9185 - val_loss: 0.2580 - val_acc: 0.9137\n",
      "Epoch 8/30\n",
      "84/84 [==============================] - 1s 6ms/step - loss: 0.2294 - acc: 0.9313 - val_loss: 0.2944 - val_acc: 0.8921\n",
      "Epoch 9/30\n",
      "84/84 [==============================] - 1s 6ms/step - loss: 0.2044 - acc: 0.9289 - val_loss: 0.2194 - val_acc: 0.9353\n",
      "Epoch 10/30\n",
      "84/84 [==============================] - 1s 6ms/step - loss: 0.1991 - acc: 0.9353 - val_loss: 0.2075 - val_acc: 0.9353\n",
      "Epoch 11/30\n",
      "84/84 [==============================] - 1s 6ms/step - loss: 0.1506 - acc: 0.9528 - val_loss: 0.2043 - val_acc: 0.9353\n",
      "Epoch 12/30\n",
      "84/84 [==============================] - 1s 6ms/step - loss: 0.1677 - acc: 0.9448 - val_loss: 0.2170 - val_acc: 0.9424\n",
      "Epoch 13/30\n",
      "84/84 [==============================] - 1s 6ms/step - loss: 0.1590 - acc: 0.9440 - val_loss: 0.1981 - val_acc: 0.9281\n",
      "Epoch 14/30\n",
      "84/84 [==============================] - 1s 6ms/step - loss: 0.1243 - acc: 0.9528 - val_loss: 0.1759 - val_acc: 0.9496\n",
      "Epoch 15/30\n",
      "84/84 [==============================] - 1s 6ms/step - loss: 0.1491 - acc: 0.9440 - val_loss: 0.1853 - val_acc: 0.9496\n",
      "Epoch 16/30\n",
      "84/84 [==============================] - 1s 6ms/step - loss: 0.1306 - acc: 0.9600 - val_loss: 0.1711 - val_acc: 0.9568\n",
      "Epoch 17/30\n",
      "84/84 [==============================] - 1s 6ms/step - loss: 0.1269 - acc: 0.9560 - val_loss: 0.2107 - val_acc: 0.9353\n",
      "Epoch 18/30\n",
      "84/84 [==============================] - 1s 6ms/step - loss: 0.1080 - acc: 0.9632 - val_loss: 0.1928 - val_acc: 0.9353\n",
      "Epoch 19/30\n",
      "84/84 [==============================] - 1s 6ms/step - loss: 0.0971 - acc: 0.9720 - val_loss: 0.2277 - val_acc: 0.9424\n",
      "Epoch 20/30\n",
      "84/84 [==============================] - 1s 6ms/step - loss: 0.1017 - acc: 0.9688 - val_loss: 0.2300 - val_acc: 0.9424\n",
      "Epoch 21/30\n",
      "84/84 [==============================] - 1s 6ms/step - loss: 0.1032 - acc: 0.9640 - val_loss: 0.1996 - val_acc: 0.9281\n",
      "Epoch 22/30\n",
      "84/84 [==============================] - 1s 6ms/step - loss: 0.0687 - acc: 0.9784 - val_loss: 0.1915 - val_acc: 0.9353\n",
      "Epoch 23/30\n",
      "84/84 [==============================] - 1s 6ms/step - loss: 0.0907 - acc: 0.9616 - val_loss: 0.1794 - val_acc: 0.9281\n",
      "Epoch 24/30\n",
      "84/84 [==============================] - 1s 6ms/step - loss: 0.0823 - acc: 0.9664 - val_loss: 0.1941 - val_acc: 0.9353\n",
      "Epoch 25/30\n",
      "84/84 [==============================] - 1s 6ms/step - loss: 0.0854 - acc: 0.9744 - val_loss: 0.1544 - val_acc: 0.9424\n",
      "Epoch 26/30\n",
      "84/84 [==============================] - 1s 6ms/step - loss: 0.0909 - acc: 0.9712 - val_loss: 0.1753 - val_acc: 0.9496\n",
      "Epoch 27/30\n",
      "84/84 [==============================] - 1s 6ms/step - loss: 0.1042 - acc: 0.9600 - val_loss: 0.1787 - val_acc: 0.9496\n",
      "Epoch 28/30\n",
      "84/84 [==============================] - 1s 6ms/step - loss: 0.0919 - acc: 0.9680 - val_loss: 0.1500 - val_acc: 0.9568\n",
      "Epoch 29/30\n",
      "84/84 [==============================] - 1s 6ms/step - loss: 0.0609 - acc: 0.9800 - val_loss: 0.1827 - val_acc: 0.9424\n",
      "Epoch 30/30\n",
      "84/84 [==============================] - 1s 6ms/step - loss: 0.0912 - acc: 0.9680 - val_loss: 0.2163 - val_acc: 0.9353\n"
     ]
    }
   ],
   "source": [
    "# If your dataset has fewer than 100 samples per class, you might want to try a smaller than 25 batch size\n",
    "batch_size = 15\n",
    "epochs = 30\n",
    "model = audio_classifier.create(train_data, spec, validation_data, batch_size, epochs)"
   ]
  },
  {
   "cell_type": "code",
   "execution_count": 19,
   "metadata": {
    "colab": {
     "base_uri": "https://localhost:8080/",
     "height": 1000
    },
    "id": "Mixtxgo9AIgd",
    "outputId": "e27074ee-9b91-4049-804a-fd065a9992b7"
   },
   "outputs": [
    {
     "data": {
      "image/png": "[encoded data removed]",
      "text/plain": [
       "<IPython.core.display.Image object>"
      ]
     },
     "execution_count": 19,
     "metadata": {},
     "output_type": "execute_result"
    }
   ],
   "source": [
    "from keras.utils.vis_utils import plot_model\n",
    "\n",
    "plot_model(model.model, to_file=\"TL_original_model.png\", show_shapes=True, show_dtype=True, show_layer_names=True)"
   ]
  },
  {
   "cell_type": "markdown",
   "metadata": {
    "id": "mtLuRA2xweZA"
   },
   "source": [
    "## Review the model performance"
   ]
  },
  {
   "cell_type": "markdown",
   "metadata": {
    "id": "oXMEHZkAxJTl"
   },
   "source": [
    "Even if the accuracy/loss looks good from the training output above, it's important to also run the model using test data that the model has not seen yet, which is what the `evaluate()` method does here:"
   ]
  },
  {
   "cell_type": "code",
   "execution_count": 20,
   "metadata": {
    "colab": {
     "base_uri": "https://localhost:8080/"
    },
    "id": "8mFB9nachk5g",
    "outputId": "6c716647-1528-45f5-b550-84f73481b02c"
   },
   "outputs": [
    {
     "name": "stdout",
     "output_type": "stream",
     "text": [
      "40/40 [==============================] - 89s 2s/step - loss: 0.0031 - acc: 1.0000\n"
     ]
    },
    {
     "data": {
      "text/plain": [
       "[0.0031104839872568846, 1.0]"
      ]
     },
     "execution_count": 20,
     "metadata": {},
     "output_type": "execute_result"
    }
   ],
   "source": [
    "model.evaluate(train_data)"
   ]
  },
  {
   "cell_type": "code",
   "execution_count": 21,
   "metadata": {
    "colab": {
     "base_uri": "https://localhost:8080/"
    },
    "id": "R3qUbU37_1ob",
    "outputId": "3049a76b-ce5b-4191-d07e-1489c735a382"
   },
   "outputs": [
    {
     "name": "stdout",
     "output_type": "stream",
     "text": [
      "5/5 [==============================] - 10s 2s/step - loss: 0.2161 - acc: 0.9353\n"
     ]
    },
    {
     "data": {
      "text/plain": [
       "[0.21608269214630127, 0.935251772403717]"
      ]
     },
     "execution_count": 21,
     "metadata": {},
     "output_type": "execute_result"
    }
   ],
   "source": [
    "model.evaluate(validation_data)"
   ]
  },
  {
   "cell_type": "code",
   "execution_count": 22,
   "metadata": {
    "colab": {
     "base_uri": "https://localhost:8080/"
    },
    "id": "n_4MGpzhWVhr",
    "outputId": "441033b5-7d89-4853-d1e3-db2b86c2e11c"
   },
   "outputs": [
    {
     "name": "stdout",
     "output_type": "stream",
     "text": [
      "15/15 [==============================] - 33s 2s/step - loss: 0.2379 - acc: 0.9349\n"
     ]
    },
    {
     "data": {
      "text/plain": [
       "[0.23789432644844055, 0.9348739385604858]"
      ]
     },
     "execution_count": 22,
     "metadata": {},
     "output_type": "execute_result"
    }
   ],
   "source": [
    "model.evaluate(test_data)"
   ]
  },
  {
   "cell_type": "markdown",
   "metadata": {
    "id": "X1e1eOrvNMfH"
   },
   "source": [
    "*Info on loss metric:* https://stackoverflow.com/questions/34518656/how-to-interpret-loss-and-accuracy-for-a-machine-learning-model"
   ]
  },
  {
   "cell_type": "markdown",
   "metadata": {
    "id": "HqvpAnqsVExO"
   },
   "source": [
    "### View the confusion matrix"
   ]
  },
  {
   "cell_type": "markdown",
   "metadata": {
    "id": "8QRRAM39aOxS"
   },
   "source": [
    "When training a classification model such as this one, it's also useful to inspect the [confusion matrix](https://en.wikipedia.org/wiki/Confusion_matrix). The confusion matrix gives you detailed visual representation of how well your classifier performs for each classification in your test data."
   ]
  },
  {
   "cell_type": "code",
   "execution_count": 23,
   "metadata": {
    "id": "zqB3c0368iH3"
   },
   "outputs": [],
   "source": [
    "def show_confusion_matrix(confusion, test_labels, data_set):\n",
    "  \"\"\"Compute confusion matrix and normalize.\"\"\"\n",
    "  confusion_normalized = [confusion[i].astype(\"float\") / confusion.sum(axis=1)[i] for i in range(len(confusion))]\n",
    "  sns.set(rc = {\"figure.figsize\":(10,10)})\n",
    "  sns.heatmap(\n",
    "      confusion_normalized, xticklabels=test_labels, yticklabels=test_labels,\n",
    "      cmap=\"Blues\", annot=True, fmt=\".2f\", square=True, cbar=False)\n",
    "  plt.title(f\"Confusion matrix for the {data_set} set\")\n",
    "  plt.ylabel(\"True label\")\n",
    "  plt.xlabel(\"Predicted label\")"
   ]
  },
  {
   "cell_type": "code",
   "execution_count": 24,
   "metadata": {
    "colab": {
     "base_uri": "https://localhost:8080/",
     "height": 1000
    },
    "id": "Ms640ctThsHi",
    "outputId": "f401babe-11c1-4737-eeb1-edd40eee8285"
   },
   "outputs": [
    {
     "name": "stdout",
     "output_type": "stream",
     "text": [
      "1/1 [==============================] - 0s 337ms/step\n",
      "1/1 [==============================] - 0s 72ms/step\n",
      "1/1 [==============================] - 0s 44ms/step\n",
      "1/1 [==============================] - 0s 60ms/step\n",
      "1/1 [==============================] - 0s 63ms/step\n",
      "1/1 [==============================] - 0s 42ms/step\n",
      "1/1 [==============================] - 0s 64ms/step\n",
      "1/1 [==============================] - 0s 54ms/step\n",
      "1/1 [==============================] - 0s 42ms/step\n",
      "1/1 [==============================] - 0s 64ms/step\n",
      "1/1 [==============================] - 0s 58ms/step\n",
      "1/1 [==============================] - 0s 78ms/step\n",
      "1/1 [==============================] - 0s 40ms/step\n",
      "1/1 [==============================] - 0s 54ms/step\n",
      "1/1 [==============================] - 0s 34ms/step\n",
      "1/1 [==============================] - 0s 45ms/step\n",
      "1/1 [==============================] - 0s 66ms/step\n",
      "1/1 [==============================] - 0s 65ms/step\n",
      "1/1 [==============================] - 0s 76ms/step\n",
      "1/1 [==============================] - 0s 63ms/step\n",
      "1/1 [==============================] - 0s 61ms/step\n",
      "1/1 [==============================] - 0s 28ms/step\n",
      "1/1 [==============================] - 0s 46ms/step\n",
      "1/1 [==============================] - 0s 59ms/step\n",
      "1/1 [==============================] - 0s 61ms/step\n",
      "1/1 [==============================] - 0s 66ms/step\n",
      "1/1 [==============================] - 0s 64ms/step\n",
      "1/1 [==============================] - 0s 52ms/step\n",
      "1/1 [==============================] - 0s 58ms/step\n",
      "1/1 [==============================] - 0s 34ms/step\n",
      "1/1 [==============================] - 0s 61ms/step\n",
      "1/1 [==============================] - 0s 45ms/step\n",
      "1/1 [==============================] - 0s 69ms/step\n",
      "1/1 [==============================] - 0s 26ms/step\n",
      "1/1 [==============================] - 0s 71ms/step\n",
      "1/1 [==============================] - 0s 57ms/step\n",
      "1/1 [==============================] - 0s 58ms/step\n",
      "1/1 [==============================] - 0s 66ms/step\n",
      "1/1 [==============================] - 0s 18ms/step\n",
      "1/1 [==============================] - 0s 81ms/step\n"
     ]
    },
    {
     "data": {
      "image/png": "[encoded data removed]",
      "text/plain": [
       "<Figure size 720x720 with 1 Axes>"
      ]
     },
     "metadata": {},
     "output_type": "display_data"
    }
   ],
   "source": [
    "train_confusion_matrix = model.confusion_matrix(train_data)\n",
    "show_confusion_matrix(train_confusion_matrix.numpy(), train_data.index_to_label, \"train\")"
   ]
  },
  {
   "cell_type": "code",
   "execution_count": 25,
   "metadata": {
    "colab": {
     "base_uri": "https://localhost:8080/",
     "height": 946
    },
    "id": "uYCKAnfghso4",
    "outputId": "28b78120-501d-4811-c73f-3c60769eefac"
   },
   "outputs": [
    {
     "name": "stdout",
     "output_type": "stream",
     "text": [
      "1/1 [==============================] - 0s 47ms/step\n",
      "1/1 [==============================] - 0s 66ms/step\n",
      "1/1 [==============================] - 0s 74ms/step\n",
      "1/1 [==============================] - 0s 67ms/step\n",
      "1/1 [==============================] - 0s 69ms/step\n",
      "1/1 [==============================] - 0s 67ms/step\n",
      "1/1 [==============================] - 0s 33ms/step\n",
      "1/1 [==============================] - 0s 31ms/step\n",
      "1/1 [==============================] - 0s 36ms/step\n",
      "1/1 [==============================] - 0s 46ms/step\n",
      "1/1 [==============================] - 0s 73ms/step\n",
      "1/1 [==============================] - 0s 44ms/step\n",
      "1/1 [==============================] - 0s 60ms/step\n",
      "1/1 [==============================] - 0s 31ms/step\n",
      "1/1 [==============================] - 0s 17ms/step\n"
     ]
    },
    {
     "data": {
      "image/png": "[encoded data removed]",
      "text/plain": [
       "<Figure size 720x720 with 1 Axes>"
      ]
     },
     "metadata": {},
     "output_type": "display_data"
    }
   ],
   "source": [
    "test_confusion_matrix = model.confusion_matrix(test_data)\n",
    "show_confusion_matrix(test_confusion_matrix.numpy(), test_data.index_to_label, \"test\")"
   ]
  },
  {
   "cell_type": "markdown",
   "metadata": {
    "id": "yASrikBgZ9ZO"
   },
   "source": [
    "## Export the TFlite model\n",
    "\n",
    "The last step is exporting your model into the TensorFlow Lite format for execution on mobile/embedded devices and into the [SavedModel format](https://www.tensorflow.org/guide/saved_model) for execution elsewhere.\n",
    "\n",
    "When exporting a `.tflite` file from Model Maker, it includes [model metadata](https://www.tensorflow.org/lite/inference_with_metadata/overview) that describes various details that can later help during inference. It even includes a copy of the classification labels file, so you don't need to a separate `labels.txt` file. (In the next section, we show how to use this metadata to run an inference.)"
   ]
  },
  {
   "cell_type": "code",
   "execution_count": 26,
   "metadata": {
    "id": "4gEf59NfGWjq"
   },
   "outputs": [],
   "source": [
    "SAVE_PATH = \"./models\"\n",
    "TFLITE_FILENAME = \"browserfft-speech.tflite\""
   ]
  },
  {
   "cell_type": "code",
   "execution_count": 27,
   "metadata": {
    "colab": {
     "base_uri": "https://localhost:8080/"
    },
    "id": "Xw_ehPxAdQlz",
    "outputId": "b91e0b60-fc7a-4aae-dc01-df3e6c4b75bb"
   },
   "outputs": [
    {
     "name": "stdout",
     "output_type": "stream",
     "text": [
      "Exporting the model to ./models\n"
     ]
    },
    {
     "name": "stderr",
     "output_type": "stream",
     "text": [
      "WARNING:absl:Found untraced functions such as _jit_compiled_convolution_op, _jit_compiled_convolution_op, _jit_compiled_convolution_op, _jit_compiled_convolution_op while saving (showing 4 of 4). These functions will not be directly callable after loading.\n",
      "WARNING:tensorflow:Compiled the loaded model, but the compiled metrics have yet to be built. `model.compile_metrics` will be empty until you train or evaluate the model.\n",
      "WARNING:absl:Found untraced functions such as _jit_compiled_convolution_op, _jit_compiled_convolution_op, _jit_compiled_convolution_op, _jit_compiled_convolution_op while saving (showing 4 of 4). These functions will not be directly callable after loading.\n"
     ]
    }
   ],
   "source": [
    "print(f\"Exporting the model to {SAVE_PATH}\")\n",
    "model.export(SAVE_PATH, tflite_filename=TFLITE_FILENAME)\n",
    "model.export(SAVE_PATH, export_format=[mm.ExportFormat.SAVED_MODEL, mm.ExportFormat.LABEL])"
   ]
  },
  {
   "cell_type": "markdown",
   "metadata": {
    "id": "lIC1ddGq6xQX"
   },
   "source": [
    "## Run inference with TF Lite model"
   ]
  },
  {
   "cell_type": "markdown",
   "metadata": {
    "id": "5xr0idac6xfi"
   },
   "source": [
    "Now your TFLite model can be deployed and run using any of the supported [inferencing libraries](https://www.tensorflow.org/lite/guide/inference) or with the new [TFLite AudioClassifier Task API](https://www.tensorflow.org/lite/inference_with_metadata/task_library/audio_classifier). The following code shows how you can run inference with the `.tflite` model in Python."
   ]
  },
  {
   "cell_type": "code",
   "execution_count": 28,
   "metadata": {
    "id": "nR5zV53YbCIQ"
   },
   "outputs": [],
   "source": [
    "# This library provides the TFLite metadata API\n",
    "!pip install -q tflite_support"
   ]
  },
  {
   "cell_type": "code",
   "execution_count": 29,
   "metadata": {
    "id": "1AC7PRyiayU5"
   },
   "outputs": [],
   "source": [
    "from tflite_support import metadata\n",
    "import json\n",
    "\n",
    "def get_labels(model):\n",
    "  \"\"\"Returns a list of labels, extracted from the model metadata.\"\"\"\n",
    "  displayer = metadata.MetadataDisplayer.with_model_file(model)\n",
    "  labels_file = displayer.get_packed_associated_file_list()[0]\n",
    "  labels = displayer.get_associated_file_buffer(labels_file).decode()\n",
    "  return [line for line in labels.split(\"\\n\")]\n",
    "\n",
    "def get_input_sample_rate(model):\n",
    "  \"\"\"Returns the model's expected sample rate, from the model metadata.\"\"\"\n",
    "  displayer = metadata.MetadataDisplayer.with_model_file(model)\n",
    "  metadata_json = json.loads(displayer.get_metadata_json())\n",
    "  input_tensor_metadata = metadata_json[\"subgraph_metadata\"][0][\"input_tensor_metadata\"][0]\n",
    "  input_content_props = input_tensor_metadata[\"content\"][\"content_properties\"]\n",
    "  return input_content_props[\"sample_rate\"]"
   ]
  },
  {
   "cell_type": "markdown",
   "metadata": {
    "id": "yC7TEvQ9o4mu"
   },
   "source": [
    "To observe how well the model performs with real samples, run the following code block over and over. Each time, it will fetch a new test sample and run inference with it, and you can listen to the audio sample below."
   ]
  },
  {
   "cell_type": "code",
   "execution_count": 30,
   "metadata": {
    "colab": {
     "base_uri": "https://localhost:8080/",
     "height": 807
    },
    "id": "loU6PleipSPf",
    "outputId": "902e0d1a-fbf2-49b1-a6b2-d01cc6e8ab06"
   },
   "outputs": [
    {
     "name": "stdout",
     "output_type": "stream",
     "text": [
      "---prediction---\n",
      "Class: 13-abajo\n",
      "Score: 0.9990122318267822\n",
      "----truth----\n",
      "Class: 13-abajo\n",
      "File: /content/dataset-test/13-abajo/42.wav\n",
      "Sample rate: 16000\n",
      "Sample length: 16000\n"
     ]
    },
    {
     "data": {
      "text/html": [
       "\n",
       "                <audio  controls=\"controls\" >\n",
       "                    <source src=\"data:audio/wav;base64,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\" type=\"audio/wav\" />\n",
       "                    Your browser does not support the audio element.\n",
       "                </audio>\n",
       "              "
      ],
      "text/plain": [
       "<IPython.lib.display.Audio object>"
      ]
     },
     "metadata": {},
     "output_type": "display_data"
    },
    {
     "data": {
      "image/png": "[encoded data removed]",
      "text/plain": [
       "<Figure size 720x720 with 1 Axes>"
      ]
     },
     "metadata": {},
     "output_type": "display_data"
    }
   ],
   "source": [
    "# Get a WAV file for inference and list of labels from the model\n",
    "tflite_file = os.path.join(SAVE_PATH, TFLITE_FILENAME).replace(\"\\\\\", \"/\")\n",
    "labels = get_labels(tflite_file)\n",
    "random_audio = get_random_audio_file(test_dir)\n",
    "\n",
    "# Ensure the audio sample fits the model input\n",
    "interpreter = tf.lite.Interpreter(tflite_file)\n",
    "input_details = interpreter.get_input_details()\n",
    "output_details = interpreter.get_output_details()\n",
    "input_size = input_details[0][\"shape\"][1]\n",
    "sample_rate = get_input_sample_rate(tflite_file)\n",
    "audio_data, _ = librosa.load(random_audio, sr=sample_rate)\n",
    "if len(audio_data) < input_size:\n",
    "  audio_data.resize(input_size)\n",
    "audio_data = np.expand_dims(audio_data[:input_size], axis=0)\n",
    "\n",
    "# Run inference\n",
    "interpreter.allocate_tensors()\n",
    "interpreter.set_tensor(input_details[0][\"index\"], audio_data)\n",
    "interpreter.invoke()\n",
    "output_data = interpreter.get_tensor(output_details[0][\"index\"])\n",
    "\n",
    "# Display prediction and ground truth\n",
    "top_index = np.argmax(output_data[0])\n",
    "label = labels[top_index]\n",
    "score = output_data[0][top_index]\n",
    "print(\"---prediction---\")\n",
    "print(f\"Class: {label}\\nScore: {score}\")\n",
    "print(\"----truth----\")\n",
    "show_sample(random_audio)"
   ]
  },
  {
   "cell_type": "code",
   "execution_count": 31,
   "metadata": {
    "colab": {
     "base_uri": "https://localhost:8080/"
    },
    "id": "7fOq1SDhVKO4",
    "outputId": "f0a1757d-0d61-4659-c14b-a318034af814"
   },
   "outputs": [
    {
     "data": {
      "text/plain": [
       "[{'name': 'audio_preproc_input',\n",
       "  'index': 0,\n",
       "  'shape': array([    1, 44032], dtype=int32),\n",
       "  'shape_signature': array([   -1, 44032], dtype=int32),\n",
       "  'dtype': numpy.float32,\n",
       "  'quantization': (0.0, 0),\n",
       "  'quantization_parameters': {'scales': array([], dtype=float32),\n",
       "   'zero_points': array([], dtype=int32),\n",
       "   'quantized_dimension': 0},\n",
       "  'sparsity_parameters': {}}]"
      ]
     },
     "execution_count": 31,
     "metadata": {},
     "output_type": "execute_result"
    }
   ],
   "source": [
    "input_details"
   ]
  },
  {
   "cell_type": "markdown",
   "metadata": {
    "id": "8zLDeiQ_z2Vj"
   },
   "source": [
    "Now you can deploy the TF Lite model to your mobile or embedded device. You don't need to download the labels file because you can instead retrieve the labels from `.tflite` file metadata, as shown in the previous inferencing example."
   ]
  },
  {
   "cell_type": "markdown",
   "metadata": {
    "id": "wyRhCbK8kopz"
   },
   "source": [
    "-----"
   ]
  },
  {
   "cell_type": "markdown",
   "metadata": {
    "id": "SsiNeDRgkqQ6"
   },
   "source": [
    "## Quantization of the model"
   ]
  },
  {
   "cell_type": "markdown",
   "metadata": {
    "id": "YpIN1BiZmX8Z"
   },
   "source": [
    "We want to execute this re-trained model in an Edge TPU, so we need to quantize it before deploying it. There are several types of post-quantization (depending on the purpose and on how much do we want to reduce the size of our model) like the weight/hybrid quantization or the full quantization. The one required for the Edge TPU is the full integer-only quantization.\n",
    "\n",
    "The full integer quantization treats both the weights and the activation values. For the activation values to be quantized, a representative dataset is required for calibration, so that the output of the activation function is mapped to integer values."
   ]
  },
  {
   "cell_type": "code",
   "execution_count": 34,
   "metadata": {
    "id": "Z7GkGfDqOs5e"
   },
   "outputs": [],
   "source": [
    "representative_arrays = []\n",
    "sample_rate = get_input_sample_rate(tflite_file)\n",
    "samples_per_label = 20\n",
    "\n",
    "for i, (dirpath, dirnames, filenames) in enumerate(os.walk(dataset_dir)):\n",
    "\n",
    "  if dirpath != dataset_dir:\n",
    "    for file in random.sample(filenames, samples_per_label):\n",
    "      file_full = os.path.join(dirpath, file).replace(\"\\\\\",\"/\")\n",
    "\n",
    "      signal, _ = librosa.load(file_full, sr=sample_rate)\n",
    "      if len(signal) < input_size:\n",
    "        signal.resize(input_size)\n",
    "      signal = np.expand_dims(signal[:input_size], axis=0)\n",
    "\n",
    "      representative_arrays.append(signal)\n",
    "\n",
    "representative_arrays = []\n",
    "sample_rate = get_input_sample_rate(tflite_file)\n",
    "samples_per_label = 30\n",
    "samples_per_label_background = 15\n",
    "\n",
    "for i, (dirpath, dirnames, filenames) in enumerate(os.walk(dataset_dir)):\n",
    "\n",
    "  if dirpath != dataset_dir:\n",
    "    if dirpath.split(\"/\")[-1] != \"background\":\n",
    "      for file in random.sample(filenames, samples_per_label):\n",
    "        valid = True\n",
    "        file_full = os.path.join(dirpath, file).replace(\"\\\\\",\"/\")\n",
    "\n",
    "        signal, _ = librosa.load(file_full, sr=sample_rate)\n",
    "        if len(signal) < input_size:\n",
    "          signal.resize(input_size)\n",
    "        \n",
    "        for element in signal:\n",
    "          if element == float(0):\n",
    "            valid = False\n",
    "\n",
    "        if valid:\n",
    "          signal = np.expand_dims(signal[:input_size], axis=0)\n",
    "\n",
    "          representative_arrays.append(signal)\n",
    "    elif dirpath.split(\"/\")[-1] == \"background\":\n",
    "      for file in random.sample(filenames, samples_per_label_background):\n",
    "        valid = True\n",
    "        file_full = os.path.join(dirpath, file).replace(\"\\\\\",\"/\")\n",
    "\n",
    "        signal, _ = librosa.load(file_full, sr=sample_rate)\n",
    "        if len(signal) < input_size:\n",
    "          signal.resize(input_size)\n",
    "        \n",
    "        for element in signal:\n",
    "          if element == float(0):\n",
    "            valid = False\n",
    "\n",
    "        if valid:\n",
    "          signal = np.expand_dims(signal[:input_size], axis=0)\n",
    "\n",
    "          representative_arrays.append(signal)"
   ]
  },
  {
   "cell_type": "markdown",
   "metadata": {
    "id": "gBjrRS2hJ8_R"
   },
   "source": [
    "To quantize the input and output tensors, and make the converter throw an error if it encounters an operation it cannot quantize, convert the model again with some additional parameters."
   ]
  },
  {
   "cell_type": "code",
   "execution_count": 35,
   "metadata": {
    "id": "RJN_XyUG-SXK"
   },
   "outputs": [],
   "source": [
    "def representative_data_gen():\n",
    "  for representative_array in representative_arrays:\n",
    "    yield [representative_array]\n",
    "\n",
    "converter = tf.lite.TFLiteConverter.from_saved_model(\"./models/saved_model\")\n",
    "converter.optimizations = [tf.lite.Optimize.DEFAULT]\n",
    "converter.representative_dataset = representative_data_gen\n",
    "\n",
    "# Ensure that if any ops can't be quantized, the converter throws an error\n",
    "converter.target_spec.supported_ops = [tf.lite.OpsSet.TFLITE_BUILTINS_INT8]\n",
    "\n",
    "# Set the input and output tensors to uint8 (APIs added in r2.3)\n",
    "converter.inference_input_type = tf.uint8\n",
    "converter.inference_output_type = tf.uint8\n",
    "\n",
    "tflite_model_quant = converter.convert() #  seems that samples that contain signal values equal to float(0) can't be used here -> they yield NaN and the conversion fails"
   ]
  },
  {
   "cell_type": "markdown",
   "metadata": {
    "id": "zzHOxrOpnBAZ"
   },
   "source": [
    "The internal quantization remains the same as above, but you can see the input and output tensors are now integer format:"
   ]
  },
  {
   "cell_type": "code",
   "execution_count": 36,
   "metadata": {
    "colab": {
     "base_uri": "https://localhost:8080/"
    },
    "id": "siK1kB9pnBqZ",
    "outputId": "f9e7a71c-77ff-45e1-cc4a-d41517fb471c"
   },
   "outputs": [
    {
     "name": "stdout",
     "output_type": "stream",
     "text": [
      "input:  <class 'numpy.uint8'>\n",
      "output:  <class 'numpy.uint8'>\n"
     ]
    }
   ],
   "source": [
    "interpreter = tf.lite.Interpreter(model_content=tflite_model_quant)\n",
    "input_type = interpreter.get_input_details()[0][\"dtype\"]\n",
    "print(\"input: \", input_type)\n",
    "output_type = interpreter.get_output_details()[0][\"dtype\"]\n",
    "print(\"output: \", output_type)"
   ]
  },
  {
   "cell_type": "markdown",
   "metadata": {
    "id": "_EmZpWSJnGFI"
   },
   "source": [
    "Now you have an integer quantized model that uses integer data for the model's input and output tensors, so it's compatible with integer-only hardware such as the Edge TPU.\n",
    "\n",
    "Finally, we save the quantized model."
   ]
  },
  {
   "cell_type": "code",
   "execution_count": 37,
   "metadata": {
    "colab": {
     "base_uri": "https://localhost:8080/"
    },
    "id": "UeAT9gH5nOhs",
    "outputId": "e2161e57-8175-4b05-ebe9-1f4c73414089"
   },
   "outputs": [
    {
     "name": "stdout",
     "output_type": "stream",
     "text": [
      "Exporting the quantized model to ./models\n"
     ]
    },
    {
     "data": {
      "text/plain": [
       "1492280"
      ]
     },
     "execution_count": 37,
     "metadata": {},
     "output_type": "execute_result"
    }
   ],
   "source": [
    "import pathlib\n",
    "\n",
    "print(f\"Exporting the quantized model to {SAVE_PATH}\")\n",
    "tflite_models_dir = pathlib.Path(SAVE_PATH)\n",
    "tflite_models_dir.mkdir(exist_ok=True, parents=True)\n",
    "\n",
    "# Save the quantized model\n",
    "tflite_quant_file = tflite_models_dir/\"TL_model_quantized_MM.tflite\" # working because it's a pathlib path object\n",
    "tflite_quant_file.write_bytes(tflite_model_quant)\n",
    "\n",
    "# Normal byte writing\n",
    "#with open(os.path.join(tflite_models_dir, \"TL_model_quantized_MM.tflite\").replace(\"\\\\\", \"/\"), \"wb\") as binary_file:\n",
    "#  binary_file.write(tflite_model_quant)"
   ]
  },
  {
   "cell_type": "markdown",
   "metadata": {
    "id": "GTMpiqHIhYns"
   },
   "source": [
    "We can also export the model with metadata."
   ]
  },
  {
   "cell_type": "code",
   "execution_count": 38,
   "metadata": {
    "colab": {
     "base_uri": "https://localhost:8080/"
    },
    "id": "fnFLIaNAhYQG",
    "outputId": "c4c8aacc-d289-44f7-f75f-e4056dbc2034"
   },
   "outputs": [
    {
     "name": "stdout",
     "output_type": "stream",
     "text": [
      "{\n",
      "  \"name\": \"AudioClassifier\",\n",
      "  \"description\": \"Identify the most prominent type in the audio clip from a known set of categories.\",\n",
      "  \"subgraph_metadata\": [\n",
      "    {\n",
      "      \"input_tensor_metadata\": [\n",
      "        {\n",
      "          \"name\": \"audio_clip\",\n",
      "          \"description\": \"Input audio clip to be classified.\",\n",
      "          \"content\": {\n",
      "            \"content_properties_type\": \"AudioProperties\",\n",
      "            \"content_properties\": {\n",
      "              \"sample_rate\": 44100,\n",
      "              \"channels\": 1\n",
      "            }\n",
      "          },\n",
      "          \"stats\": {\n",
      "          }\n",
      "        }\n",
      "      ],\n",
      "      \"output_tensor_metadata\": [\n",
      "        {\n",
      "          \"name\": \"probability\",\n",
      "          \"description\": \"Scores of the labels respectively.\",\n",
      "          \"content\": {\n",
      "            \"content_properties_type\": \"FeatureProperties\",\n",
      "            \"content_properties\": {\n",
      "            }\n",
      "          },\n",
      "          \"stats\": {\n",
      "            \"max\": [\n",
      "              255.0\n",
      "            ],\n",
      "            \"min\": [\n",
      "              0.0\n",
      "            ]\n",
      "          },\n",
      "          \"associated_files\": [\n",
      "            {\n",
      "              \"name\": \"labels.txt\",\n",
      "              \"description\": \"Labels for categories that the model can recognize.\",\n",
      "              \"type\": \"TENSOR_AXIS_LABELS\"\n",
      "            }\n",
      "          ]\n",
      "        }\n",
      "      ]\n",
      "    }\n",
      "  ]\n",
      "}\n",
      "\n"
     ]
    }
   ],
   "source": [
    "from tflite_support.metadata_writers import audio_classifier\n",
    "from tflite_support.metadata_writers import metadata_info\n",
    "from tflite_support.metadata_writers import writer_utils\n",
    "\n",
    "AudioClassifierWriter = audio_classifier.MetadataWriter\n",
    "_MODEL_PATH = \"./models/TL_model_quantized_MM.tflite\"\n",
    "# Task Library expects label files that are in the same format as the one below.\n",
    "_LABEL_FILE = \"./models/labels.txt\"\n",
    "# Expected sampling rate of the input audio buffer.\n",
    "_SAMPLE_RATE = 44100\n",
    "# Expected number of channels of the input audio buffer. Note, Task library only support single channel so far.\n",
    "_CHANNELS = 1\n",
    "_SAVE_TO_PATH = \"./models/TL_model_quantized_MM_metadata.tflite\"\n",
    "\n",
    "# Create the metadata writer.\n",
    "writer = AudioClassifierWriter.create_for_inference(\n",
    "    writer_utils.load_file(_MODEL_PATH), _SAMPLE_RATE, _CHANNELS, [_LABEL_FILE])\n",
    "\n",
    "# Verify the metadata generated by metadata writer.\n",
    "print(writer.get_metadata_json())\n",
    "\n",
    "# Populate the metadata into the model.\n",
    "writer_utils.save_file(writer.populate(), _SAVE_TO_PATH)"
   ]
  },
  {
   "cell_type": "markdown",
   "metadata": {
    "id": "sPVNQztsLESg"
   },
   "source": [
    "## Run inference with the quantized model"
   ]
  },
  {
   "cell_type": "markdown",
   "metadata": {
    "id": "T0vrbOaXRcce"
   },
   "source": [
    "If model is saved with metadata, we can run inference this way."
   ]
  },
  {
   "cell_type": "code",
   "execution_count": 39,
   "metadata": {
    "colab": {
     "base_uri": "https://localhost:8080/",
     "height": 807
    },
    "id": "tvKWHNpoLdzn",
    "outputId": "f991fa01-1884-46c0-a5f8-ae01a7fecf28"
   },
   "outputs": [
    {
     "name": "stdout",
     "output_type": "stream",
     "text": [
      "---prediction---\n",
      "Class: 06-seis\n",
      "Score: 255\n",
      "----truth----\n",
      "Class: 06-seis\n",
      "File: /content/dataset-test/06-seis/59.wav\n",
      "Sample rate: 16000\n",
      "Sample length: 16000\n"
     ]
    },
    {
     "data": {
      "text/html": [
       "\n",
       "                <audio  controls=\"controls\" >\n",
       "                    <source src=\"data:audio/wav;base64,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\" type=\"audio/wav\" />\n",
       "                    Your browser does not support the audio element.\n",
       "                </audio>\n",
       "              "
      ],
      "text/plain": [
       "<IPython.lib.display.Audio object>"
      ]
     },
     "metadata": {},
     "output_type": "display_data"
    },
    {
     "data": {
      "image/png": "[encoded data removed]",
      "text/plain": [
       "<Figure size 720x720 with 1 Axes>"
      ]
     },
     "metadata": {},
     "output_type": "display_data"
    }
   ],
   "source": [
    "# Get a WAV file for inference and list of labels from the model\n",
    "tflite_quant_metadata_file = os.path.join(SAVE_PATH, \"TL_model_quantized_MM_metadata.tflite\").replace(\"\\\\\", \"/\")\n",
    "labels = get_labels(tflite_quant_metadata_file)\n",
    "random_audio = get_random_audio_file(test_dir)\n",
    "\n",
    "# Ensure the audio sample fits the model input\n",
    "interpreter = tf.lite.Interpreter(model_path=str(tflite_quant_metadata_file))\n",
    "input_details = interpreter.get_input_details()\n",
    "output_details = interpreter.get_output_details()\n",
    "input_size = input_details[0][\"shape\"][1]\n",
    "sample_rate = get_input_sample_rate(tflite_quant_metadata_file)\n",
    "audio_data, _ = librosa.load(random_audio, sr=sample_rate)\n",
    "if len(audio_data) < input_size:\n",
    "  audio_data.resize(input_size)\n",
    "\n",
    "if input_details[0][\"dtype\"] == np.uint8:\n",
    "  input_scale, input_zero_point = input_details[0][\"quantization\"]\n",
    "  audio_data = audio_data / input_scale + input_zero_point\n",
    "\n",
    "audio_data = np.expand_dims(audio_data[:input_size], axis=0).astype(input_details[0][\"dtype\"])\n",
    "\n",
    "# Run inference\n",
    "interpreter.allocate_tensors()\n",
    "interpreter.set_tensor(input_details[0][\"index\"], audio_data)\n",
    "interpreter.invoke()\n",
    "output_data = interpreter.get_tensor(output_details[0][\"index\"])\n",
    "\n",
    "# Display prediction and ground truth\n",
    "top_index = np.argmax(output_data[0])\n",
    "label = labels[top_index]\n",
    "score = output_data[0][top_index]\n",
    "print(\"---prediction---\")\n",
    "print(f\"Class: {label}\\nScore: {score}\")\n",
    "print(\"----truth----\")\n",
    "show_sample(random_audio)"
   ]
  },
  {
   "cell_type": "markdown",
   "metadata": {
    "id": "Sl7Jls5OSLad"
   },
   "source": [
    "If model is exported as bytes and we don't have metadata associated to it, we need to know at least the order of the labels or have the labels.txt generated."
   ]
  },
  {
   "cell_type": "code",
   "execution_count": 40,
   "metadata": {
    "id": "5ocwroDTSKrn"
   },
   "outputs": [],
   "source": [
    "FIXED_SAMPLE_RATE = 44100\n",
    "\n",
    "# Function to run inference on a TFLite model\n",
    "def run_tflite_model(tflite_file, audio_file, labels, print_info=False):\n",
    "\n",
    "  # Initialize the interpreter\n",
    "  interpreter = tf.lite.Interpreter(model_path=str(tflite_file))\n",
    "  interpreter.allocate_tensors()\n",
    "\n",
    "  input_details = interpreter.get_input_details()\n",
    "  output_details = interpreter.get_output_details()\n",
    "  input_size = input_details[0][\"shape\"][1]\n",
    "\n",
    "  sample_rate = FIXED_SAMPLE_RATE\n",
    "  audio_data, _ = librosa.load(audio_file, sr=sample_rate)\n",
    "  if len(audio_data) < input_size:\n",
    "    audio_data.resize(input_size)\n",
    "\n",
    "  # Check if the input type is quantized, then rescale input data to uint8\n",
    "  if input_details[0][\"dtype\"] == np.uint8:\n",
    "    input_scale, input_zero_point = input_details[0][\"quantization\"]\n",
    "    audio_data = audio_data / input_scale + input_zero_point\n",
    "\n",
    "  audio_data = np.expand_dims(audio_data[:input_size], axis=0).astype(input_details[0][\"dtype\"])\n",
    "  interpreter.set_tensor(input_details[0][\"index\"], audio_data)\n",
    "  interpreter.invoke()\n",
    "  output = interpreter.get_tensor(output_details[0][\"index\"])\n",
    "\n",
    "  top_index = np.argmax(output[0])\n",
    "  label = labels[top_index]\n",
    "  score = output[0][top_index]\n",
    "  if print_info:\n",
    "    # Display prediction and ground truth\n",
    "    print(\"---prediction---\")\n",
    "    print(f\"Class: {label}\\nScore: {score}\")\n",
    "    print(\"----truth----\")\n",
    "    show_sample(audio_file)\n",
    "\n",
    "  return top_index"
   ]
  },
  {
   "cell_type": "code",
   "execution_count": 41,
   "metadata": {
    "colab": {
     "base_uri": "https://localhost:8080/",
     "height": 807
    },
    "id": "9bREpJVpENuE",
    "outputId": "55f7f9d9-b4c6-4636-a0f9-5372bcb5ae9a"
   },
   "outputs": [
    {
     "name": "stdout",
     "output_type": "stream",
     "text": [
      "---prediction---\n",
      "Class: 10-aceptar\n",
      "Score: 255\n",
      "----truth----\n",
      "Class: 10-aceptar\n",
      "File: ./dataset-test/10-aceptar/65.wav\n",
      "Sample rate: 16000\n",
      "Sample length: 16000\n"
     ]
    },
    {
     "data": {
      "text/html": [
       "\n",
       "                <audio  controls=\"controls\" >\n",
       "                    <source src=\"data:audio/wav;base64,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\" type=\"audio/wav\" />\n",
       "                    Your browser does not support the audio element.\n",
       "                </audio>\n",
       "              "
      ],
      "text/plain": [
       "<IPython.lib.display.Audio object>"
      ]
     },
     "metadata": {},
     "output_type": "display_data"
    },
    {
     "data": {
      "image/png": "[encoded data removed]",
      "text/plain": [
       "<Figure size 720x720 with 1 Axes>"
      ]
     },
     "metadata": {},
     "output_type": "display_data"
    }
   ],
   "source": [
    "try:\n",
    "  # Reading labels from labels.txt if generated\n",
    "  with open(\"./models/labels.txt\") as f:\n",
    "      labels = f.readlines()\n",
    "  labels = [i.strip() for i in labels]\n",
    "\n",
    "  folders = os.listdir(test_dir)\n",
    "  random_folder = random.choice(list(folders))\n",
    "  random_file = random.choice(os.listdir(os.path.join(test_dir, random_folder).replace(\"\\\\\", \"/\")))\n",
    "  random_file = os.path.join(test_dir, random_folder, random_file).replace(\"\\\\\", \"/\")\n",
    "except:\n",
    "  # Hardcoding the labels in the order in which they have been saved (alphabetically)\n",
    "  labels = [\"00-cero\", \"01-uno\", \"02-dos\", \"03-tres\", \"04-cuatro\", \"05-cinco\", \"06-seis\", \"07-siete\", \"08-ocho\", \"09-nueve\", \"10-aceptar\", \"11-rechazar\", \"12-arriba\", \"13-abajo\", \"14-izquierda\", \"15-derecha\", \"16-si\", \"17-no\"]\n",
    "  random_label = random.choice(labels)\n",
    "  random_file = random.choice(os.listdir(os.path.join(test_dir, random_label).replace(\"\\\\\", \"/\")))\n",
    "  random_file = os.path.join(test_dir, random_label, random_file).replace(\"\\\\\", \"/\")\n",
    "\n",
    "pred_index = run_tflite_model(tflite_quant_file, random_file, labels, print_info=True)"
   ]
  },
  {
   "cell_type": "markdown",
   "metadata": {
    "id": "GweVFCLoK0K6"
   },
   "source": [
    "## Review and compare the quantized model performance"
   ]
  },
  {
   "cell_type": "markdown",
   "metadata": {
    "id": "XxolcKhzjpJM"
   },
   "source": [
    "Let's compare all 3 models."
   ]
  },
  {
   "cell_type": "code",
   "execution_count": 42,
   "metadata": {
    "id": "wY0dHFugKtgl"
   },
   "outputs": [],
   "source": [
    "# Function to evaluate the TFLite model on all set samples\n",
    "def evaluate_tflite_model(tflite_file, set_type, labels, model_type):\n",
    "  predictions = []\n",
    "  truths = []\n",
    "\n",
    "  if set_type == \"train\":\n",
    "    used_dir = dataset_dir\n",
    "  elif set_type == \"test\":\n",
    "    used_dir = test_dir\n",
    "  else:\n",
    "    raise ValueError\n",
    "\n",
    "  for i, label in enumerate(labels):\n",
    "    for filename in os.listdir(os.path.join(used_dir, label).replace(\"\\\\\", \"/\")):\n",
    "      file_full = os.path.join(used_dir, label, filename).replace(\"\\\\\", \"/\")\n",
    "\n",
    "      value = run_tflite_model(tflite_file, file_full, labels, print_info=False)\n",
    "      predictions.append(value)\n",
    "      truths.append(i)\n",
    "\n",
    "  accuracy = sum(1 for x,y in zip(predictions, truths) if x==y)*100 / float(len(predictions))\n",
    "\n",
    "  print(\"%s model accuracy is %.2f%% in %s set (Number of samples=%d)\" % (model_type, accuracy, set_type, len(predictions)))\n",
    "  \n",
    "  return accuracy"
   ]
  },
  {
   "cell_type": "code",
   "execution_count": 43,
   "metadata": {
    "colab": {
     "base_uri": "https://localhost:8080/"
    },
    "id": "r3OBHz7wsE7s",
    "outputId": "d16531f2-3bfe-4736-aada-e95e8c9a6e05"
   },
   "outputs": [
    {
     "name": "stdout",
     "output_type": "stream",
     "text": [
      "Normal TFLite model accuracy is 99.21% in train set (Number of samples=1390)\n"
     ]
    }
   ],
   "source": [
    "# Normal TFLite model on train set\n",
    "acc_tflite_normal_train = evaluate_tflite_model(tflite_file, \"train\", labels, \"Normal TFLite\")"
   ]
  },
  {
   "cell_type": "code",
   "execution_count": 44,
   "metadata": {
    "colab": {
     "base_uri": "https://localhost:8080/"
    },
    "id": "1Go_SR8E5GmS",
    "outputId": "07f1cdae-101f-4172-9797-5ad4429b4e5e"
   },
   "outputs": [
    {
     "name": "stdout",
     "output_type": "stream",
     "text": [
      "Normal TFLite model accuracy is 93.49% in test set (Number of samples=476)\n"
     ]
    }
   ],
   "source": [
    "# Normal TFLite model on test set\n",
    "acc_tflite_normal_test = evaluate_tflite_model(tflite_file, \"test\", labels, \"Normal TFLite\")"
   ]
  },
  {
   "cell_type": "code",
   "execution_count": 45,
   "metadata": {
    "colab": {
     "base_uri": "https://localhost:8080/"
    },
    "id": "3PiXiWtMsEY7",
    "outputId": "097946ed-a0b9-43c5-b93d-df1fbb93f88d"
   },
   "outputs": [
    {
     "name": "stdout",
     "output_type": "stream",
     "text": [
      "Quantized TFLite model accuracy is 97.19% in train set (Number of samples=1390)\n"
     ]
    }
   ],
   "source": [
    "# Quantized TFLite model on train set\n",
    "acc_tflite_quantized_train = evaluate_tflite_model(tflite_quant_file, \"train\", labels, \"Quantized TFLite\")"
   ]
  },
  {
   "cell_type": "code",
   "execution_count": 46,
   "metadata": {
    "colab": {
     "base_uri": "https://localhost:8080/"
    },
    "id": "DDmhs2vMKBrk",
    "outputId": "dbf511a6-5102-4527-e21c-e4b7f9e392fe"
   },
   "outputs": [
    {
     "name": "stdout",
     "output_type": "stream",
     "text": [
      "Quantized TFLite model accuracy is 90.34% in test set (Number of samples=476)\n"
     ]
    }
   ],
   "source": [
    "# Quantized TFLite model on test set\n",
    "acc_tflite_quantized_train = evaluate_tflite_model(tflite_quant_file, \"test\", labels, \"Quantized TFLite\")"
   ]
  },
  {
   "cell_type": "markdown",
   "metadata": {
    "id": "HBBP7wK_r4el"
   },
   "source": [
    "**Original model:**\n",
    "* train -> accuracy: 100%\n",
    "* validation -> accuracy: 93.53%\n",
    "* test -> accuracy: 93.49%\n",
    "\n",
    "**Normal TFLite model:**\n",
    "* train -> accuracy: 99.21%\n",
    "* test -> accuracy: 93.49% \n",
    "\n",
    "**Quantized TFLite model:**\n",
    "* train -> accuracy: 97.19%\n",
    "* test -> loss: accuracy: 90.34%"
   ]
  },
  {
   "cell_type": "markdown",
   "metadata": {
    "id": "VjVUjiCm0OlA"
   },
   "source": [
    "-----"
   ]
  },
  {
   "cell_type": "markdown",
   "metadata": {
    "id": "VtmfoJW6G2fd"
   },
   "source": [
    "## Download the TF Lite models"
   ]
  },
  {
   "cell_type": "code",
   "execution_count": 47,
   "metadata": {
    "colab": {
     "base_uri": "https://localhost:8080/"
    },
    "id": "YqGK8uOO7U8r",
    "outputId": "4b2b0765-a2ff-4e50-eb51-c84ed7c3b95f"
   },
   "outputs": [
    {
     "name": "stdout",
     "output_type": "stream",
     "text": [
      "  adding: models/ (stored 0%)\n",
      "  adding: models/saved_model/ (stored 0%)\n",
      "  adding: models/saved_model/keras_metadata.pb (deflated 94%)\n",
      "  adding: models/saved_model/saved_model.pb (deflated 89%)\n",
      "  adding: models/saved_model/assets/ (stored 0%)\n",
      "  adding: models/saved_model/variables/ (stored 0%)\n",
      "  adding: models/saved_model/variables/variables.data-00000-of-00001 (deflated 7%)\n",
      "  adding: models/saved_model/variables/variables.index (deflated 60%)\n",
      "  adding: models/browserfft-speech.json (deflated 64%)\n",
      "  adding: models/TL_model_quantized_MM_metadata.tflite (deflated 20%)\n",
      "  adding: models/labels.txt (deflated 26%)\n",
      "  adding: models/TL_model_quantized_MM.tflite (deflated 20%)\n",
      "  adding: models/browserfft-speech.tflite (deflated 8%)\n"
     ]
    }
   ],
   "source": [
    "!zip -r ./TL_models_ESP.zip ./models"
   ]
  },
  {
   "cell_type": "code",
   "execution_count": 48,
   "metadata": {
    "colab": {
     "base_uri": "https://localhost:8080/",
     "height": 17
    },
    "id": "cNuQoqtjG4zu",
    "outputId": "036d2b33-3aaf-4062-b5a8-16dd51ed9185"
   },
   "outputs": [
    {
     "data": {
      "application/javascript": "\n    async function download(id, filename, size) {\n      if (!google.colab.kernel.accessAllowed) {\n        return;\n      }\n      const div = document.createElement('div');\n      const label = document.createElement('label');\n      label.textContent = `Downloading \"${filename}\": `;\n      div.appendChild(label);\n      const progress = document.createElement('progress');\n      progress.max = size;\n      div.appendChild(progress);\n      document.body.appendChild(div);\n\n      const buffers = [];\n      let downloaded = 0;\n\n      const channel = await google.colab.kernel.comms.open(id);\n      // Send a message to notify the kernel that we're ready.\n      channel.send({})\n\n      for await (const message of channel.messages) {\n        // Send a message to notify the kernel that we're ready.\n        channel.send({})\n        if (message.buffers) {\n          for (const buffer of message.buffers) {\n            buffers.push(buffer);\n            downloaded += buffer.byteLength;\n            progress.value = downloaded;\n          }\n        }\n      }\n      const blob = new Blob(buffers, {type: 'application/binary'});\n      const a = document.createElement('a');\n      a.href = window.URL.createObjectURL(blob);\n      a.download = filename;\n      div.appendChild(a);\n      a.click();\n      div.remove();\n    }\n  ",
      "text/plain": [
       "<IPython.core.display.Javascript object>"
      ]
     },
     "metadata": {},
     "output_type": "display_data"
    },
    {
     "data": {
      "application/javascript": "download(\"download_f65f32b5-cb3d-4e78-8497-389926a1191f\", \"original_model.png\", 122178)",
      "text/plain": [
       "<IPython.core.display.Javascript object>"
      ]
     },
     "metadata": {},
     "output_type": "display_data"
    },
    {
     "data": {
      "application/javascript": "\n    async function download(id, filename, size) {\n      if (!google.colab.kernel.accessAllowed) {\n        return;\n      }\n      const div = document.createElement('div');\n      const label = document.createElement('label');\n      label.textContent = `Downloading \"${filename}\": `;\n      div.appendChild(label);\n      const progress = document.createElement('progress');\n      progress.max = size;\n      div.appendChild(progress);\n      document.body.appendChild(div);\n\n      const buffers = [];\n      let downloaded = 0;\n\n      const channel = await google.colab.kernel.comms.open(id);\n      // Send a message to notify the kernel that we're ready.\n      channel.send({})\n\n      for await (const message of channel.messages) {\n        // Send a message to notify the kernel that we're ready.\n        channel.send({})\n        if (message.buffers) {\n          for (const buffer of message.buffers) {\n            buffers.push(buffer);\n            downloaded += buffer.byteLength;\n            progress.value = downloaded;\n          }\n        }\n      }\n      const blob = new Blob(buffers, {type: 'application/binary'});\n      const a = document.createElement('a');\n      a.href = window.URL.createObjectURL(blob);\n      a.download = filename;\n      div.appendChild(a);\n      a.click();\n      div.remove();\n    }\n  ",
      "text/plain": [
       "<IPython.core.display.Javascript object>"
      ]
     },
     "metadata": {},
     "output_type": "display_data"
    },
    {
     "data": {
      "application/javascript": "download(\"download_5e9c31c4-a9fa-42b3-9373-c21c20fce227\", \"TL_models_ESP.zip\", 13623862)",
      "text/plain": [
       "<IPython.core.display.Javascript object>"
      ]
     },
     "metadata": {},
     "output_type": "display_data"
    }
   ],
   "source": [
    "try:\n",
    "  from google.colab import files\n",
    "except ImportError:\n",
    "  pass\n",
    "else:\n",
    "  files.download(\"/content/TL_original_model.png\")\n",
    "  files.download(\"/content/TL_models_ESP.zip\")"
   ]
  },
  {
   "cell_type": "markdown",
   "metadata": {
    "id": "iERuGZz4z6rB"
   },
   "source": [
    "Check out our end-to-end example apps that perform inferencing with TFLite audio models on [Android](https://github.com/tensorflow/examples/tree/master/lite/examples/sound_classification/android/) and [iOS](https://github.com/tensorflow/examples/tree/master/lite/examples/sound_classification/ios)."
   ]
  }
 ],
 "metadata": {
  "accelerator": "GPU",
  "colab": {
   "collapsed_sections": [
    "bVlvVq-SkeeO",
    "bAhAfHwiw2_F"
   ],
   "name": "TL_model_maker_speech_recognition_ESP.ipynb",
   "provenance": []
  },
  "gpuClass": "standard",
  "kernelspec": {
   "display_name": "Python 3.10.7 64-bit",
   "language": "python",
   "name": "python3"
  },
  "language_info": {
   "codemirror_mode": {
    "name": "ipython",
    "version": 3
   },
   "file_extension": ".py",
   "mimetype": "text/x-python",
   "name": "python",
   "nbconvert_exporter": "python",
   "pygments_lexer": "ipython3",
   "version": "3.10.7"
  },
  "vscode": {
   "interpreter": {
    "hash": "607db476e417971f05b607c2dd14e77ee8262c2c4c20dea422522c60605a222a"
   }
  }
 },
 "nbformat": 4,
 "nbformat_minor": 1
}
