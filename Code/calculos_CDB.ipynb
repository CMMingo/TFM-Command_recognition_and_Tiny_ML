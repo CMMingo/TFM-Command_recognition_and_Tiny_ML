{
 "cells": [
  {
   "cell_type": "markdown",
   "metadata": {},
   "source": [
    "# Cálculos CDB\n",
    "\n",
    "En este notebook se introducen los tiempos de ejecución de cada modelo en la placa Coral Dev y se calculan las medias y los errores asociados para cada uno."
   ]
  },
  {
   "cell_type": "markdown",
   "metadata": {},
   "source": [
    "Importamos los paquetes que se van a ir utilizando de forma general a lo largo del código."
   ]
  },
  {
   "cell_type": "code",
   "execution_count": 1,
   "metadata": {},
   "outputs": [],
   "source": [
    "import numpy as np"
   ]
  },
  {
   "cell_type": "code",
   "execution_count": 2,
   "metadata": {},
   "outputs": [],
   "source": [
    "CNN_melspecs = [87.5, 84.6, 84.5, 82.2, 82.3]\n",
    "CNN_melspecs_quantized = [76.8, 70.2, 72.8, 69.6, 68.6]\n",
    "CNN_melspecs_edgetpu = [63.4, 61.9, 63.0, 64.6, 63.8]\n",
    "preproc_CNN_melspecs = [163.1-89.0, 135.3-74.7, 131.9-66.6, 148.6-89.4, 137.6-71.3, 134.7-67.8]\n",
    "\n",
    "CNN_MFCCs = [72.1, 73.2, 70.9, 70.1, 71.2]\n",
    "CNN_MFCCs_quantized = [71.1, 71.8, 70.8, 71.2, 69.9]\n",
    "CNN_MFCCs_edgetpu = [71.0, 66.2, 69.5, 69.8, 67.4]\n",
    "preproc_CNN_MFCCs = [138.5-72.1, 142.4-73.5, 131.2-70.9, 136.2-71.6, 143.7-73.8, 128.2-71.2]\n",
    "\n",
    "CNN_raws = [154.0, 148.3, 154.7, 151.5, 148.9]\n",
    "CNN_raws_quantized = [150.1, 143.9, 149.0, 148.5, 147.5]\n",
    "CNN_raws_edgetpu = [153.8, 153.3, 151.2, 150.7, 154.5]\n",
    "preproc_CNN_raws = [217.4-156.3, 224.4-152.1, 220.1-154.3, 218.1-155.5, 217.7-153.4, 211.2-152.9]\n",
    "\n",
    "TL_ESP_model = [382.5, 325.4,  326.7, 333.7, 323.0]\n",
    "TL_ESP_model_quantized = [317.1, 318.3, 314.5, 315.8, 315.2]\n",
    "preproc_TL_ESP_model = [412.3-325.7, 404.6-324.1, 400.0-321-3, 415.0-358.7, 390.3-321.3]"
   ]
  },
  {
   "cell_type": "markdown",
   "metadata": {},
   "source": [
    "# Modelo CNN melspecs\n",
    "\n",
    "Calculamos la media y desviación estándar de las velocidades de ejecución para cada caso."
   ]
  },
  {
   "cell_type": "code",
   "execution_count": 3,
   "metadata": {},
   "outputs": [
    {
     "name": "stdout",
     "output_type": "stream",
     "text": [
      "Modelo CNN melspecs normal:\n",
      "Media: 84.22; Desviación: 1.9363883907935409\n",
      "\n",
      "Modelo CNN melspecs cuantizado:\n",
      "Media: 71.6; Desviación: 2.947541348310487\n",
      "\n",
      "Modelo CNN melspecs cuantizado preparado para edge TPU:\n",
      "Media: 63.339999999999996; Desviación: 0.8935323161475457\n",
      "\n",
      "Preprocesado modelo CNN melspecs:\n",
      "Media: 65.39999999999999; Desviación: 4.83459753581757\n",
      "\n"
     ]
    }
   ],
   "source": [
    "print(f\"Modelo CNN melspecs normal:\\nMedia: {np.mean(CNN_melspecs)}; Desviación: {np.std(CNN_melspecs)}\\n\")\n",
    "print(f\"Modelo CNN melspecs cuantizado:\\nMedia: {np.mean(CNN_melspecs_quantized)}; Desviación: {np.std(CNN_melspecs_quantized)}\\n\")\n",
    "print(f\"Modelo CNN melspecs cuantizado preparado para edge TPU:\\nMedia: {np.mean(CNN_melspecs_edgetpu)}; Desviación: {np.std(CNN_melspecs_edgetpu)}\\n\")\n",
    "print(f\"Preprocesado modelo CNN melspecs:\\nMedia: {np.mean(preproc_CNN_melspecs)}; Desviación: {np.std(preproc_CNN_melspecs)}\\n\")"
   ]
  },
  {
   "cell_type": "markdown",
   "metadata": {},
   "source": [
    "# Modelo CNN MFCCs\n",
    "\n",
    "Calculamos la media y desviación estándar de las velocidades de ejecución para cada caso."
   ]
  },
  {
   "cell_type": "code",
   "execution_count": 4,
   "metadata": {},
   "outputs": [
    {
     "name": "stdout",
     "output_type": "stream",
     "text": [
      "Modelo CNN MFCCs normal:\n",
      "Media: 71.5; Desviación: 1.0639548862616317\n",
      "\n",
      "Modelo CNN MFCCs cuantizado:\n",
      "Media: 70.96; Desviación: 0.6216108107167996\n",
      "\n",
      "Modelo CNN MFCCs cuantizado preparado para edge TPU:\n",
      "Media: 68.78; Desviación: 1.734819875376113\n",
      "\n",
      "Preprocesado modelo CNN MFCCs:\n",
      "Media: 64.51666666666667; Desviación: 4.5830909026793565\n",
      "\n"
     ]
    }
   ],
   "source": [
    "print(f\"Modelo CNN MFCCs normal:\\nMedia: {np.mean(CNN_MFCCs)}; Desviación: {np.std(CNN_MFCCs)}\\n\")\n",
    "print(f\"Modelo CNN MFCCs cuantizado:\\nMedia: {np.mean(CNN_MFCCs_quantized)}; Desviación: {np.std(CNN_MFCCs_quantized)}\\n\")\n",
    "print(f\"Modelo CNN MFCCs cuantizado preparado para edge TPU:\\nMedia: {np.mean(CNN_MFCCs_edgetpu)}; Desviación: {np.std(CNN_MFCCs_edgetpu)}\\n\")\n",
    "print(f\"Preprocesado modelo CNN MFCCs:\\nMedia: {np.mean(preproc_CNN_MFCCs)}; Desviación: {np.std(preproc_CNN_MFCCs)}\\n\")"
   ]
  },
  {
   "cell_type": "markdown",
   "metadata": {},
   "source": [
    "# Modelo CNN raws\n",
    "\n",
    "Calculamos la media y desviación estándar de las velocidades de ejecución para cada caso."
   ]
  },
  {
   "cell_type": "code",
   "execution_count": 5,
   "metadata": {},
   "outputs": [
    {
     "name": "stdout",
     "output_type": "stream",
     "text": [
      "Modelo CNN raws normal:\n",
      "Media: 151.48; Desviación: 2.5879721791394834\n",
      "\n",
      "Modelo CNN raws cuantizado:\n",
      "Media: 147.8; Desviación: 2.122262943181166\n",
      "\n",
      "Modelo CNN raws cuantizado preparado para edge TPU:\n",
      "Media: 152.7; Desviación: 1.4872793954062644\n",
      "\n",
      "Preprocesado modelo CNN raws:\n",
      "Media: 64.06666666666665; Desviación: 4.378990243829691\n",
      "\n"
     ]
    }
   ],
   "source": [
    "print(f\"Modelo CNN raws normal:\\nMedia: {np.mean(CNN_raws)}; Desviación: {np.std(CNN_raws)}\\n\")\n",
    "print(f\"Modelo CNN raws cuantizado:\\nMedia: {np.mean(CNN_raws_quantized)}; Desviación: {np.std(CNN_raws_quantized)}\\n\")\n",
    "print(f\"Modelo CNN raws cuantizado preparado para edge TPU:\\nMedia: {np.mean(CNN_raws_edgetpu)}; Desviación: {np.std(CNN_raws_edgetpu)}\\n\")\n",
    "print(f\"Preprocesado modelo CNN raws:\\nMedia: {np.mean(preproc_CNN_raws)}; Desviación: {np.std(preproc_CNN_raws)}\\n\")"
   ]
  },
  {
   "cell_type": "markdown",
   "metadata": {},
   "source": [
    "# Modelo de TL en español\n",
    "\n",
    "Calculamos la media y desviación estándar de las velocidades de ejecución para cada caso."
   ]
  },
  {
   "cell_type": "code",
   "execution_count": 6,
   "metadata": {},
   "outputs": [
    {
     "name": "stdout",
     "output_type": "stream",
     "text": [
      "Modelo TL normal:\n",
      "Media: 338.26; Desviación: 22.404695936343348\n",
      "\n",
      "Modelo TL cuantizado:\n",
      "Media: 316.18; Desviación: 1.3614697940094083\n",
      "\n",
      "Preprocesaod modelo TL cuantizado:\n",
      "Media: 73.68; Desviación: 10.419097849622107\n"
     ]
    }
   ],
   "source": [
    "print(f\"Modelo TL normal:\\nMedia: {np.mean(TL_ESP_model)}; Desviación: {np.std(TL_ESP_model)}\\n\")\n",
    "print(f\"Modelo TL cuantizado:\\nMedia: {np.mean(TL_ESP_model_quantized)}; Desviación: {np.std(TL_ESP_model_quantized)}\\n\")\n",
    "print(f\"Preprocesaod modelo TL cuantizado:\\nMedia: {np.mean(preproc_TL_ESP_model)}; Desviación: {np.std(preproc_TL_ESP_model)}\")"
   ]
  }
 ],
 "metadata": {
  "kernelspec": {
   "display_name": "Python 3.10.7 64-bit",
   "language": "python",
   "name": "python3"
  },
  "language_info": {
   "codemirror_mode": {
    "name": "ipython",
    "version": 3
   },
   "file_extension": ".py",
   "mimetype": "text/x-python",
   "name": "python",
   "nbconvert_exporter": "python",
   "pygments_lexer": "ipython3",
   "version": "3.10.7"
  },
  "orig_nbformat": 4,
  "vscode": {
   "interpreter": {
    "hash": "607db476e417971f05b607c2dd14e77ee8262c2c4c20dea422522c60605a222a"
   }
  }
 },
 "nbformat": 4,
 "nbformat_minor": 2
}
